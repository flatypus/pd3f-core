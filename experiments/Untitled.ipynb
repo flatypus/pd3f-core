{
 "cells": [
  {
   "cell_type": "code",
   "execution_count": 1,
   "metadata": {},
   "outputs": [],
   "source": [
    "from pathlib import Path\n",
    "\n",
    "import ddd\n"
   ]
  },
  {
   "cell_type": "code",
   "execution_count": 9,
   "metadata": {},
   "outputs": [
    {
     "name": "stdout",
     "output_type": "stream",
     "text": [
      "/Users/user/code/ddd/data/proc_pdf/analog_de/00020_08112014_Stellungnahme_RAK_Koeln_RefE_Bekaempfung_Korruption.pdf\n",
      "> Polling server for the job 8fe7b6c883a2ed246aa79bacf7b4cf...\n",
      ">> Progress percentage: 0\n",
      ">> Progress percentage: 0\n",
      ">> Progress percentage: 0\n",
      ">> Job done!\n"
     ]
    }
   ],
   "source": [
    "output= ddd.run_parsr(\n",
    "            '/Users/user/code/ddd/data/proc_pdf/analog_de/00020_08112014_Stellungnahme_RAK_Koeln_RefE_Bekaempfung_Korruption.pdf',\n",
    "            cleaner_config=[[\"reading-order-detection\", {\"minVerticalGapWidth\": 20}]],\n",
    "            hostname_port=\"192.168.1.3:3001\"\n",
    "        )"
   ]
  },
  {
   "cell_type": "code",
   "execution_count": 10,
   "metadata": {},
   "outputs": [],
   "source": [
    "e = ddd.Export(output)"
   ]
  },
  {
   "cell_type": "code",
   "execution_count": 12,
   "metadata": {},
   "outputs": [],
   "source": [
    "e.save_markdown(\"clean.md\")"
   ]
  },
  {
   "cell_type": "code",
   "execution_count": null,
   "metadata": {},
   "outputs": [],
   "source": [
    "for p in Path(\"../../data/bmjv/\").glob(\"*.pdf\"):\n",
    "    if p.name.startswith(\"00003\"):\n",
    "        print(p.name)\n",
    "        # ddd.run_parsr(\n",
    "        #     str(p),\n",
    "        #     out_dir=\"out/\",\n",
    "        #     cleaner_config=[[\"reading-order-detection\", {\"minVerticalGapWidth\": 20}]],\n",
    "        # )\n",
    "\n",
    "        e = ddd.Export(f\"out/{p.stem}/data.json\")\n",
    "        e.save_markdown(f\"out/{p.stem}/clean.md\")\n",
    "\n",
    "\n",
    "# run.do_parsr(\n",
    "#     \"../data/bmjv/00001_112018_FU_Berlin_Richtlinie_2017_1371.pdf\",\n",
    "#     out_dir=\"out2\",\n",
    "#     cleaner_config=[[\"reading-order-detection\", {\"minVerticalGapWidth\": 20}]],\n",
    "# )\n",
    "\n",
    "\n",
    "# run.do_parsr(\n",
    "#     \"../data/bmjv/01384_011020_Stellungnahme_DRB_RefE__Belaempfung-Rechtsextremismus-Hasskriminalitaet.pdf\",\n",
    "#     out_dir=\"out1\",\n",
    "\n",
    "#     cleaner_config=[[\"reading-order-detection\", {\"minVerticalGapWidth\": 10}]],\n",
    "# )\n",
    "\n",
    "\n",
    "# output.save(\n",
    "#     \"out1/01384_011020_Stellungnahme_DRB_RefE__Belaempfung-Rechtsextremismus-Hasskriminalitaet/data.json\",\n",
    "#     \"d.txt\",\n",
    "# )\n"
   ]
  }
 ],
 "metadata": {
  "kernelspec": {
   "display_name": "Python 3",
   "language": "python",
   "name": "python3"
  },
  "language_info": {
   "codemirror_mode": {
    "name": "ipython",
    "version": 3
   },
   "file_extension": ".py",
   "mimetype": "text/x-python",
   "name": "python",
   "nbconvert_exporter": "python",
   "pygments_lexer": "ipython3",
   "version": "3.8.4"
  }
 },
 "nbformat": 4,
 "nbformat_minor": 4
}
