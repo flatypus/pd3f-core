{
 "cells": [
  {
   "cell_type": "code",
   "execution_count": 1,
   "metadata": {},
   "outputs": [],
   "source": [
    "%reload_ext autoreload\n",
    "%autoreload 2"
   ]
  },
  {
   "cell_type": "code",
   "execution_count": 2,
   "metadata": {},
   "outputs": [],
   "source": [
    "import logging\n",
    "import sys"
   ]
  },
  {
   "cell_type": "code",
   "execution_count": null,
   "metadata": {},
   "outputs": [],
   "source": [
    "# log everything\n",
    "# logging.basicConfig(stream=sys.stdout, level=logging.DEBUG)"
   ]
  },
  {
   "cell_type": "code",
   "execution_count": 3,
   "metadata": {},
   "outputs": [],
   "source": [
    "logger = logging.getLogger('ddd')\n",
    "logger.setLevel(logging.DEBUG)\n",
    "logger.addHandler(logging.StreamHandler())"
   ]
  },
  {
   "cell_type": "code",
   "execution_count": 8,
   "metadata": {},
   "outputs": [],
   "source": [
    "import ddd"
   ]
  },
  {
   "cell_type": "code",
   "execution_count": 9,
   "metadata": {},
   "outputs": [
    {
     "name": "stdout",
     "output_type": "stream",
     "text": [
      "sending PDF to parsr\n",
      "> Polling server for the job 8a928875791bae24a09b9aa6c87c32...\n",
      ">> Progress percentage: 0\n",
      ">> Progress percentage: 0\n",
      ">> Progress percentage: 0\n",
      ">> Progress percentage: 0\n",
      ">> Progress percentage: 0\n",
      ">> Progress percentage: 0\n",
      ">> Progress percentage: 0\n",
      ">> Progress percentage: 0\n",
      ">> Progress percentage: 0\n",
      ">> Progress percentage: 0\n",
      ">> Progress percentage: 0\n",
      ">> Progress percentage: 0\n",
      ">> Progress percentage: 0\n",
      ">> Progress percentage: 0\n",
      ">> Progress percentage: 0\n",
      ">> Progress percentage: 0\n",
      ">> Progress percentage: 0\n",
      ">> Progress percentage: 0\n",
      ">> Progress percentage: 0\n",
      ">> Progress percentage: 0\n",
      ">> Progress percentage: 0\n",
      ">> Progress percentage: 0\n",
      ">> Progress percentage: 0\n",
      ">> Progress percentage: 0\n",
      ">> Progress percentage: 0\n",
      ">> Progress percentage: 0\n",
      ">> Progress percentage: 0\n",
      ">> Progress percentage: 0\n",
      ">> Job done!\n"
     ]
    }
   ],
   "source": [
    "output= ddd.run_parsr(\n",
    "            '/Users/user/code/ddd/data/proc_pdf/analog_de/00104_03232015_Stellungnahme_Genossenschaftsverband_RefE_Bekaempfung_Korruption_Gesundheitswesen.pdf',\n",
    "            cleaner_config=[],\n",
    "            hostname_port=\"localhost:3001\" \n",
    "        )"
   ]
  },
  {
   "cell_type": "code",
   "execution_count": 10,
   "metadata": {},
   "outputs": [
    {
     "name": "stderr",
     "output_type": "stream",
     "text": [
      "media line width: 270.95\n",
      "median line height: 9.56\n",
      "median line space: 2.729999999999987\n",
      "counter width: [(453.65, 2), (453.35, 2), (453.15, 2), (472.25, 2), (471.96, 2)]\n",
      "counter height: [(9.56, 42), (9.98, 22), (12.47, 18), (9.15, 11), (10.39, 9)]\n",
      "counter lineheight: [(3.030000000000003, 6), (3.0300000000000313, 6), (3.0299999999999745, 5), (2.9500000000000064, 3), (2.739999999999986, 2)]\n",
      "exporting pages: 100%|██████████| 3/3 [00:00<00:00, 4190.11it/s]\n",
      "0.9269406392694064 0.7678375829790118\n",
      "removing duplicates\n",
      "0.943683409436834 0.8034417974559087\n",
      "removing duplicates\n",
      "There is enough space on the lext for the next word. So adding a linebreak between ['u']['KYA', 'gol', '(6)', '94)']\n",
      "adding newline here ['u\\n']\n",
      "No next line, but adding space ['KYA', 'gol', '(6)', '94)']\n",
      "There is enough space on the lext for the next word. So adding a linebreak between ['Genossenschaftsverband', 'e.V.', 'Sitz', 'Frankfurt', 'am', 'Main,', 'Vereinsregister-Nummer', '14109']['Vorstand:', 'WP/StB', 'Dipl.-Kfm.', 'Michael', 'Bockelmann', '(Verbandspräsident', 'und', 'Vorstandsvorsitzender),', 'Dipl.-Ök.', 'Klaus', 'Bellmann,']\n",
      "adding newline here ['Genossenschaftsverband', 'e.V.', 'Sitz', 'Frankfurt', 'am', 'Main,', 'Vereinsregister-Nummer', '14109\\n']\n",
      "There is enough space on the lext for the next word. So adding a linebreak between ['WPIStB', 'Dipl.-Betriebsw.', '(FH)', 'Horst', 'Kessel,', 'WP', 'Dipl.-Ök.', 'Rene', 'Rothe,', 'WP/StB', 'Dipl.-Betriebsw.', '(FH)', 'Edgar', 'Schneider']['Vorsitzender', 'des', 'Verbandsrates:', 'Michael', 'Siegers,', 'Stellvertreter:', 'Claus-Rüdiger', 'Bauer']\n",
      "adding newline here ['WPIStB', 'Dipl.-Betriebsw.', '(FH)', 'Horst', 'Kessel,', 'WP', 'Dipl.-Ök.', 'Rene', 'Rothe,', 'WP/StB', 'Dipl.-Betriebsw.', '(FH)', 'Edgar', 'Schneider\\n']\n",
      "There is enough space on the lext for the next word. So adding a linebreak between ['Vorsitzender', 'des', 'Verbandsrates:', 'Michael', 'Siegers,', 'Stellvertreter:', 'Claus-Rüdiger', 'Bauer']['USt-IdNr.:', 'DE', '116688346', 'Bankverbindungen:', 'DZ', 'BANK', 'AG', 'Frankfurt,', 'IBAN', 'DE89', '5006', '0000', '0000', '0127', '00,', 'BIC', 'GENODE55XXX']\n",
      "adding newline here ['Vorsitzender', 'des', 'Verbandsrates:', 'Michael', 'Siegers,', 'Stellvertreter:', 'Claus-Rüdiger', 'Bauer\\n']\n",
      "No next line, but adding \\n ['DZ', 'BANK', 'AG', 'Hannover,', 'IBAN', 'DE62', '2606', '0000', '0000', '0404', '41,', 'BIC', 'GENODEFF250', '-', 'Mitglied', 'der', 'DIERVIFRS', '‚Advisory', 'Group']\n",
      "adding newline here ['DZ', 'BANK', 'AG', 'Hannover,', 'IBAN', 'DE62', '2606', '0000', '0000', '0404', '41,', 'BIC', 'GENODEFF250', '-', 'Mitglied', 'der', 'DIERVIFRS', '‚Advisory', 'Group\\n']\n",
      "exporting pages:   0%|          | 0/3 [00:00<?, ?it/s]testing the lines: \n",
      "['Genossenschafts'] ['BERLIN', '|', 'BRANDENBURG', '|', 'BREMEN', '|', 'HAMBURG', '|', 'HESSEN', '|', 'MECKLENBURG-VORPOMMERN', '|', '.']\n",
      "adding newline here ['Genossenschafts\\n']\n",
      "There is enough space on the lext for the next word. So adding a linebreak between ['BERLIN', '|', 'BRANDENBURG', '|', 'BREMEN', '|', 'HAMBURG', '|', 'HESSEN', '|', 'MECKLENBURG-VORPOMMERN', '|', '.']['Verband', '4']\n",
      "adding newline here ['BERLIN', '|', 'BRANDENBURG', '|', 'BREMEN', '|', 'HAMBURG', '|', 'HESSEN', '|', 'MECKLENBURG-VORPOMMERN', '|', '.\\n']\n",
      "testing the lines: \n",
      "['Verband', '4'] ['NIEDERSACHSEN', '|', 'RHEINLAND-PFALZ', '|', 'SAARLAND', '|', 'SACHSEN', '|', 'SACHSEN-ANHALT', '|', 'SCHLESWIG-HOLSTEIN', '|', 'THURINGEN']\n",
      "adding newline here ['Verband', '4\\n']\n",
      "No next line, but adding \\n ['NIEDERSACHSEN', '|', 'RHEINLAND-PFALZ', '|', 'SAARLAND', '|', 'SACHSEN', '|', 'SACHSEN-ANHALT', '|', 'SCHLESWIG-HOLSTEIN', '|', 'THURINGEN']\n",
      "adding newline here ['NIEDERSACHSEN', '|', 'RHEINLAND-PFALZ', '|', 'SAARLAND', '|', 'SACHSEN', '|', 'SACHSEN-ANHALT', '|', 'SCHLESWIG-HOLSTEIN', '|', 'THURINGEN\\n']\n",
      "testing the lines: \n",
      "['Verwaltungssitz', 'Neu-Isenburg'] ['Wilhelm-Haas-Platz']\n",
      "adding newline here ['Verwaltungssitz', 'Neu-Isenburg\\n']\n",
      "There is enough space on the lext for the next word. So adding a linebreak between ['Wilhelm-Haas-Platz']['63263', 'Neu-Isenburg']\n",
      "adding newline here ['Wilhelm-Haas-Platz\\n']\n",
      "testing the lines: \n",
      "['63263', 'Neu-Isenburg'] ['Genossenschaftsverband', 'e.V.', '-', 'Postfach', '15', '53', '-', '63235', 'Neu-Isenburg']\n",
      "adding newline here ['63263', 'Neu-Isenburg\\n']\n",
      "There is enough space on the lext for the next word. So adding a linebreak between ['Genossenschaftsverband', 'e.V.', '-', 'Postfach', '15', '53', '-', '63235', 'Neu-Isenburg']['www.genossenschaftsverband.de']\n",
      "adding newline here ['Genossenschaftsverband', 'e.V.', '-', 'Postfach', '15', '53', '-', '63235', 'Neu-Isenburg\\n']\n",
      "No next line, but adding \\n ['www.genossenschaftsverband.de']\n",
      "adding newline here ['www.genossenschaftsverband.de\\n']\n",
      "adding newline here ['An', 'den', 'Bundesminister', 'der', 'Justiz', 'und\\n']\n",
      "There is enough space on the lext for the next word. So adding a linebreak between ['Vorstandsstab']['für', 'Verbraucherschutz', 'Barilffierhaus']\n",
      "adding newline here ['Vorstandsstab\\n']\n",
      "lines should be seperated\n",
      "['für', 'Verbraucherschutz', 'Barilffierhaus'] ['Herrn', 'Heiko', 'Maas']\n",
      "adding newline here ['für', 'Verbraucherschutz', 'Barilffierhaus\\n']\n",
      "There is enough space on the lext for the next word. So adding a linebreak between ['Herrn', 'Heiko', 'Maas']['Telefon', '069', '6978-3811']\n",
      "adding newline here ['Herrn', 'Heiko', 'Maas\\n']\n",
      "testing the lines: \n",
      "['Telefon', '069', '6978-3811'] ['11015', 'Berlin']\n",
      "adding newline here ['Telefon', '069', '6978-3811\\n']\n",
      "There is enough space on the lext for the next word. So adding a linebreak between ['11015', 'Berlin']['Telefax', '069', '6978-3427']\n",
      "adding newline here ['11015', 'Berlin\\n']\n",
      "testing the lines: \n",
      "['Telefax', '069', '6978-3427'] ['daniel.illerhaus']\n",
      "adding newline here ['Telefax', '069', '6978-3427\\n']\n",
      "testing the lines: \n",
      "['daniel.illerhaus'] ['@genossenschaftsverband.de']\n",
      "adding newline here ['daniel.illerhaus\\n']\n",
      "No next line, but adding space ['@genossenschaftsverband.de']\n",
      "testing the lines: \n",
      "['23.', 'März', '2015'] ['KJU']\n",
      "adding newline here ['23.', 'März', '2015\\n']\n",
      "No next line, but adding \\n ['KJU']\n",
      "adding newline here ['KJU\\n']\n",
      "removing ['!'] because not alpha num\n",
      "There is enough space on the lext for the next word. So adding a linebreak between ['Stellungnahme', 'zum', 'Gesetzentwurf', 'Korruptionsbekämpfung']None\n",
      "adding newline here ['Stellungnahme', 'zum', 'Gesetzentwurf', 'Korruptionsbekämpfung\\n']\n",
      "testing the lines: \n",
      "['im', 'Gesundheitswesen', 'TEN'] ['Die', 'Genossenschaften']\n",
      "adding newline here ['im', 'Gesundheitswesen', 'TEN\\n']\n",
      "testing the lines: \n",
      "['Die', 'Genossenschaften'] ['m']\n",
      "No next line, but adding \\n ['m']\n",
      "adding newline here ['m\\n']\n",
      "adding newline here ['Sehr', 'geehrter', 'Herr', 'Bundesminister,\\n']\n",
      "No next line, but adding \\n ['könnte.']\n",
      "adding newline here ['könnte.\\n']\n",
      "No next line, but adding \\n ['der', 'Genossenschaftsgedanke', 'im', 'Gesundheitswesen', 'nicht', 'mehr', 'am', 'Leben', 'zu', 'erhalten.']\n",
      "adding newline here ['der', 'Genossenschaftsgedanke', 'im', 'Gesundheitswesen', 'nicht', 'mehr', 'am', 'Leben', 'zu', 'erhalten.\\n']\n",
      "No next line, but adding \\n ['berücksichtigen:']\n",
      "adding newline here ['berücksichtigen:\\n']\n",
      "There is enough space on the lext for the next word. So adding a linebreak between ['=', 'Anerkennung', 'des', 'genossenschaftlichen', 'Geschäftsmodells', 'im', 'Gesundheitswesen']['Getreu', 'der', 'genossenschaftlichen', 'Überzeugung,', 'was', 'einer', 'alleine', 'nicht', 'schafft,', 'schaffen', 'viele,', 'or-']\n",
      "adding newline here ['=', 'Anerkennung', 'des', 'genossenschaftlichen', 'Geschäftsmodells', 'im', 'Gesundheitswesen\\n']\n",
      "No next line, but adding space ['schließen,', 'die', 'den', 'Mitgliedern', 'zu', 'Sonderkonditionen', 'Produkte', 'und', 'Dienstleistungen', 'anbieten.', 'Da-']\n",
      "exporting pages:  33%|███▎      | 1/3 [00:00<00:01,  1.31it/s]No next line, but adding \\n ['die', 'Genossenschaft', 'zu', 'stärken.']\n",
      "adding newline here ['die', 'Genossenschaft', 'zu', 'stärken.\\n']\n",
      "There is enough space on the lext for the next word. So adding a linebreak between ['den', 'Mitgliedern', 'bei', 'Austritt', 'aus', 'der', 'Genossenschaft', 'erstattet', 'wird.']['Wesensmerkmal', 'und', 'Nutzen', 'von', 'Genossenschaften', 'im', 'Gesundheitswesen', 'sind', 'nicht', 'rein', 'wirt-']\n",
      "adding newline here ['den', 'Mitgliedern', 'bei', 'Austritt', 'aus', 'der', 'Genossenschaft', 'erstattet', 'wird.\\n']\n",
      "There is enough space on the lext for the next word. So adding a linebreak between ['sche', 'Versorgung', 'für', 'Patienten', 'beispielsweise', 'in', 'Form', 'von', 'Behandlungspfaden', 'sicher.']['In', 'vielen', 'Bereichen', 'wie', 'z.B.', 'Landwirtschaft,', 'Handwerk,', 'Handel', 'oder', 'Wohnen', 'ist', 'die', 'genossen-']\n",
      "adding newline here ['sche', 'Versorgung', 'für', 'Patienten', 'beispielsweise', 'in', 'Form', 'von', 'Behandlungspfaden', 'sicher.\\n']\n",
      "No next line, but adding \\n ['gebers', 'sein', 'kann,', 'Genossenschaften', 'den', 'Zugang', 'zu', 'diesem', 'Feld', 'zu', 'erschweren.']\n",
      "adding newline here ['gebers', 'sein', 'kann,', 'Genossenschaften', 'den', 'Zugang', 'zu', 'diesem', 'Feld', 'zu', 'erschweren.\\n']\n",
      "adding newline here ['\"', 'Rechtssicherheit', 'schaffen', '-', 'klare', 'Definitionen', 'und', 'Formulierungen\\n']\n",
      "There is enough space on the lext for the next word. So adding a linebreak between ['1)', '\"in', 'unlauterer', 'Weise\"']['Es', 'ist', 'notwendig,', 'das', 'Adjektiv', '\"unlauter\"', 'mit', 'Bezug', 'auf', 'das', 'Gesundheitswesen', 'zu', 'präzisieren', 'und']\n",
      "adding newline here ['1)', '\"in', 'unlauterer', 'Weise\"\\n']\n",
      "No next line, but adding \\n ['lassene', 'Ärzte,', 'Apotheker', 'oder', 'Angehörige', 'weiterer', 'Heilberufe.', '°']\n",
      "adding newline here ['lassene', 'Ärzte,', 'Apotheker', 'oder', 'Angehörige', 'weiterer', 'Heilberufe.', '°\\n']\n",
      "There is enough space on the lext for the next word. So adding a linebreak between ['2)', '\"in', 'sonstiger', 'Weise', 'seine', 'Berufsausübungspflichten', 'verletze\"']['Die', 'Ausführungen', 'unter', 'Punkt', '1', 'gelten', 'in', 'analoger', 'Weise', 'für', 'die', 'Formulierung', '\"in', 'sonstiger', 'Weise']\n",
      "adding newline here ['2)', '\"in', 'sonstiger', 'Weise', 'seine', 'Berufsausübungspflichten', 'verletze\"\\n']\n",
      "No next line, but adding \\n ['gen', 'werden.']\n",
      "adding newline here ['gen', 'werden.\\n']\n",
      "exporting pages:  67%|██████▋   | 2/3 [00:01<00:00,  1.60it/s]There is enough space on the lext for the next word. So adding a linebreak between ['3)', '\"gewerbsmäßig', 'oder', 'als', 'Mitglied', 'einer', 'Bande\"']['Hier', 'muss', 'dringend', 'klargestellt', 'werden,', 'ob', 'und', 'in', 'wie', 'weit', 'die', 'Mitglieder,', 'Vorstandsmitglieder,']\n",
      "adding newline here ['3)', '\"gewerbsmäßig', 'oder', 'als', 'Mitglied', 'einer', 'Bande\"\\n']\n",
      "No next line, but adding \\n ['einer', 'Bande', 'handeln', '(können).']\n",
      "adding newline here ['einer', 'Bande', 'handeln', '(können).\\n']\n",
      "There is enough space on the lext for the next word. So adding a linebreak between ['4)', 'Rabatte,', 'Skonti,', 'Boni']['Wie', 'stellt', 'sich', 'die', 'Situation', 'dar,', 'wenn', 'Lieferanten', 'Rabatte,', 'Skonti', 'und/oder', 'Boni', 'gewähren']\n",
      "adding newline here ['4)', 'Rabatte,', 'Skonti,', 'Boni\\n']\n",
      "There is enough space on the lext for the next word. So adding a linebreak between ['Wie', 'stellt', 'sich', 'die', 'Situation', 'dar,', 'wenn', 'Lieferanten', 'Rabatte,', 'Skonti', 'und/oder', 'Boni', 'gewähren']['-', 'bei', 'Praxisbedarf,', 'der', 'in', 'die', 'Produktkategorien', 'des', '8', '299a', 'fällt;']\n",
      "adding newline here ['Wie', 'stellt', 'sich', 'die', 'Situation', 'dar,', 'wenn', 'Lieferanten', 'Rabatte,', 'Skonti', 'und/oder', 'Boni', 'gewähren\\n']\n",
      "There is enough space on the lext for the next word. So adding a linebreak between ['-', 'bei', 'Praxisbedarf,', 'der', 'in', 'die', 'Produktkategorien', 'des', '8', '299a', 'fällt;']['-', 'bei', 'Produkten,', 'die', 'in', 'die', 'Produktkategorien', 'des', '$', '299a', 'fallen', '(z.B.', 'Katheter,', 'Zangen,', 'Sonden,']\n",
      "adding newline here ['-', 'bei', 'Praxisbedarf,', 'der', 'in', 'die', 'Produktkategorien', 'des', '8', '299a', 'fällt;\\n']\n",
      "No next line, but adding \\n ['Rahmen', 'von', 'integrierten', 'Versorgungsverträgen,', 'sind?']\n",
      "adding newline here ['Rahmen', 'von', 'integrierten', 'Versorgungsverträgen,', 'sind?\\n']\n",
      "No next line, but adding \\n ['den', 'weiteren', '2300', 'Genossenschaften', 'in', 'unserem', 'Verbandsgebiet,', 'zur', 'Verfügung.']\n",
      "adding newline here ['den', 'weiteren', '2300', 'Genossenschaften', 'in', 'unserem', 'Verbandsgebiet,', 'zur', 'Verfügung.\\n']\n",
      "adding newline here ['Mit', 'freundlichen', 'Grüßen\\n']\n",
      "There is enough space on the lext for the next word. So adding a linebreak between ['Genossenschaftsverband', 'e.V.']['a']\n",
      "adding newline here ['Genossenschaftsverband', 'e.V.\\n']\n",
      "No next line, but adding \\n ['a']\n",
      "adding newline here ['a\\n']\n",
      "No next line, but adding space ['Verbandsdirektor', 'Stv.', 'Leiter', 'Vorstandsstab']\n",
      "exporting pages: 100%|██████████| 3/3 [00:01<00:00,  2.39it/s]\n",
      "trying to reverse page breaks: 0it [00:00, ?it/s]the last element has 1 newlines. Do not try to join with the next one.\n",
      "the last element has 2 newlines. Do not try to join with the next one.\n",
      "trying to reverse page breaks: 2it [00:00, 119.71it/s]\n"
     ]
    }
   ],
   "source": [
    "e = ddd.Export(output)"
   ]
  },
  {
   "cell_type": "code",
   "execution_count": null,
   "metadata": {},
   "outputs": [],
   "source": []
  }
 ],
 "metadata": {
  "kernelspec": {
   "display_name": "Python 3",
   "language": "python",
   "name": "python3"
  },
  "language_info": {
   "codemirror_mode": {
    "name": "ipython",
    "version": 3
   },
   "file_extension": ".py",
   "mimetype": "text/x-python",
   "name": "python",
   "nbconvert_exporter": "python",
   "pygments_lexer": "ipython3",
   "version": "3.8.4"
  }
 },
 "nbformat": 4,
 "nbformat_minor": 4
}
