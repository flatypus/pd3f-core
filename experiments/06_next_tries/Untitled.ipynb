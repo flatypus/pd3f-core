{
 "cells": [
  {
   "cell_type": "code",
   "execution_count": 2,
   "metadata": {},
   "outputs": [],
   "source": [
    "%reload_ext autoreload\n",
    "%autoreload 2"
   ]
  },
  {
   "cell_type": "code",
   "execution_count": 3,
   "metadata": {},
   "outputs": [],
   "source": [
    "import logging\n",
    "import sys"
   ]
  },
  {
   "cell_type": "code",
   "execution_count": 4,
   "metadata": {},
   "outputs": [],
   "source": [
    "# log everything\n",
    "# logging.basicConfig(stream=sys.stdout, level=logging.DEBUG)"
   ]
  },
  {
   "cell_type": "code",
   "execution_count": 5,
   "metadata": {},
   "outputs": [],
   "source": [
    "logger = logging.getLogger('ddd')\n",
    "logger.setLevel(logging.DEBUG)\n",
    "logger.addHandler(logging.StreamHandler())"
   ]
  },
  {
   "cell_type": "code",
   "execution_count": 6,
   "metadata": {},
   "outputs": [],
   "source": [
    "import ddd"
   ]
  },
  {
   "cell_type": "code",
   "execution_count": 7,
   "metadata": {},
   "outputs": [
    {
     "name": "stdout",
     "output_type": "stream",
     "text": [
      "sending PDF to parsr\n",
      "> Polling server for the job a86fb4f1ca1adffa88679726bffdda...\n",
      ">> Progress percentage: 0\n",
      ">> Progress percentage: 0\n",
      ">> Progress percentage: 0\n",
      ">> Progress percentage: 0\n",
      ">> Progress percentage: 0\n",
      ">> Progress percentage: 0\n",
      ">> Progress percentage: 0\n",
      ">> Progress percentage: 0\n",
      ">> Progress percentage: 0\n",
      ">> Progress percentage: 0\n",
      ">> Progress percentage: 0\n",
      ">> Progress percentage: 0\n",
      ">> Progress percentage: 0\n",
      ">> Progress percentage: 0\n",
      ">> Progress percentage: 0\n",
      ">> Progress percentage: 0\n",
      ">> Progress percentage: 0\n",
      ">> Progress percentage: 0\n",
      ">> Progress percentage: 0\n",
      ">> Progress percentage: 0\n",
      ">> Progress percentage: 0\n",
      ">> Progress percentage: 0\n",
      ">> Progress percentage: 0\n",
      ">> Job done!\n"
     ]
    }
   ],
   "source": [
    "output= ddd.run_parsr(\n",
    "            '/Users/user/code/ddd/data/proc_pdf/analog_de/00104_03232015_Stellungnahme_Genossenschaftsverband_RefE_Bekaempfung_Korruption_Gesundheitswesen.pdf',\n",
    "            cleaner_config=[],\n",
    "            hostname_port=\"localhost:3001\" \n",
    "        )"
   ]
  },
  {
   "cell_type": "code",
   "execution_count": null,
   "metadata": {},
   "outputs": [
    {
     "name": "stderr",
     "output_type": "stream",
     "text": [
      "media line width: 270.95\n",
      "median line height: 9.56\n",
      "median line space: 2.729999999999987\n",
      "counter width: [(453.65, 2), (453.35, 2), (453.15, 2), (472.25, 2), (471.96, 2)]\n",
      "counter height: [(9.56, 42), (9.98, 22), (12.47, 18), (9.15, 11), (10.39, 9)]\n",
      "counter lineheight: [(3.030000000000003, 6), (3.0300000000000313, 6), (3.0299999999999745, 5), (2.9500000000000064, 3), (2.739999999999986, 2)]\n",
      "exporting pages: 100%|██████████| 3/3 [00:00<00:00, 1029.45it/s]\n",
      "footer/header sims 0.9269406392694064 0.7678375829790118\n",
      "items are super similiar\n"
     ]
    }
   ],
   "source": [
    "e = ddd.Export(output)"
   ]
  },
  {
   "cell_type": "code",
   "execution_count": null,
   "metadata": {},
   "outputs": [],
   "source": []
  },
  {
   "cell_type": "code",
   "execution_count": null,
   "metadata": {},
   "outputs": [],
   "source": []
  }
 ],
 "metadata": {
  "kernelspec": {
   "display_name": "Python 3",
   "language": "python",
   "name": "python3"
  },
  "language_info": {
   "codemirror_mode": {
    "name": "ipython",
    "version": 3
   },
   "file_extension": ".py",
   "mimetype": "text/x-python",
   "name": "python",
   "nbconvert_exporter": "python",
   "pygments_lexer": "ipython3",
   "version": "3.8.4"
  }
 },
 "nbformat": 4,
 "nbformat_minor": 4
}
