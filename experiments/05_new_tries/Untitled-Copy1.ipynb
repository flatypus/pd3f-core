{
 "cells": [
  {
   "cell_type": "code",
   "execution_count": 15,
   "metadata": {},
   "outputs": [],
   "source": [
    "%reload_ext autoreload\n",
    "%autoreload 2"
   ]
  },
  {
   "cell_type": "code",
   "execution_count": 16,
   "metadata": {},
   "outputs": [],
   "source": [
    "from pathlib import Path\n",
    "\n",
    "import ddd"
   ]
  },
  {
   "cell_type": "code",
   "execution_count": 17,
   "metadata": {},
   "outputs": [
    {
     "name": "stdout",
     "output_type": "stream",
     "text": [
      "sending PDF to parsr\n",
      "> Polling server for the job d6932879bc7c5bae372d85f3d227dc...\n",
      ">> Progress percentage: 0\n",
      ">> Progress percentage: 0\n",
      ">> Progress percentage: 0\n",
      ">> Progress percentage: 0\n",
      ">> Progress percentage: 0\n",
      ">> Progress percentage: 0\n",
      ">> Progress percentage: 0\n",
      ">> Progress percentage: 0\n",
      ">> Progress percentage: 0\n",
      ">> Progress percentage: 0\n",
      ">> Progress percentage: 0\n",
      ">> Progress percentage: 0\n",
      ">> Job done!\n"
     ]
    }
   ],
   "source": [
    "output= ddd.run_parsr(\n",
    "            '/Users/user/code/ddd/data/proc_pdf/analog_de/00104_03232015_Stellungnahme_Genossenschaftsverband_RefE_Bekaempfung_Korruption_Gesundheitswesen.pdf',\n",
    "            cleaner_config=[],\n",
    "            hostname_port=\"localhost:3001\" \n",
    "        )"
   ]
  },
  {
   "cell_type": "code",
   "execution_count": 18,
   "metadata": {},
   "outputs": [],
   "source": [
    "# output= ddd.run_parsr(\n",
    "#             '/Users/user/code/ddd/data/proc_pdf/analog_de/00027_11232014_Stellungnahme_NADA_Externer_DSB_RefE_AntiDopG.pdf',\n",
    "#             cleaner_config=[],\n",
    "#             hostname_port=\"localhost:3001\"\n",
    "#         )"
   ]
  },
  {
   "cell_type": "code",
   "execution_count": 22,
   "metadata": {},
   "outputs": [
    {
     "name": "stderr",
     "output_type": "stream",
     "text": [
      "exporting pages: 100%|██████████| 3/3 [00:00<00:00, 3699.77it/s]\n",
      "exporting pages:   0%|          | 0/3 [00:00<?, ?it/s]"
     ]
    },
    {
     "name": "stdout",
     "output_type": "stream",
     "text": [
      "media line width: 270.95\n",
      "median line height: 9.56\n",
      "median line space: 2.729999999999987\n",
      "counter width:  [(453.65, 2), (453.35, 2), (453.15, 2)]\n",
      "counter height:  [(9.56, 42), (9.98, 22), (12.47, 18)]\n",
      "counter lineheight:  [(3.030000000000003, 6), (3.0300000000000313, 6), (3.0299999999999745, 5)]\n",
      "0\n",
      "1\n",
      "2\n",
      "0.9269406392694064 0.7678375829790118\n",
      "removing duplicates\n",
      "0.943683409436834 0.8034417974559087\n",
      "removing duplicates\n",
      "There is enough space on the lext for the next word. So adding a linebreak between ['u']['KYA', 'gol', '(6)', '94)']\n",
      "adding newline here ['u\\n']\n",
      "No next line, but adding space ['KYA', 'gol', '(6)', '94)']\n",
      "There is enough space on the lext for the next word. So adding a linebreak between ['Genossenschaftsverband', 'e.V.', 'Sitz', 'Frankfurt', 'am', 'Main,', 'Vereinsregister-Nummer', '14109']['Vorstand:', 'WP/StB', 'Dipl.-Kfm.', 'Michael', 'Bockelmann', '(Verbandspräsident', 'und', 'Vorstandsvorsitzender),', 'Dipl.-Ök.', 'Klaus', 'Bellmann,']\n",
      "adding newline here ['Genossenschaftsverband', 'e.V.', 'Sitz', 'Frankfurt', 'am', 'Main,', 'Vereinsregister-Nummer', '14109\\n']\n",
      "There is enough space on the lext for the next word. So adding a linebreak between ['WPIStB', 'Dipl.-Betriebsw.', '(FH)', 'Horst', 'Kessel,', 'WP', 'Dipl.-Ök.', 'Rene', 'Rothe,', 'WP/StB', 'Dipl.-Betriebsw.', '(FH)', 'Edgar', 'Schneider']['Vorsitzender', 'des', 'Verbandsrates:', 'Michael', 'Siegers,', 'Stellvertreter:', 'Claus-Rüdiger', 'Bauer']\n",
      "adding newline here ['WPIStB', 'Dipl.-Betriebsw.', '(FH)', 'Horst', 'Kessel,', 'WP', 'Dipl.-Ök.', 'Rene', 'Rothe,', 'WP/StB', 'Dipl.-Betriebsw.', '(FH)', 'Edgar', 'Schneider\\n']\n",
      "There is enough space on the lext for the next word. So adding a linebreak between ['Vorsitzender', 'des', 'Verbandsrates:', 'Michael', 'Siegers,', 'Stellvertreter:', 'Claus-Rüdiger', 'Bauer']['USt-IdNr.:', 'DE', '116688346', 'Bankverbindungen:', 'DZ', 'BANK', 'AG', 'Frankfurt,', 'IBAN', 'DE89', '5006', '0000', '0000', '0127', '00,', 'BIC', 'GENODE55XXX']\n",
      "adding newline here ['Vorsitzender', 'des', 'Verbandsrates:', 'Michael', 'Siegers,', 'Stellvertreter:', 'Claus-Rüdiger', 'Bauer\\n']\n",
      "No next line, but adding \\n ['DZ', 'BANK', 'AG', 'Hannover,', 'IBAN', 'DE62', '2606', '0000', '0000', '0404', '41,', 'BIC', 'GENODEFF250', '-', 'Mitglied', 'der', 'DIERVIFRS', '‚Advisory', 'Group']\n",
      "adding newline here ['DZ', 'BANK', 'AG', 'Hannover,', 'IBAN', 'DE62', '2606', '0000', '0000', '0404', '41,', 'BIC', 'GENODEFF250', '-', 'Mitglied', 'der', 'DIERVIFRS', '‚Advisory', 'Group\\n']\n",
      "testing the lines: \n",
      "['Genossenschafts'] ['BERLIN', '|', 'BRANDENBURG', '|', 'BREMEN', '|', 'HAMBURG', '|', 'HESSEN', '|', 'MECKLENBURG-VORPOMMERN', '|', '.']\n",
      "adding newline here ['Genossenschafts\\n']\n",
      "There is enough space on the lext for the next word. So adding a linebreak between ['BERLIN', '|', 'BRANDENBURG', '|', 'BREMEN', '|', 'HAMBURG', '|', 'HESSEN', '|', 'MECKLENBURG-VORPOMMERN', '|', '.']['Verband', '4']\n",
      "adding newline here ['BERLIN', '|', 'BRANDENBURG', '|', 'BREMEN', '|', 'HAMBURG', '|', 'HESSEN', '|', 'MECKLENBURG-VORPOMMERN', '|', '.\\n']\n",
      "testing the lines: \n",
      "['Verband', '4'] ['NIEDERSACHSEN', '|', 'RHEINLAND-PFALZ', '|', 'SAARLAND', '|', 'SACHSEN', '|', 'SACHSEN-ANHALT', '|', 'SCHLESWIG-HOLSTEIN', '|', 'THURINGEN']\n",
      "adding newline here ['Verband', '4\\n']\n",
      "No next line, but adding \\n ['NIEDERSACHSEN', '|', 'RHEINLAND-PFALZ', '|', 'SAARLAND', '|', 'SACHSEN', '|', 'SACHSEN-ANHALT', '|', 'SCHLESWIG-HOLSTEIN', '|', 'THURINGEN']\n",
      "adding newline here ['NIEDERSACHSEN', '|', 'RHEINLAND-PFALZ', '|', 'SAARLAND', '|', 'SACHSEN', '|', 'SACHSEN-ANHALT', '|', 'SCHLESWIG-HOLSTEIN', '|', 'THURINGEN\\n']\n",
      "testing the lines: \n",
      "['Verwaltungssitz', 'Neu-Isenburg'] ['Wilhelm-Haas-Platz']\n",
      "adding newline here ['Verwaltungssitz', 'Neu-Isenburg\\n']\n",
      "There is enough space on the lext for the next word. So adding a linebreak between ['Wilhelm-Haas-Platz']['63263', 'Neu-Isenburg']\n",
      "adding newline here ['Wilhelm-Haas-Platz\\n']\n",
      "testing the lines: \n",
      "['63263', 'Neu-Isenburg'] ['Genossenschaftsverband', 'e.V.', '-', 'Postfach', '15', '53', '-', '63235', 'Neu-Isenburg']\n",
      "adding newline here ['63263', 'Neu-Isenburg\\n']\n",
      "There is enough space on the lext for the next word. So adding a linebreak between ['Genossenschaftsverband', 'e.V.', '-', 'Postfach', '15', '53', '-', '63235', 'Neu-Isenburg']['www.genossenschaftsverband.de']\n",
      "adding newline here ['Genossenschaftsverband', 'e.V.', '-', 'Postfach', '15', '53', '-', '63235', 'Neu-Isenburg\\n']\n",
      "No next line, but adding \\n ['www.genossenschaftsverband.de']\n",
      "adding newline here ['www.genossenschaftsverband.de\\n']\n",
      "adding newline here ['An', 'den', 'Bundesminister', 'der', 'Justiz', 'und\\n']\n",
      "There is enough space on the lext for the next word. So adding a linebreak between ['Vorstandsstab']['für', 'Verbraucherschutz', 'Barilffierhaus']\n",
      "adding newline here ['Vorstandsstab\\n']\n",
      "lines should be seperated\n",
      "['für', 'Verbraucherschutz', 'Barilffierhaus'] ['Herrn', 'Heiko', 'Maas']\n",
      "adding newline here ['für', 'Verbraucherschutz', 'Barilffierhaus\\n']\n",
      "There is enough space on the lext for the next word. So adding a linebreak between ['Herrn', 'Heiko', 'Maas']['Telefon', '069', '6978-3811']\n",
      "adding newline here ['Herrn', 'Heiko', 'Maas\\n']\n",
      "testing the lines: \n",
      "['Telefon', '069', '6978-3811'] ['11015', 'Berlin']\n",
      "adding newline here ['Telefon', '069', '6978-3811\\n']\n",
      "There is enough space on the lext for the next word. So adding a linebreak between ['11015', 'Berlin']['Telefax', '069', '6978-3427']\n",
      "adding newline here ['11015', 'Berlin\\n']\n",
      "testing the lines: \n",
      "['Telefax', '069', '6978-3427'] ['daniel.illerhaus']\n",
      "adding newline here ['Telefax', '069', '6978-3427\\n']\n",
      "testing the lines: \n",
      "['daniel.illerhaus'] ['@genossenschaftsverband.de']\n",
      "adding newline here ['daniel.illerhaus\\n']\n",
      "No next line, but adding space ['@genossenschaftsverband.de']\n",
      "testing the lines: \n",
      "['23.', 'März', '2015'] ['KJU']\n",
      "adding newline here ['23.', 'März', '2015\\n']\n",
      "No next line, but adding \\n ['KJU']\n",
      "adding newline here ['KJU\\n']\n",
      "removing ['!'] because not alpha num\n",
      "There is enough space on the lext for the next word. So adding a linebreak between ['Stellungnahme', 'zum', 'Gesetzentwurf', 'Korruptionsbekämpfung']None\n",
      "adding newline here ['Stellungnahme', 'zum', 'Gesetzentwurf', 'Korruptionsbekämpfung\\n']\n",
      "testing the lines: \n",
      "['im', 'Gesundheitswesen', 'TEN'] ['Die', 'Genossenschaften']\n"
     ]
    },
    {
     "name": "stderr",
     "output_type": "stream",
     "text": [
      "exporting pages: 100%|██████████| 3/3 [00:12<00:00,  4.28s/it]\n",
      "trying to reverse page breaks: 2it [00:00, 447.13it/s]"
     ]
    },
    {
     "name": "stdout",
     "output_type": "stream",
     "text": [
      "adding newline here ['im', 'Gesundheitswesen', 'TEN\\n']\n",
      "testing the lines: \n",
      "['Die', 'Genossenschaften'] ['m']\n",
      "No next line, but adding \\n ['m']\n",
      "adding newline here ['m\\n']\n",
      "adding newline here ['Sehr', 'geehrter', 'Herr', 'Bundesminister,\\n']\n",
      "No next line, but adding \\n ['könnte.']\n",
      "adding newline here ['könnte.\\n']\n",
      "No next line, but adding \\n ['der', 'Genossenschaftsgedanke', 'im', 'Gesundheitswesen', 'nicht', 'mehr', 'am', 'Leben', 'zu', 'erhalten.']\n",
      "adding newline here ['der', 'Genossenschaftsgedanke', 'im', 'Gesundheitswesen', 'nicht', 'mehr', 'am', 'Leben', 'zu', 'erhalten.\\n']\n",
      "No next line, but adding \\n ['berücksichtigen:']\n",
      "adding newline here ['berücksichtigen:\\n']\n",
      "There is enough space on the lext for the next word. So adding a linebreak between ['=', 'Anerkennung', 'des', 'genossenschaftlichen', 'Geschäftsmodells', 'im', 'Gesundheitswesen']['Getreu', 'der', 'genossenschaftlichen', 'Überzeugung,', 'was', 'einer', 'alleine', 'nicht', 'schafft,', 'schaffen', 'viele,', 'or-']\n",
      "adding newline here ['=', 'Anerkennung', 'des', 'genossenschaftlichen', 'Geschäftsmodells', 'im', 'Gesundheitswesen\\n']\n",
      "No next line, but adding space ['schließen,', 'die', 'den', 'Mitgliedern', 'zu', 'Sonderkonditionen', 'Produkte', 'und', 'Dienstleistungen', 'anbieten.', 'Da-']\n",
      "No next line, but adding \\n ['die', 'Genossenschaft', 'zu', 'stärken.']\n",
      "adding newline here ['die', 'Genossenschaft', 'zu', 'stärken.\\n']\n",
      "There is enough space on the lext for the next word. So adding a linebreak between ['den', 'Mitgliedern', 'bei', 'Austritt', 'aus', 'der', 'Genossenschaft', 'erstattet', 'wird.']['Wesensmerkmal', 'und', 'Nutzen', 'von', 'Genossenschaften', 'im', 'Gesundheitswesen', 'sind', 'nicht', 'rein', 'wirt-']\n",
      "adding newline here ['den', 'Mitgliedern', 'bei', 'Austritt', 'aus', 'der', 'Genossenschaft', 'erstattet', 'wird.\\n']\n",
      "There is enough space on the lext for the next word. So adding a linebreak between ['sche', 'Versorgung', 'für', 'Patienten', 'beispielsweise', 'in', 'Form', 'von', 'Behandlungspfaden', 'sicher.']['In', 'vielen', 'Bereichen', 'wie', 'z.B.', 'Landwirtschaft,', 'Handwerk,', 'Handel', 'oder', 'Wohnen', 'ist', 'die', 'genossen-']\n",
      "adding newline here ['sche', 'Versorgung', 'für', 'Patienten', 'beispielsweise', 'in', 'Form', 'von', 'Behandlungspfaden', 'sicher.\\n']\n",
      "No next line, but adding \\n ['gebers', 'sein', 'kann,', 'Genossenschaften', 'den', 'Zugang', 'zu', 'diesem', 'Feld', 'zu', 'erschweren.']\n",
      "adding newline here ['gebers', 'sein', 'kann,', 'Genossenschaften', 'den', 'Zugang', 'zu', 'diesem', 'Feld', 'zu', 'erschweren.\\n']\n",
      "adding newline here ['\"', 'Rechtssicherheit', 'schaffen', '-', 'klare', 'Definitionen', 'und', 'Formulierungen\\n']\n",
      "There is enough space on the lext for the next word. So adding a linebreak between ['1)', '\"in', 'unlauterer', 'Weise\"']['Es', 'ist', 'notwendig,', 'das', 'Adjektiv', '\"unlauter\"', 'mit', 'Bezug', 'auf', 'das', 'Gesundheitswesen', 'zu', 'präzisieren', 'und']\n",
      "adding newline here ['1)', '\"in', 'unlauterer', 'Weise\"\\n']\n",
      "No next line, but adding \\n ['lassene', 'Ärzte,', 'Apotheker', 'oder', 'Angehörige', 'weiterer', 'Heilberufe.', '°']\n",
      "adding newline here ['lassene', 'Ärzte,', 'Apotheker', 'oder', 'Angehörige', 'weiterer', 'Heilberufe.', '°\\n']\n",
      "There is enough space on the lext for the next word. So adding a linebreak between ['2)', '\"in', 'sonstiger', 'Weise', 'seine', 'Berufsausübungspflichten', 'verletze\"']['Die', 'Ausführungen', 'unter', 'Punkt', '1', 'gelten', 'in', 'analoger', 'Weise', 'für', 'die', 'Formulierung', '\"in', 'sonstiger', 'Weise']\n",
      "adding newline here ['2)', '\"in', 'sonstiger', 'Weise', 'seine', 'Berufsausübungspflichten', 'verletze\"\\n']\n",
      "No next line, but adding \\n ['gen', 'werden.']\n",
      "adding newline here ['gen', 'werden.\\n']\n",
      "There is enough space on the lext for the next word. So adding a linebreak between ['3)', '\"gewerbsmäßig', 'oder', 'als', 'Mitglied', 'einer', 'Bande\"']['Hier', 'muss', 'dringend', 'klargestellt', 'werden,', 'ob', 'und', 'in', 'wie', 'weit', 'die', 'Mitglieder,', 'Vorstandsmitglieder,']\n",
      "adding newline here ['3)', '\"gewerbsmäßig', 'oder', 'als', 'Mitglied', 'einer', 'Bande\"\\n']\n",
      "No next line, but adding \\n ['einer', 'Bande', 'handeln', '(können).']\n",
      "adding newline here ['einer', 'Bande', 'handeln', '(können).\\n']\n",
      "There is enough space on the lext for the next word. So adding a linebreak between ['4)', 'Rabatte,', 'Skonti,', 'Boni']['Wie', 'stellt', 'sich', 'die', 'Situation', 'dar,', 'wenn', 'Lieferanten', 'Rabatte,', 'Skonti', 'und/oder', 'Boni', 'gewähren']\n",
      "adding newline here ['4)', 'Rabatte,', 'Skonti,', 'Boni\\n']\n",
      "There is enough space on the lext for the next word. So adding a linebreak between ['Wie', 'stellt', 'sich', 'die', 'Situation', 'dar,', 'wenn', 'Lieferanten', 'Rabatte,', 'Skonti', 'und/oder', 'Boni', 'gewähren']['-', 'bei', 'Praxisbedarf,', 'der', 'in', 'die', 'Produktkategorien', 'des', '8', '299a', 'fällt;']\n",
      "adding newline here ['Wie', 'stellt', 'sich', 'die', 'Situation', 'dar,', 'wenn', 'Lieferanten', 'Rabatte,', 'Skonti', 'und/oder', 'Boni', 'gewähren\\n']\n",
      "There is enough space on the lext for the next word. So adding a linebreak between ['-', 'bei', 'Praxisbedarf,', 'der', 'in', 'die', 'Produktkategorien', 'des', '8', '299a', 'fällt;']['-', 'bei', 'Produkten,', 'die', 'in', 'die', 'Produktkategorien', 'des', '$', '299a', 'fallen', '(z.B.', 'Katheter,', 'Zangen,', 'Sonden,']\n",
      "adding newline here ['-', 'bei', 'Praxisbedarf,', 'der', 'in', 'die', 'Produktkategorien', 'des', '8', '299a', 'fällt;\\n']\n",
      "No next line, but adding \\n ['Rahmen', 'von', 'integrierten', 'Versorgungsverträgen,', 'sind?']\n",
      "adding newline here ['Rahmen', 'von', 'integrierten', 'Versorgungsverträgen,', 'sind?\\n']\n",
      "No next line, but adding \\n ['den', 'weiteren', '2300', 'Genossenschaften', 'in', 'unserem', 'Verbandsgebiet,', 'zur', 'Verfügung.']\n",
      "adding newline here ['den', 'weiteren', '2300', 'Genossenschaften', 'in', 'unserem', 'Verbandsgebiet,', 'zur', 'Verfügung.\\n']\n",
      "adding newline here ['Mit', 'freundlichen', 'Grüßen\\n']\n",
      "There is enough space on the lext for the next word. So adding a linebreak between ['Genossenschaftsverband', 'e.V.']['a']\n",
      "adding newline here ['Genossenschaftsverband', 'e.V.\\n']\n",
      "No next line, but adding \\n ['a']\n",
      "adding newline here ['a\\n']\n",
      "No next line, but adding space ['Verbandsdirektor', 'Stv.', 'Leiter', 'Vorstandsstab']\n",
      "the last element has 1 newlines. Do not try to join with the next one.\n",
      "the last element has 2 newlines. Do not try to join with the next one.\n"
     ]
    },
    {
     "name": "stderr",
     "output_type": "stream",
     "text": [
      "\n"
     ]
    }
   ],
   "source": [
    "e = ddd.Export(output, debug=True)"
   ]
  },
  {
   "cell_type": "code",
   "execution_count": 23,
   "metadata": {},
   "outputs": [
    {
     "name": "stdout",
     "output_type": "stream",
     "text": [
      "Genossenschafts\n",
      "BERLIN | BRANDENBURG | BREMEN | HAMBURG | HESSEN | MECKLENBURG-VORPOMMERN | .\n",
      "Verband 4\n",
      "NIEDERSACHSEN | RHEINLAND-PFALZ | SAARLAND | SACHSEN | SACHSEN-ANHALT | SCHLESWIG-HOLSTEIN | THURINGEN\n",
      "\n",
      "Verwaltungssitz Neu-Isenburg\n",
      "Wilhelm-Haas-Platz\n",
      "63263 Neu-Isenburg\n",
      "Genossenschaftsverband e.V. - Postfach 15 53 - 63235 Neu-Isenburg\n",
      "www.genossenschaftsverband.de\n",
      "\n",
      "An den Bundesminister der Justiz und\n",
      "\n",
      "Vorstandsstab\n",
      "für Verbraucherschutz Barilffierhaus\n",
      "Herrn Heiko Maas\n",
      "Telefon 069 6978-3811\n",
      "11015 Berlin\n",
      "Telefax 069 6978-3427\n",
      "daniel.illerhaus\n",
      "@genossenschaftsverband.de \n",
      "\n",
      "23. März 2015\n",
      "KJU\n",
      "\n",
      "Stellungnahme zum Gesetzentwurf Korruptionsbekämpfung\n",
      "im Gesundheitswesen TEN\n",
      "Die Genossenschaften m\n",
      "\n",
      "Sehr geehrter Herr Bundesminister,\n",
      "\n",
      "mit dem aktuellen Gesetzentwurf zur Bekämpfung der Korruption im Gesundheitswesen verfolgt die Bundesregierung ein Anliegen, welches der Genossenschaftsverband vorbehaltlos unterstützt. Gleichzeitig herrscht aufgrund unklarer Gesetzesformulierungen bei vielen unserer Mitglieder große Verunsicherung darüber, ob diese weiterhin aktiv ihrem Geschäftsmodell nachgehen können. Als Verband haben wir die Sorge, dass die bestehende und erprobte Praxis in Genossenschaften unbeabsichtigt und zu Unrecht unter den neuen Geltungsbereich des Strafgesetzbuches fallen könnte.\n",
      "\n",
      "Der Gesetzgeber fordert einerseits mehr Wettbewerb und mehr Handlungsfreiheit für die Akteure — andererseits würde der vorliegende Entwurf die wirtschaftliche Aktivität von Genossenschaften stark einschränken. Neben den direkten Auswirkungen auf die betroffenen Mitglieder wäre zudem der Genossenschaftsgedanke im Gesundheitswesen nicht mehr am Leben zu erhalten.\n",
      "\n",
      "Dem Genossenschaftsverband gehören rund 90 Gesundheitsgenossenschaften in 13 Bundesländern an. Hierzu zählen Ärzte- und Apothekergenossenschaften sowie weitere Heilberufe, die sich wie alle Genossenschaften, die Förderung ihrer Mitglieder durch gemeinschaftlichen Geschäftsbetrieb zum Ziel gesetzt haben. Damit Genossenschaften gleichberechtigt neben anderen Unternehmensformen ihren Platz im Gesundheitswesen behalten können, bitten wir Sie während des Gesetzgebungsprozesses zur Korruptionsbekämpfung im Gesundheitswesen folgende Punkte zu berücksichtigen:\n",
      "\n",
      "= Anerkennung des genossenschaftlichen Geschäftsmodells im Gesundheitswesen\n",
      "Getreu der genossenschaftlichen Überzeugung, was einer alleine nicht schafft, schaffen viele, organisieren Gesundheitsgenossenschaften, wie in Handel und Handwerk seit über 150 Jahren bereits üblich, einen gemeinsamen Einkauf, fördern ihre Mitglieder durch Weiterbildung und die Unterhaltung gemeinsam genutzter Räumlichkeiten und medizinischer Geräte. Als Einkaufsgemeinschaft können die Gesundheitsgenossenschaften Rahmenvereinbarungen mit Unternehmen abschließen, die den Mitgliedern zu Sonderkonditionen Produkte und Dienstleistungen anbieten. Da- \n",
      "\n",
      "zu zählen beispielsweise Versicherungen, Praxisbedarf, Fahrzeugbeschaffung oder Kommunikationsdienste. So leisten die Genossenschaften einen Beitrag zum wirtschaftlichen Erfolg ihrer Mitglieder. Monetäre Leistungen der Gesundheitsgenossenschaften an ihre Mitglieder erfolgen explizit nicht. Die wirtschaftlichen Vorteile, die den Mitgliedern einer Genossenschaft entstehen, gehen ausdrücklich nicht zu Lasten der Allgemeinheit. Ganz im Gegenteil ist es so, dass die Entlastungen die den Mitgliedern entstehen, dem Staat und letztlich den Patienten zu Gute kommen. Vergleichbares gilt für Apothekengenossenschaften. Auch hier besteht die klare Zielsetzung, durch gemeinschaftliches Handeln Vorteile für das einzelne Mitglied und auch die Genossenschaft an sich zu erzielen. Auch hier stehen gemeinsamer Einkauf, gemeinsames Marketing, gemeinsame Verhandlungen mit Lieferanten oder Kostenträgern im Fokus, mit dem Ziel, den Einzelnen durch die Genossenschaft zu stärken.\n",
      "\n",
      "Die Vorteile einer Genossenschaft können natürliche Personen, die als Vertragsarzt, Psychotherapeut oder Apotheker zugelassen und niedergelassen sind nutzen. Dies gilt auch für die als Arzt oder Psychotherapeut in einem Medizinischen Versorgungszentrum, bei einem zugelassenen und niedergelassenen Arzt oder Psychotherapeuten oder einer zugelassenen Leistungserbringergemeinschaft angestellt sind. Sie müssen hierfür in der Regel keine zusätzlichen monatlichen Aufwendungen in Kauf nehmen. Bei Eintritt ist einmalig ein Genossenschaftsanteil zu bezahlen, der den Mitgliedern bei Austritt aus der Genossenschaft erstattet wird.\n",
      "Wesensmerkmal und Nutzen von Genossenschaften im Gesundheitswesen sind nicht rein wirtschaftlicher Natur. Wie in allen Genossenschaften spielt auch im Gesundheitswesen der Dialog eine wichtige Rolle. Durch ihre regionale Aufstellung bieten Gesundheitsgenossenschaften insbesondere im ländlichen Raum eine wichtige fachliche Austauschplattform und stellen die medizinische Versorgung für Patienten beispielsweise in Form von Behandlungspfaden sicher.\n",
      "In vielen Bereichen wie z.B. Landwirtschaft, Handwerk, Handel oder Wohnen ist die genossenschaftliche Tradition ein von Politik und Gesellschaft geschätztes und erwünschtes Element. Im Gesundheitswesen schafft dies vielfältige positive Effekte, weshalb es nicht im Sinne des Gesetzgebers sein kann, Genossenschaften den Zugang zu diesem Feld zu erschweren.\n",
      "\n",
      "\" Rechtssicherheit schaffen - klare Definitionen und Formulierungen\n",
      "\n",
      "1) \"in unlauterer Weise\"\n",
      "Es ist notwendig, das Adjektiv \"unlauter\" mit Bezug auf das Gesundheitswesen zu präzisieren und gegen das Adjektiv \"lauter\" genau abzugrenzen. Ansonsten werden die niedergelassenen Ärzte, Apotheker oder Angehörige weiterer Heilberufe aus Gründen der Vorsicht jede Art von Kooperation im Gesundheitswesen in Zukunft vermeiden und sich aus bestehenden zurückziehen. Dies kann nicht gewollt sein, da der Gesetzgeber mit dem Versorgungsstärkungsgesetz genau das Gegenteil, nämlich Kooperationen fördern möchte. Wünschenswert sind deshalb möglichst umfangreiche Auflistungen von Beispielen mit lauteren und unlauteren Handlungen durch niedergelassene Ärzte, Apotheker oder Angehörige weiterer Heilberufe. °\n",
      "\n",
      "2) \"in sonstiger Weise seine Berufsausübungspflichten verletze\"\n",
      "Die Ausführungen unter Punkt 1 gelten in analoger Weise für die Formulierung \"in sonstiger Weise seine Berufsausübungspflichten verletze\". Zusätzlich ist zu fragen, wer die Verletzung der ärztlichen Berufsausübungspflichten beurteilt. Den Wirtschaftsstrafkammern selbst fehlt hierzu die fachliche Kompetenz. Insofern muss sichergestellt werden, dass in die Beurteilung die Ärztekammern, medizinischen Fachgesellschaften und ärztlichen sowie therapeutischen Berufsverbände einbezogen werden.\n",
      "\n",
      "3) \"gewerbsmäßig oder als Mitglied einer Bande\"\n",
      "Hier muss dringend klargestellt werden, ob und in wie weit die Mitglieder, Vorstandsmitglieder, Aufsichtsratsmitglieder und Geschäftsführer einer Gesundheitsgenossenschaft allein aufgrund ihrer Mitgliedschaft in bzw. Tätigkeit für eine Ärztegenossenschaft gewerbsmäßig oder als Mitglied einer Bande handeln (können).\n",
      "\n",
      "4) Rabatte, Skonti, Boni\n",
      "Wie stellt sich die Situation dar, wenn Lieferanten Rabatte, Skonti und/oder Boni gewähren\n",
      "- bei Praxisbedarf, der in die Produktkategorien des 8 299a fällt;\n",
      "- bei Produkten, die in die Produktkategorien des $ 299a fallen (z.B. Katheter, Zangen, Sonden, Stents, Herzschrittmachern etc.) und Bestandteil von pauschal vergüteten Leistungen, z.B. im Rahmen von integrierten Versorgungsverträgen, sind?\n",
      "\n",
      "Wir möchten Sie bitten, die Position der Genossenschaften im Gesetzgebungsprozess zu unterstützen. Gerne stehen wir für vertiefende Informationen zu Ärztegenossenschaften, aber auch zu den weiteren 2300 Genossenschaften in unserem Verbandsgebiet, zur Verfügung.\n",
      "\n",
      "Mit freundlichen Grüßen\n",
      "\n",
      "Genossenschaftsverband e.V.\n",
      "a\n",
      "\n",
      "Rene Rothe i.V. Daniel ibe aus Verbandsdirektor Stv. Leiter Vorstandsstab \n",
      "\n",
      "u\n",
      "KYA gol (6) 94) \n",
      "\n",
      "Genossenschaftsverband e.V. Sitz Frankfurt am Main, Vereinsregister-Nummer 14109\n",
      "Vorstand: WP/StB Dipl.-Kfm. Michael Bockelmann (Verbandspräsident und Vorstandsvorsitzender), Dipl.-Ök. Klaus Bellmann, WPIStB Dipl.-Betriebsw. (FH) Horst Kessel, WP Dipl.-Ök. Rene Rothe, WP/StB Dipl.-Betriebsw. (FH) Edgar Schneider\n",
      "Vorsitzender des Verbandsrates: Michael Siegers, Stellvertreter: Claus-Rüdiger Bauer\n",
      "USt-IdNr.: DE 116688346 Bankverbindungen: DZ BANK AG Frankfurt, IBAN DE89 5006 0000 0000 0127 00, BIC GENODE55XXX DZ BANK AG Hannover, IBAN DE62 2606 0000 0000 0404 41, BIC GENODEFF250 - Mitglied der DIERVIFRS ‚Advisory Group\n",
      "\n",
      "\n"
     ]
    }
   ],
   "source": [
    "print(e.markdown())"
   ]
  },
  {
   "cell_type": "code",
   "execution_count": 21,
   "metadata": {},
   "outputs": [],
   "source": [
    "e.save_markdown(\"clean10.md\")"
   ]
  },
  {
   "cell_type": "code",
   "execution_count": null,
   "metadata": {},
   "outputs": [],
   "source": []
  },
  {
   "cell_type": "code",
   "execution_count": null,
   "metadata": {},
   "outputs": [],
   "source": []
  },
  {
   "cell_type": "code",
   "execution_count": 14,
   "metadata": {},
   "outputs": [],
   "source": [
    "import textdistance"
   ]
  },
  {
   "cell_type": "code",
   "execution_count": 15,
   "metadata": {},
   "outputs": [
    {
     "data": {
      "text/plain": [
       "0.6363636363636364"
      ]
     },
     "execution_count": 15,
     "metadata": {},
     "output_type": "execute_result"
    }
   ],
   "source": []
  },
  {
   "cell_type": "code",
   "execution_count": 16,
   "metadata": {},
   "outputs": [],
   "source": [
    "t3 = \"\"\"5\n",
    "\n",
    "Genossenschaftsverband e.V. Sitz Frankfurt am Main, Vereinsregister-Nummer 14109\n",
    "\" Vofständ: WP/SIB Dipl.-Kfm. Michael Bockelmann (Verbandsprasident und Vorstandsvorsitzen\n",
    "ipl.-Ök. Klaus Bellmann, WPIStB'Dipl.-Betriebsw.\n",
    "(FH)\n",
    "Horst Kessel, WP Dipl.-Ök. Ren& Rothe, WP/StB Dipl.-Betriebsw. (FH)\n",
    "dgar Schneider S\n",
    "Vorsitzender USt-IdNr.:\n",
    "DE\n",
    "\n",
    "des\n",
    "115668346\n",
    "\n",
    "Verbandsrates:\n",
    "Bankverbindungen: Michael\n",
    "Siegers,\n",
    "DZ\n",
    "BANK \n",
    "\n",
    "Stellvertreter:\n",
    "AG\n",
    "Frankfurt, \n",
    "\n",
    "Claus-Rüdiger IBAN\n",
    "DE89\n",
    "\n",
    "Bauer\n",
    "5006\n",
    "0000\n",
    "\n",
    "ih\n",
    "0000 \n",
    "\n",
    "t\n",
    "ot\n",
    "27\n",
    "00,\n",
    "BIC \n",
    "\n",
    "GENODES5XXX Rule\n",
    "DZ BANK AG Hannover, IBAN DE62 2506 0000 0000 0404 41, BIC GENODEFF250 -\n",
    "Mitglied der DERVIFRS ‚Advisory Group\"\"\""
   ]
  },
  {
   "cell_type": "code",
   "execution_count": 17,
   "metadata": {},
   "outputs": [],
   "source": [
    "t2=\"\"\"—,—iiii m AR\n",
    "\n",
    "Vorstand: Genossenschaftsverband WP/StB\n",
    "Dipl:Kfm.\n",
    "Michael \n",
    "\n",
    "e.V.\n",
    "Bockelmann Sitz\n",
    "Frankfurt\n",
    "(Verbandspräsident am\n",
    "Main,\n",
    "Vereinsregister-Nummer und\n",
    "Vorstandsvorsitzender), 14109\n",
    "Dipl.-Ök.\n",
    "Klaus:\n",
    "WPISIB Dipl.-Betriebsw: (FH) Horst Kessel, WP\n",
    "Dipl.-Ök.\n",
    "René Rothe, WP/SIB Dipl.-Beiriebsw. (FH) Edgar Senne\n",
    "Vorsitzender des Verbaridsrates: Michael Siegers, Stellvertreter: Claus-Rüdiger Bauer\n",
    "ULSt-IdNr.: DE 115668346 Bankverbindungen: DZ BANK AG Frankfurt, IBAN DE89 5006 0000 0000 0127 00, BIC GENODES5XXX DZ BANK AG Hannover, IBAN DE62 2506 0000 0000 0404 41, BIC GENODEFF260 - Mitglied der DERVIFRS ‚Advisory Group\"\"\""
   ]
  },
  {
   "cell_type": "code",
   "execution_count": 18,
   "metadata": {},
   "outputs": [],
   "source": [
    "t1=\"\"\"Genossenschaftsverband e.V. Sitz Frankfurt am Main, Vereinsregister-Nummer 14109\n",
    "Vorstand: WP/StB Dipl.-Kfm. Michael Bockelmann (Verbandspräsident und Vorstandsvorsitzender), Dipl.-Ök. Klaus Bellmann, WPIStB Dipl.-Betriebsw. (FH) Horst Kessel, WP Dipl.-Ök. Rene Rothe, WP/StB Dipl.-Betriebsw. (FH) Edgar Schneider\n",
    "Vorsitzender des Verbandsrates: Michael Siegers, Stellvertreter: Claus-Rüdiger Bauer\n",
    "USt-IdNr.: DE 116688346 Bankverbindungen: DZ BANK AG Frankfurt, IBAN DE89 5006 0000 0000 0127 00, BIC GENODE55XXX DZ BANK AG Hannover, IBAN DE62 2606 0000 0000 0404 41, BIC GENODEFF250 - Mitglied der DIERVIFRS ‚Advisory Group\"\"\""
   ]
  },
  {
   "cell_type": "code",
   "execution_count": 20,
   "metadata": {},
   "outputs": [
    {
     "data": {
      "text/plain": [
       "0.8731563421828908"
      ]
     },
     "execution_count": 20,
     "metadata": {},
     "output_type": "execute_result"
    }
   ],
   "source": [
    "textdistance.jaccard(t1, t3)"
   ]
  },
  {
   "cell_type": "code",
   "execution_count": 21,
   "metadata": {},
   "outputs": [],
   "source": [
    "t4 = \"\"\"\n",
    "2) \"in sonstiger Weise seine Berufsausübungspflichten verletze\"\n",
    "Die Ausführungen unter Punkt 1 gelten in analoger Weise für die Formulierung \"in sonstiger Weise seine Berufsausübungspflichten verletze\". Zusätzlich ist zu fragen, wer die Verletzung der ärztlichen Berufsausübungspflichten beurteilt. Den Wirtschaftsstrafkammern selbst fehlt hierzu die fachliche Kompetenz. Insofern muss sichergestellt werden, dass in die Beurteilung die Ärztekammern, medizinischen Fachgesellschaften und ärztlichen sowie therapeutischen Berufsverbände einbezogen werden.\n",
    "\n",
    "3) \"gewerbsmäßig oder als Mitglied einer Bande\"\n",
    "Hier muss dringend klargestellt werden, ob und in wie weit die Mitglieder, Vorstandsmitglieder, Aufsichtsratsmitglieder und Geschäftsführer einer Gesundheitsgenossenschaft allein aufgrund ihrer Mitgliedschaft in bzw. Tätigkeit für eine Ärztegenossenschaft gewerbsmäßig oder als Mitglied einer Bande handeln (können).\n",
    "\n",
    "4) Rabatte, Skonti, Boni\n",
    "Wie stellt sich die Situation dar, wenn Lieferanten Rabatte, Skonti und/oder Boni gewähren\n",
    "- bei Praxisbedarf, der in die Produktkategorien des 8 299a fällt;\n",
    "- bei Produkten, die in die Produktkategorien des $ 299a fallen (z.B. Katheter, Zangen, Sonden, Stents, Herzschrittmachern etc.) und Bestandteil von pauschal vergüteten Leistungen, z.B. im Rahmen von integrierten Versorgungsverträgen, sind?\n",
    "\n",
    "Wir möchten Sie bitten, die Position der Genossenschaften im Gesetzgebungsprozess zu unterstützen. Gerne stehen wir für vertiefende Informationen zu Ärztegenossenschaften, aber auch zu den weiteren 2300 Genossenschaften in unserem Verbandsgebiet, zur Verfügung.\n",
    "\n",
    "Mit freundlichen Grüßen\n",
    "\n",
    "Genossenschaftsverband e.V.\"\"\""
   ]
  },
  {
   "cell_type": "code",
   "execution_count": 22,
   "metadata": {},
   "outputs": [
    {
     "data": {
      "text/plain": [
       "0.2733853006681514"
      ]
     },
     "execution_count": 22,
     "metadata": {},
     "output_type": "execute_result"
    }
   ],
   "source": [
    "textdistance.jaccard(t1, t4)"
   ]
  },
  {
   "cell_type": "code",
   "execution_count": null,
   "metadata": {},
   "outputs": [],
   "source": []
  }
 ],
 "metadata": {
  "kernelspec": {
   "display_name": "Python 3",
   "language": "python",
   "name": "python3"
  },
  "language_info": {
   "codemirror_mode": {
    "name": "ipython",
    "version": 3
   },
   "file_extension": ".py",
   "mimetype": "text/x-python",
   "name": "python",
   "nbconvert_exporter": "python",
   "pygments_lexer": "ipython3",
   "version": "3.8.4"
  }
 },
 "nbformat": 4,
 "nbformat_minor": 4
}
