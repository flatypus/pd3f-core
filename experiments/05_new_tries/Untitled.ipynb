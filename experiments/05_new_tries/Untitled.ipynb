{
 "cells": [
  {
   "cell_type": "code",
   "execution_count": 1,
   "metadata": {},
   "outputs": [],
   "source": [
    "%reload_ext autoreload\n",
    "%autoreload 2"
   ]
  },
  {
   "cell_type": "code",
   "execution_count": 2,
   "metadata": {},
   "outputs": [],
   "source": [
    "from pathlib import Path\n",
    "\n",
    "import ddd"
   ]
  },
  {
   "cell_type": "code",
   "execution_count": 16,
   "metadata": {},
   "outputs": [
    {
     "name": "stdout",
     "output_type": "stream",
     "text": [
      "sending PDF to parsr\n",
      "> Polling server for the job fc3fa76a191fdaa1a4ce513dd6dc1d...\n",
      ">> Progress percentage: 0\n",
      ">> Progress percentage: 0\n",
      ">> Progress percentage: 0\n",
      ">> Job done!\n"
     ]
    }
   ],
   "source": [
    "output= ddd.run_parsr(\n",
    "            '/Users/user/code/ddd/data/proc_pdf/analog_de/00020_08112014_Stellungnahme_RAK_Koeln_RefE_Bekaempfung_Korruption.pdf',\n",
    "            cleaner_config=[],\n",
    "            hostname_port=\"localhost:3001\" \n",
    "        )"
   ]
  },
  {
   "cell_type": "code",
   "execution_count": 8,
   "metadata": {},
   "outputs": [
    {
     "name": "stdout",
     "output_type": "stream",
     "text": [
      "sending PDF to parsr\n",
      "> Polling server for the job 1566688df4a522b734d9acd919d691...\n",
      ">> Progress percentage: 0\n",
      ">> Progress percentage: 0\n",
      ">> Progress percentage: 0\n",
      ">> Job done!\n"
     ]
    }
   ],
   "source": [
    "output= ddd.run_parsr(\n",
    "            '/Users/user/code/ddd/data/proc_pdf/analog_de/00027_11232014_Stellungnahme_NADA_Externer_DSB_RefE_AntiDopG.pdf',\n",
    "            cleaner_config=[],\n",
    "            hostname_port=\"localhost:3001\"\n",
    "        )"
   ]
  },
  {
   "cell_type": "code",
   "execution_count": 19,
   "metadata": {},
   "outputs": [
    {
     "name": "stderr",
     "output_type": "stream",
     "text": [
      "exporting pages:   0%|          | 0/2 [00:00<?, ?it/s]"
     ]
    },
    {
     "name": "stdout",
     "output_type": "stream",
     "text": [
      "media line width: 375.235\n",
      "median line height: 9.98\n",
      "median line space: 5.259999999999895\n",
      "counter width:  [(375.27, 2), (375.43, 2), (375.6, 2)]\n",
      "counter height:  [(9.98, 35), (9.56, 8), (10.4, 7)]\n",
      "counter lineheight:  [(5.480000000000036, 4), (5.490000000000027, 3), (5.130000000000013, 3)]\n",
      "testing the lines: \n",
      "['Bundesrechtsanwaltskammer'] ['Littenstr.', '9']\n",
      "adding newline here ['Bundesrechtsanwaltskammer\\n']\n",
      "No next line, but adding \\n ['Littenstr.', '9']\n",
      "adding newline here ['Littenstr.', '9\\n']\n",
      "adding newline here ['10179', 'Berlin\\n']\n",
      "testing the lines: \n",
      "['Köln,', '11.08.2014'] ['065-14brak01', 'L/B']\n"
     ]
    },
    {
     "name": "stderr",
     "output_type": "stream",
     "text": [
      "exporting pages:  50%|█████     | 1/2 [00:05<00:05,  5.95s/it]"
     ]
    },
    {
     "name": "stdout",
     "output_type": "stream",
     "text": [
      "adding newline here ['Köln,', '11.08.2014\\n']\n",
      "No next line, but adding \\n ['065-14brak01', 'L/B']\n",
      "adding newline here ['065-14brak01', 'L/B\\n']\n",
      "There is enough space on the lext for the next word. So adding a linebreak between ['BRAK-Nr.', '255/2014']['K', 'I', 'StGB', '§', '299']\n",
      "adding newline here ['BRAK-Nr.', '255/2014\\n']\n",
      "There is enough space on the lext for the next word. So adding a linebreak between ['K', 'I', 'StGB', '§', '299']['K', 'I', 'StGB', '§§', '331', 'ff.']\n",
      "adding newline here ['K', 'I', 'StGB', '§', '299\\n']\n",
      "There is enough space on the lext for the next word. So adding a linebreak between ['K', 'I', 'StGB', '§§', '331', 'ff.']['Entwurf', 'eines', 'Gesetzes', 'zur', 'Bekampfung', 'der', 'Korruption']\n",
      "adding newline here ['K', 'I', 'StGB', '§§', '331', 'ff.\\n']\n",
      "No next line, but adding \\n ['-', 'Referentenentwurf', 'des', 'BMJV']\n",
      "adding newline here ['-', 'Referentenentwurf', 'des', 'BMJV\\n']\n",
      "No next line, but adding \\n ['sehr', 'geehrter', 'Herr', 'Kollege', 'Johnigk,']\n",
      "adding newline here ['sehr', 'geehrter', 'Herr', 'Kollege', 'Johnigk,\\n']\n",
      "No next line, but adding \\n ['des', 'anmerken:']\n",
      "adding newline here ['des', 'anmerken:\\n']\n",
      "There is enough space on the lext for the next word. So adding a linebreak between ['1;']['Der', 'Referentenentwurf', 'steht', 'vor', 'der', 'Schwierigkeit,', 'Vorgaben', 'aus', 'in-']\n",
      "adding newline here ['1;\\n']\n",
      "No next line, but adding \\n ['sen', 'gerade', 'durch', 'das', 'Wettbewerbsmodell', 'geschützt', 'werden.']\n",
      "adding newline here ['sen', 'gerade', 'durch', 'das', 'Wettbewerbsmodell', 'geschützt', 'werden.\\n']\n",
      "No next line, but adding \\n ['Europarats', 'begründet.']\n",
      "adding newline here ['Europarats', 'begründet.\\n']\n",
      "No next line, but adding \\n ['fassungsrechtliche', 'Bedenken.']\n",
      "adding newline here ['fassungsrechtliche', 'Bedenken.\\n']\n",
      "No next line, but adding \\n ['lischen', 'Gründen', 'strafen', 'zu', 'dürfen.']\n",
      "adding newline here ['lischen', 'Gründen', 'strafen', 'zu', 'dürfen.\\n']\n",
      "No next line, but adding \\n ['lassen.']\n",
      "adding newline here ['lassen.\\n']\n",
      "testing the lines: \n",
      "['Mit', 'freundlichen', 'kollegialen', 'Grüßen'] ['Vorstand', 'der', 'Rechtsanwaltskammer', 'Köln']\n"
     ]
    },
    {
     "name": "stderr",
     "output_type": "stream",
     "text": [
      "exporting pages: 100%|██████████| 2/2 [00:13<00:00,  6.58s/it]\n",
      "trying to reverse page breaks: 1it [00:00, 66.24it/s]"
     ]
    },
    {
     "name": "stdout",
     "output_type": "stream",
     "text": [
      "adding newline here ['Mit', 'freundlichen', 'kollegialen', 'Grüßen\\n']\n",
      "No next line, but adding space ['Vorstand', 'der', 'Rechtsanwaltskammer', 'Köln']\n",
      "the last element has 2 newlines. Do not try to join with the next one.\n"
     ]
    },
    {
     "name": "stderr",
     "output_type": "stream",
     "text": [
      "\n"
     ]
    }
   ],
   "source": [
    "e = ddd.Export(output, debug=True)"
   ]
  },
  {
   "cell_type": "code",
   "execution_count": 20,
   "metadata": {},
   "outputs": [
    {
     "name": "stdout",
     "output_type": "stream",
     "text": [
      "Bundesrechtsanwaltskammer\n",
      "Littenstr. 9\n",
      "\n",
      "10179 Berlin\n",
      "\n",
      "Köln, 11.08.2014\n",
      "065-14brak01 L/B\n",
      "\n",
      "BRAK-Nr. 255/2014\n",
      "K I StGB § 299\n",
      "K I StGB §§ 331 ff.\n",
      "Entwurf eines Gesetzes zur Bekampfung der Korruption - Referentenentwurf des BMJV\n",
      "\n",
      "Sehr geehrte Damen und Herren Kolleginnen und Kollegen, sehr geehrter Herr Kollege Johnigk,\n",
      "\n",
      "Bezug nehmend auf Ihr Schreiben vom 18.06.2014 möchte der Vorstand der Rechtsanwaltskammer Köln zum Referentenentwurf des BMJV folgendes anmerken:\n",
      "\n",
      "1;\n",
      "Der Referentenentwurf steht vor der Schwierigkeit, Vorgaben aus internationalen Abkommen umsetzen zu müssen, die selbst fragwürdig sind. Dies betrifft insbesondere die Tatbestandsausweitung der Norm des 8 299 StGB auf die Pflichtverletzung gegenüber dem Geschäftsherrn. Inwieweit es für eine international oder auch global geführte Sanktionierung von Korruption erforderlich sein soll, in § 299 StGB zusätzlich den Geschäftsherrn zu schützen, ist nicht ersichtlich. Eine Berührung internationaler Interessen bei fehlender Umsetzung des Geschäftsherrnmodells liegt fern, weil diese Interessen gerade durch das Wettbewerbsmodell geschützt werden.\n",
      "\n",
      "Die Tatbestandsausweitung hat mithin lediglich instrumentellen Charakter, dürfte aber noch im Rahmen des gesetzgeberischen Ermessensspielraums liegen, so dass verfassungsrechtliche Bedenken nicht erhoben werden können. Der Fehler für die unnötige Tatbestandsausweitung liegt mithin nicht im Referentenentwurf, sondern in der Vorarbeit zum Strafrechtsübereinkommen über Korruption des Europarats begründet.\n",
      "\n",
      "Die Aufnahme der Bestechung im geschäftlichen Verkehr in dem Vortatenkatalog des 8 261 StGB mag inzwischen zwingend sein (II, 3. der Begründung des Entwurfs). Hier ergeben sich allerdings verfassungsrechtliche Bedenken.\n",
      "\n",
      "Wir verweisen auf die Stellungnahme der BRAK zum Referentenentwurf eines Gesetzes zur Verbesserung der Bekämpfung der Geldwäsche und Steuerhinterziehung (BRAK-Stellungnahme-Nr. 34/2010). Dort ist zu Recht ausgeführt, die Gesetzgebungsgeschichte der Norm des 8 261 StGB lehre, dass bei deren Einführung Gesichtspunkte der Normenbestimmtheit und des Übermaßverbots gerade für die Aufstellung des Vortatenkatalogs eine entscheidende Rolle gespielt haben. Mit der seinerzeit vorgeschlagenen Ausweitung werde die enumerative Konstruktion des Katalogs praktisch aufgegeben (Blatt 4 der Stellungnahme). Dies gilt insbesondere unter dem Gesichtspunkt, dass sich nach empirischen Erkenntnissen zur Wirksamkeit des der Geldwäsche zugrunde liegenden Konzepts es sich in der Praxis als weitgehend wirkungslos erwiesen hat. Die hieraus folgende, sich auf den symbolischen Charakter beschränkende Aufwertung der „Vortat“ des 8 299 StGB führt zu dem Dilemma, dass es dem Rechtsstaat fremd und für ihn nicht begründbar ist, aus symbolischen Gründen strafen zu dürfen.\n",
      "\n",
      "Mithin führt die Aufnahme des § 299 StGB in den Vortatenkatalog - auch unter der Einschrankung auf besondere Tatbegehungsweisen - zu Bedenken gegenüber dem Bestimmtheitsgrundsatz und dem Rechtsstaatsprinzip. Die Aufnahme der Norm in den Vortatenkatalog ist deshalb - auch gegen die „zwingenden“ Vorgaben in Art. 2 Abs. 3 des EU-Rahmenbeschlusses - wegen Verfassungswidrigkeit zu unterlassen.\n",
      "\n",
      "Mit freundlichen kollegialen Grüßen\n",
      "Vorstand der Rechtsanwaltskammer Köln \n",
      "\n",
      "\n"
     ]
    }
   ],
   "source": [
    "print(e.markdown())"
   ]
  },
  {
   "cell_type": "code",
   "execution_count": 15,
   "metadata": {},
   "outputs": [],
   "source": [
    "e.save_markdown(\"clean10.md\")"
   ]
  },
  {
   "cell_type": "code",
   "execution_count": null,
   "metadata": {},
   "outputs": [],
   "source": []
  },
  {
   "cell_type": "code",
   "execution_count": null,
   "metadata": {},
   "outputs": [],
   "source": []
  },
  {
   "cell_type": "code",
   "execution_count": null,
   "metadata": {},
   "outputs": [],
   "source": []
  },
  {
   "cell_type": "code",
   "execution_count": null,
   "metadata": {},
   "outputs": [],
   "source": []
  }
 ],
 "metadata": {
  "kernelspec": {
   "display_name": "Python 3",
   "language": "python",
   "name": "python3"
  },
  "language_info": {
   "codemirror_mode": {
    "name": "ipython",
    "version": 3
   },
   "file_extension": ".py",
   "mimetype": "text/x-python",
   "name": "python",
   "nbconvert_exporter": "python",
   "pygments_lexer": "ipython3",
   "version": "3.8.4"
  }
 },
 "nbformat": 4,
 "nbformat_minor": 4
}
