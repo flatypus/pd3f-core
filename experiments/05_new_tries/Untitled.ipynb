{
 "cells": [
  {
   "cell_type": "code",
   "execution_count": 1,
   "metadata": {},
   "outputs": [],
   "source": [
    "from pathlib import Path\n",
    "\n",
    "import ddd"
   ]
  },
  {
   "cell_type": "code",
   "execution_count": 2,
   "metadata": {},
   "outputs": [
    {
     "name": "stdout",
     "output_type": "stream",
     "text": [
      "sending PDF to parsr\n",
      "> Polling server for the job 0a3f511121d305b18991b0d553c1be...\n",
      ">> Progress percentage: 0\n",
      ">> Progress percentage: 0\n",
      ">> Progress percentage: 0\n",
      ">> Progress percentage: 0\n",
      ">> Progress percentage: 0\n",
      ">> Progress percentage: 0\n",
      ">> Progress percentage: 0\n",
      ">> Progress percentage: 0\n",
      ">> Progress percentage: 0\n",
      ">> Progress percentage: 0\n",
      ">> Job done!\n"
     ]
    }
   ],
   "source": [
    "output= ddd.run_parsr(\n",
    "            '/Users/user/code/ddd/data/proc_pdf/analog_de/00012_12272015_Stellungnahme_IDS_RefE_Urhebervertragsrecht.pdf',\n",
    "            cleaner_config=[],\n",
    "            hostname_port=\"localhost:3001\"\n",
    "        )"
   ]
  },
  {
   "cell_type": "code",
   "execution_count": 3,
   "metadata": {},
   "outputs": [
    {
     "name": "stderr",
     "output_type": "stream",
     "text": [
      "exporting pages: 100%|██████████| 7/7 [00:00<00:00, 25.97it/s]\n",
      "trying to reverse page breaks: 0it [00:00, ?it/s]"
     ]
    },
    {
     "name": "stdout",
     "output_type": "stream",
     "text": [
      "adding linebreak between ['B.', 'Zu', 'den', 'einzelnen', 'Vorschriften']['Zu', '8', '31', 'Abs.', '5', 'UrhG', '(Einräumung', 'von', 'Nutzungsrechten)']\n",
      "adding newline here ['B.', 'Zu', 'den', 'einzelnen', 'Vorschriften\\n']\n",
      "adding linebreak between ['b)', 'die', 'Bestimmung', 'nicht', 'klar', 'und', 'verständlich', 'ist']['c)', 'die', 'Bestimmung', 'nicht-werknahe', 'Nutzungen', 'regelt']\n",
      "adding newline here ['b)', 'die', 'Bestimmung', 'nicht', 'klar', 'und', 'verständlich', 'ist\\n']\n",
      "adding linebreak between ['Zu', '8', '36', '(Gemeinsame', 'Vergütungsregeln)', '-', 'Ergänzung']['Abs.1', 'Satz', '2', '(neu):']\n",
      "adding newline here ['Zu', '8', '36', '(Gemeinsame', 'Vergütungsregeln)', '-', 'Ergänzung\\n']\n",
      "adding linebreak between ['Abs.1', 'Satz', '2', '(neu):']['Werknutzer', 'sind', 'auch', 'Dritte,', 'für', 'die', 'der', 'Vertragspartner', 'des', 'Urhebers', 'das', 'Werk', 'herstellt.']\n",
      "adding newline here ['Abs.1', 'Satz', '2', '(neu):\\n']\n",
      "adding linebreak between ['Abs.', '2', '(neu):']['Die', 'Verjährung', 'des', 'Anspruchs', 'auf', 'Zahlung', 'einer', 'gemeinsamen', 'Vergütung', 'wird', 'gehemmt:']\n",
      "adding newline here ['Abs.', '2', '(neu):\\n']\n",
      "adding linebreak between ['Zu', '8', '79', '(Nutzungsrechte', 'der', 'ausübenden', 'Künstler)']['Abs.', '1:', 'Streichung', '(des', 'Abs.', '1)']\n",
      "adding newline here ['Zu', '8', '79', '(Nutzungsrechte', 'der', 'ausübenden', 'Künstler)\\n']\n",
      "adding linebreak between ['Abs.', '1:', 'Streichung', '(des', 'Abs.', '1)']['Abs', '2:', 'Ergänzung']\n",
      "adding newline here ['Abs.', '1:', 'Streichung', '(des', 'Abs.', '1)\\n']\n",
      "adding linebreak between ['Abs', '2:', 'Ergänzung']['Die', '88', '31', 'bis', '42', 'und', '43', 'sind', 'entsprechend', 'anzuwenden.']\n",
      "adding newline here ['Abs', '2:', 'Ergänzung\\n']\n",
      "adding linebreak between ['Irina', 'Wanka']['1.', 'Vorsitzende']\n",
      "adding newline here ['Irina', 'Wanka\\n']\n",
      "adding linebreak between ['1.', 'Vorsitzende']['Interessenverband', 'Deutscher', 'Schauspieler', 'e.V.', '(IDS)']\n",
      "adding newline here ['1.', 'Vorsitzende\\n']\n"
     ]
    },
    {
     "name": "stderr",
     "output_type": "stream",
     "text": [
      "trying to reverse page breaks: 6it [00:00, 111.54it/s]"
     ]
    },
    {
     "name": "stdout",
     "output_type": "stream",
     "text": [
      "joining the following paragraphs\n",
      "Zu den vorgesehenen flankierenden Rechtsänderungen sollte die faktische Gleichstellung der ausübenden Künstler mit den Urhebern mit aufgenommen und die Schlechterstellung der Filmschaffenden beseitigt werden.\n",
      "\n",
      " B. Zu den einzelnen Vorschriften\n",
      "Zu 8 31 Abs. 5 UrhG (Einräumung von Nutzungsrechten)\n",
      "\n",
      "\n",
      "joining the following paragraphs\n",
      "Jeder Werknutzer hat dem Urheber Auskunft über den Umfang der Werknutzung und die hieraus gezogenen Erträge und Vorteile zu erteilen sowie hierüber Rechenschaft abzulegen. Auskunft und Rechenschaft sind auf Verlangen des Urhebers mindestens einmal jährlich zu erteilen. Dem Urheber ist die erstmals geplante Nutzung hinsichtlich jeder Nutzungsart im Voraus mitzuteilen. Von den Sätzen 1 und 2 kann zum Nachteil des Urhebers nur durch eine Vereinbarung abgewichen werden, die auf einer gemeinsamen Vergütungsregel ($ 36) oder einem Tarifvertrag beruht. Eine solche Vereinbarung ist nur wirksam, wenn dem Urheber die Ansprüche aus den Sätzen 1 und 2 jedenfalls gegenüber einem Dritten vollumfänglich zustehen.\n",
      "\n",
      " (Da der Urheber in der Regel die Werknutzer nicht kennt bzw. nicht kennen muss, ist es zwingend erforderlich, dass er von jedem Werknutzer über ihm nicht bereits bekannte Nutzungen seiner Werke unterrichtet wird, um seine Ansprüche aus den Sätzen 1 und 2 geltend machen zu können.\n",
      "\n",
      "\n",
      "joining the following paragraphs\n",
      "Eine Vereinigung von Werknutzern gilt im Sinne des Satz 1 als ermächtigt, wenn sie eigene Empfehlungen zu Urhebervergütungen erarbeitet oder sich in vergleichbarer Weise mit Urhebervergütungen befasst.\n",
      "\n",
      " Zu & 36 (Gemeinsame Vergütungsregeln) — Ergänzung Abs.5 (neu):\n",
      "\n",
      "\n",
      "joining the following paragraphs\n",
      "Auf das Verfahren ist § 8 Abs. 3 Nr. 1 und Nr. 2 sowie 8 12 Abs. 1,2, 4 und 5 des Gesetzes gegen den unlauteren Wettbewerb anzuwenden. Für die Bekanntmachung des Urteils gilt $ 103.\n",
      "\n",
      " Zu § 36c (Individualvertragl. Folgen des Verstoßes gegen gem. Vergütungsregeln) — Ergänzung Abs. 2 (neu):\n",
      "Die Verjährung des Anspruchs auf Zahlung einer gemeinsamen Vergütung wird gehemmt:\n",
      "\n",
      "\n",
      "joining the following paragraphs\n",
      "Der Urheber des Filmwerkes kann ein in Absatz 1 bezeichnetes Nutzungsrecht hinsichtlich der Verwertung des Filmwerkes im Voraus nur dem Filmhersteller oder einer Verwertungsgesellschaft einräumen.\n",
      "\n",
      " Zu & 92 (Ausübende Künstler) — Neufassung Abs. 2:\n",
      "\n",
      "\n",
      "joining the following paragraphs\n",
      "„Blacklisting“ lässt sich ohne Weiteres auch auf Interessenvertreter besonders engagierter Verbände oder Gewerkschaften und deren Verbandsmitglieder anwenden. Ein Streikrecht gibt es faktisch nicht und Urheber und ausübende Künstler stehen im Bereich Film- und Fernsehen so gut wie nie in festen Arbeitsverhältnissen und genießen weitgehend keinen Kündigungsschutz.\n",
      "\n",
      " Es erscheint uns daher nicht sinnvoll, Verbänden und Gewerkschaften Aufgaben und Rechte zu übertragen, denen sie aus strukturellen Gründen nicht gewachsen sein können.\n",
      "\n",
      "\n"
     ]
    },
    {
     "name": "stderr",
     "output_type": "stream",
     "text": [
      "\n"
     ]
    }
   ],
   "source": [
    "e = ddd.Export(output, debug=True)"
   ]
  },
  {
   "cell_type": "code",
   "execution_count": 5,
   "metadata": {},
   "outputs": [],
   "source": [
    "e.save_markdown(\"clean9.md\")"
   ]
  },
  {
   "cell_type": "code",
   "execution_count": null,
   "metadata": {},
   "outputs": [],
   "source": []
  },
  {
   "cell_type": "code",
   "execution_count": null,
   "metadata": {},
   "outputs": [],
   "source": []
  },
  {
   "cell_type": "code",
   "execution_count": null,
   "metadata": {},
   "outputs": [],
   "source": []
  },
  {
   "cell_type": "code",
   "execution_count": null,
   "metadata": {},
   "outputs": [],
   "source": []
  }
 ],
 "metadata": {
  "kernelspec": {
   "display_name": "Python 3",
   "language": "python",
   "name": "python3"
  },
  "language_info": {
   "codemirror_mode": {
    "name": "ipython",
    "version": 3
   },
   "file_extension": ".py",
   "mimetype": "text/x-python",
   "name": "python",
   "nbconvert_exporter": "python",
   "pygments_lexer": "ipython3",
   "version": "3.8.4"
  }
 },
 "nbformat": 4,
 "nbformat_minor": 4
}
