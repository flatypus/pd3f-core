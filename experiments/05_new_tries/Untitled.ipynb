{
 "cells": [
  {
   "cell_type": "code",
   "execution_count": 5,
   "metadata": {},
   "outputs": [],
   "source": [
    "from pathlib import Path\n",
    "\n",
    "import ddd"
   ]
  },
  {
   "cell_type": "code",
   "execution_count": 6,
   "metadata": {},
   "outputs": [
    {
     "name": "stdout",
     "output_type": "stream",
     "text": [
      "sending PDF to parsr\n",
      "> Polling server for the job 8f8e7869537bc22349265ce6622831...\n",
      ">> Progress percentage: 0\n",
      ">> Progress percentage: 0\n",
      ">> Progress percentage: 0\n",
      ">> Job done!\n"
     ]
    }
   ],
   "source": [
    "output= ddd.run_parsr(\n",
    "            '/Users/user/code/ddd/data/proc_pdf/analog_de/00027_11232014_Stellungnahme_NADA_Externer_DSB_RefE_AntiDopG.pdf',\n",
    "            cleaner_config=[],\n",
    "            hostname_port=\"localhost:3001\"\n",
    "        )"
   ]
  },
  {
   "cell_type": "code",
   "execution_count": 7,
   "metadata": {},
   "outputs": [
    {
     "name": "stderr",
     "output_type": "stream",
     "text": [
      "exporting pages:   0%|          | 0/2 [00:00<?, ?it/s]"
     ]
    },
    {
     "name": "stdout",
     "output_type": "stream",
     "text": [
      "adding newline here ['Gesundheitsdaten.\\n']\n",
      "adding linebreak between ['Zu', 'den', 'einzelnen', 'Regelungen:']['1)', 'Zu', '$', '8-', 'Informationsaustausch']\n",
      "adding newline here ['Zu', 'den', 'einzelnen', 'Regelungen:\\n']\n",
      "adding newline here ['dopingrelevante', 'Verstöße', 'nach', 'Art.', '2', 'NADC', 'vorliegen.\\n']\n"
     ]
    },
    {
     "name": "stderr",
     "output_type": "stream",
     "text": [
      "exporting pages:  50%|█████     | 1/2 [00:11<00:11, 11.21s/it]"
     ]
    },
    {
     "name": "stdout",
     "output_type": "stream",
     "text": [
      "adding newline here ['Betroffenen,', 'insbesondere', 'das', 'Recht', 'auf', 'Auskunft,', 'zumal', 'ADAMS', 'in', 'Kanada', 'gehostet', 'wird.\\n']\n",
      "adding newline here ['geschützter', 'Daten', 'Rechnung', 'getragen,', 'vgl.', 'Art.', '8', 'der', 'EG-Richtlinie', '95/46.\\n']\n",
      "adding newline here ['Datensicherheit', 'getroffen', 'werden,', '§', '9', 'BDSG.\\n']\n",
      "adding newline here ['zu', 'den', 'Rechten', 'des', 'Betroffenen', 'auf', 'Auskunft).\\n']\n",
      "adding newline here ['Rechtsgrundlage', 'der', 'Informationsverarbeitung.\\n']\n"
     ]
    },
    {
     "name": "stderr",
     "output_type": "stream",
     "text": [
      "exporting pages: 100%|██████████| 2/2 [00:23<00:00, 11.98s/it]\n",
      "trying to reverse page breaks: 1it [00:05,  5.01s/it]"
     ]
    },
    {
     "name": "stdout",
     "output_type": "stream",
     "text": [
      "joining the following paragraphs\n",
      "Mit der Neuregelung erhält die NADA die Befugnis, personenbezogene Daten „zur Durchführung ihres Dopingkontrollsystems zu erheben, ...“. Die Frage ist, ob der Aufgabenbereich der NADA damit hinreichend umschrieben ist. Jedenfalls bekommt die NADA eine gesetzliche Legitimation für die Informationsverarbeitung im Rahmen Ihres Mandats. Diese Befugnis ergibt sich dem Grunde nach bereits aus den 88 28 ff. BDSG in Verbindung mit dem WADA-Code. Insofern hat der bereichsspezifische Ansatz ($ 1 Abs. 3 BDSG) eher deklaratorische Bedeutung. Im Übrigen bleibt der Vorschlag in wichtigen Teilbereichen hinter dem geltenden BDSG und dem WADA-Code zurück, die  bereits Regelungen zur Datenlöschung vorsehen, vgl. u.a. Art. 14.6 2. UA NADC. Zwar ist die Datenlöschung eine Phase der Datenverarbeitung ($ 3 Abs. 4 Satz 1 BDSG); sie sollte gleichwohl in einer bereichsspezifischen Regelung nochmals normiert werden. Dasselbe gilt für die Rechte der Betroffenen, insbesondere das Recht auf Auskunft, zumal ADAMS in Kanada gehostet wird.\n",
      "\n",
      "\n",
      " bereits Regelungen zur Datenlöschung vorsehen, vgl. u.a. Art. 14.6 2. UA NADC. Zwar ist die Datenlöschung eine Phase der Datenverarbeitung ($ 3 Abs. 4 Satz 1 BDSG); sie sollte gleichwohl in einer bereichsspezifischen Regelung nochmals normiert werden. Dasselbe gilt für die Rechte der Betroffenen, insbesondere das Recht auf Auskunft, zumal ADAMS in Kanada gehostet wird.\n",
      "\n",
      "\n",
      "\n"
     ]
    },
    {
     "name": "stderr",
     "output_type": "stream",
     "text": [
      "\n"
     ]
    }
   ],
   "source": [
    "e = ddd.Export(output, debug=True)"
   ]
  },
  {
   "cell_type": "code",
   "execution_count": 8,
   "metadata": {},
   "outputs": [],
   "source": [
    "e.save_markdown(\"clean10.md\")"
   ]
  },
  {
   "cell_type": "code",
   "execution_count": null,
   "metadata": {},
   "outputs": [],
   "source": []
  },
  {
   "cell_type": "code",
   "execution_count": null,
   "metadata": {},
   "outputs": [],
   "source": []
  },
  {
   "cell_type": "code",
   "execution_count": null,
   "metadata": {},
   "outputs": [],
   "source": []
  },
  {
   "cell_type": "code",
   "execution_count": null,
   "metadata": {},
   "outputs": [],
   "source": []
  }
 ],
 "metadata": {
  "kernelspec": {
   "display_name": "Python 3",
   "language": "python",
   "name": "python3"
  },
  "language_info": {
   "codemirror_mode": {
    "name": "ipython",
    "version": 3
   },
   "file_extension": ".py",
   "mimetype": "text/x-python",
   "name": "python",
   "nbconvert_exporter": "python",
   "pygments_lexer": "ipython3",
   "version": "3.8.4"
  }
 },
 "nbformat": 4,
 "nbformat_minor": 4
}
