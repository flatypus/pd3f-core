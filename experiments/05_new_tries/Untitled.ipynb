{
 "cells": [
  {
   "cell_type": "code",
   "execution_count": 1,
   "metadata": {},
   "outputs": [],
   "source": [
    "from pathlib import Path\n",
    "\n",
    "import ddd"
   ]
  },
  {
   "cell_type": "code",
   "execution_count": 2,
   "metadata": {},
   "outputs": [
    {
     "name": "stdout",
     "output_type": "stream",
     "text": [
      "sending PDF to parsr\n",
      "> Polling server for the job 055ad339969edce3d25fa91603b72d...\n",
      ">> Progress percentage: 0\n",
      ">> Progress percentage: 0\n",
      ">> Progress percentage: 0\n",
      ">> Job done!\n"
     ]
    }
   ],
   "source": [
    "output= ddd.run_parsr(\n",
    "            '/Users/user/code/ddd/data/proc_pdf/analog_de/00020_08112014_Stellungnahme_RAK_Koeln_RefE_Bekaempfung_Korruption.pdf',\n",
    "            cleaner_config=[[\"reading-order-detection\", {\"minVerticalGapWidth\": 20}]],\n",
    "            hostname_port=\"localhost:3001\"\n",
    "        )"
   ]
  },
  {
   "cell_type": "code",
   "execution_count": 4,
   "metadata": {},
   "outputs": [
    {
     "name": "stderr",
     "output_type": "stream",
     "text": [
      "exporting pages: 100%|██████████| 2/2 [00:00<00:00, 51.40it/s]\n",
      "trying to reverse page breaks: 1it [00:00, 112.40it/s]"
     ]
    },
    {
     "name": "stdout",
     "output_type": "stream",
     "text": [
      "joining the following paragraphs\n",
      "1;\n",
      "Der Referentenentwurf steht vor der Schwierigkeit, Vorgaben aus internationalen Abkommen umsetzen zu müssen, die selbst fragwürdig sind. Dies betrifft insbesondere die Tatbestandsausweitung der Norm des 8 299 StGB auf die Pflichtverletzung gegenüber dem Geschäftsherrn. Inwieweit es für eine international oder auch global geführte Sanktionierung von Korruption erforderlich sein soll, in § 299 StGB zusätzlich den Geschäftsherrn zu schützen, ist nicht ersichtlich. Eine Berührung internationaler Interessen bei fehlender Umsetzung des Geschäftsherrnmodells liegt fern, weil diese Interessen gerade durch das Wettbewerbsmodell geschützt werden.\n",
      "\n",
      " Die Tatbestandsausweitung hat mithin lediglich instrumentellen Charakter, dürfte aber noch im Rahmen des gesetzgeberischen Ermessensspielraums liegen, so dass verfassungsrechtliche Bedenken nicht erhoben werden können. Der Fehler für die unnötige Tatbestandsausweitung liegt mithin nicht im Referentenentwurf, sondern in der Vorarbeit zum Strafrechtsübereinkommen über Korruption des Europarats begründet.\n",
      "\n",
      "\n"
     ]
    },
    {
     "name": "stderr",
     "output_type": "stream",
     "text": [
      "\n"
     ]
    }
   ],
   "source": [
    "e = ddd.Export(output, debug=True)"
   ]
  },
  {
   "cell_type": "code",
   "execution_count": 5,
   "metadata": {},
   "outputs": [],
   "source": [
    "e.save_markdown(\"clean3.md\")"
   ]
  },
  {
   "cell_type": "code",
   "execution_count": 5,
   "metadata": {},
   "outputs": [],
   "source": [
    "for p in Path(\"../../data/bmjv/\").glob(\"*.pdf\"):\n",
    "    if p.name.startswith(\"00003\"):\n",
    "        print(p.name)\n",
    "        # ddd.run_parsr(\n",
    "        #     str(p),\n",
    "        #     out_dir=\"out/\",\n",
    "        #     cleaner_config=[[\"reading-order-detection\", {\"minVerticalGapWidth\": 20}]],\n",
    "        # )\n",
    "\n",
    "        e = ddd.Export(f\"out/{p.stem}/data.json\")\n",
    "        e.save_markdown(f\"out/{p.stem}/clean.md\")\n",
    "\n",
    "\n",
    "# run.do_parsr(\n",
    "#     \"../data/bmjv/00001_112018_FU_Berlin_Richtlinie_2017_1371.pdf\",\n",
    "#     out_dir=\"out2\",\n",
    "#     cleaner_config=[[\"reading-order-detection\", {\"minVerticalGapWidth\": 20}]],\n",
    "# )\n",
    "\n",
    "\n",
    "# run.do_parsr(\n",
    "#     \"../data/bmjv/01384_011020_Stellungnahme_DRB_RefE__Belaempfung-Rechtsextremismus-Hasskriminalitaet.pdf\",\n",
    "#     out_dir=\"out1\",\n",
    "\n",
    "#     cleaner_config=[[\"reading-order-detection\", {\"minVerticalGapWidth\": 10}]],\n",
    "# )\n",
    "\n",
    "\n",
    "# output.save(\n",
    "#     \"out1/01384_011020_Stellungnahme_DRB_RefE__Belaempfung-Rechtsextremismus-Hasskriminalitaet/data.json\",\n",
    "#     \"d.txt\",\n",
    "# )\n"
   ]
  },
  {
   "cell_type": "code",
   "execution_count": null,
   "metadata": {},
   "outputs": [],
   "source": []
  }
 ],
 "metadata": {
  "kernelspec": {
   "display_name": "Python 3",
   "language": "python",
   "name": "python3"
  },
  "language_info": {
   "codemirror_mode": {
    "name": "ipython",
    "version": 3
   },
   "file_extension": ".py",
   "mimetype": "text/x-python",
   "name": "python",
   "nbconvert_exporter": "python",
   "pygments_lexer": "ipython3",
   "version": "3.8.4"
  }
 },
 "nbformat": 4,
 "nbformat_minor": 4
}
