{
 "cells": [
  {
   "cell_type": "code",
   "execution_count": 22,
   "metadata": {},
   "outputs": [],
   "source": [
    "%reload_ext autoreload\n",
    "%autoreload 2"
   ]
  },
  {
   "cell_type": "code",
   "execution_count": 23,
   "metadata": {},
   "outputs": [],
   "source": [
    "from pathlib import Path\n",
    "\n",
    "import ddd"
   ]
  },
  {
   "cell_type": "code",
   "execution_count": 24,
   "metadata": {},
   "outputs": [
    {
     "name": "stdout",
     "output_type": "stream",
     "text": [
      "sending PDF to parsr\n",
      "> Polling server for the job 87f62f85a7c1be4fab42264ecdb7eb...\n",
      ">> Progress percentage: 0\n",
      ">> Progress percentage: 0\n",
      ">> Progress percentage: 0\n",
      ">> Progress percentage: 0\n",
      ">> Progress percentage: 0\n",
      ">> Progress percentage: 0\n",
      ">> Job done!\n"
     ]
    }
   ],
   "source": [
    "output= ddd.run_parsr(\n",
    "            '/Users/user/code/ddd/data/proc_pdf/analog_de/00020_08112014_Stellungnahme_RAK_Koeln_RefE_Bekaempfung_Korruption.pdf',\n",
    "            cleaner_config=[],\n",
    "            hostname_port=\"localhost:3001\"\n",
    "        )"
   ]
  },
  {
   "cell_type": "code",
   "execution_count": 40,
   "metadata": {},
   "outputs": [
    {
     "name": "stdout",
     "output_type": "stream",
     "text": [
      "sending PDF to parsr\n",
      "> Polling server for the job 5792e5fd186da74cab3d03f9f204ba...\n",
      ">> Progress percentage: 0\n",
      ">> Progress percentage: 0\n",
      ">> Progress percentage: 0\n",
      ">> Job done!\n"
     ]
    }
   ],
   "source": [
    "output= ddd.run_parsr(\n",
    "            '/Users/user/code/ddd/data/proc_pdf/analog_de/00027_11232014_Stellungnahme_NADA_Externer_DSB_RefE_AntiDopG.pdf',\n",
    "            cleaner_config=[],\n",
    "            hostname_port=\"localhost:3001\"\n",
    "        )"
   ]
  },
  {
   "cell_type": "code",
   "execution_count": 48,
   "metadata": {},
   "outputs": [
    {
     "name": "stderr",
     "output_type": "stream",
     "text": [
      "exporting pages: 100%|██████████| 2/2 [00:00<00:00, 20.97it/s]\n",
      "trying to reverse page breaks: 1it [00:00, 2385.84it/s]"
     ]
    },
    {
     "name": "stdout",
     "output_type": "stream",
     "text": [
      "media line width: 418.51\n",
      "median line height: 9.56\n",
      "median line space: 5.915000000000022\n",
      "counter width:  [(429.16, 2), (387.36, 2), (121.94, 1)]\n",
      "counter height:  [(9.56, 30), (9.15, 21), (9.98, 12)]\n",
      "counter lineheight:  [(5.910000000000027, 7), (6.250000000000002, 4), (5.930000000000009, 3)]\n",
      "lines should be seperated\n",
      "['Betr.:', 'Ref.-Entwurf', 'eines', 'Gesetzes', 'zur', 'Bekämpfung', 'von', 'Doping', 'im', 'Sport', '(Stand:', '10.11.2014)'] ['Hier:', 'Datenschutzrechtliche', 'Stellungnahme']\n",
      "adding newline here ['Betr.:', 'Ref.-Entwurf', 'eines', 'Gesetzes', 'zur', 'Bekämpfung', 'von', 'Doping', 'im', 'Sport', '(Stand:', '10.11.2014)\\n']\n",
      "No next line, but adding \\n ['Hier:', 'Datenschutzrechtliche', 'Stellungnahme']\n",
      "adding newline here ['Hier:', 'Datenschutzrechtliche', 'Stellungnahme\\n']\n",
      "No next line, but adding \\n ['Gesundheitsdaten.']\n",
      "adding newline here ['Gesundheitsdaten.\\n']\n",
      "There is enough space on the lext for the next word. So adding a linebreak between ['Zu', 'den', 'einzelnen', 'Regelungen:']['1)', 'Zu', '$', '8-', 'Informationsaustausch']\n",
      "adding newline here ['Zu', 'den', 'einzelnen', 'Regelungen:\\n']\n",
      "No next line, but adding space ['1)', 'Zu', '$', '8-', 'Informationsaustausch']\n",
      "No next line, but adding \\n ['dopingrelevante', 'Verstöße', 'nach', 'Art.', '2', 'NADC', 'vorliegen.']\n",
      "adding newline here ['dopingrelevante', 'Verstöße', 'nach', 'Art.', '2', 'NADC', 'vorliegen.\\n']\n",
      "lines should be seperated\n",
      "['Es', 'fehlt', 'im', 'Übrigen', 'eine', 'Regelung', 'zur', 'Unterrichtung', 'der', 'Justizbehörden', 'durch', 'die', 'NADA.'] ['2)', 'Zu', '§', '9—', 'Umgang', 'mit', 'personenbezogenen', 'Daten']\n",
      "adding newline here ['Es', 'fehlt', 'im', 'Übrigen', 'eine', 'Regelung', 'zur', 'Unterrichtung', 'der', 'Justizbehörden', 'durch', 'die', 'NADA.\\n']\n",
      "No next line, but adding \\n ['2)', 'Zu', '§', '9—', 'Umgang', 'mit', 'personenbezogenen', 'Daten']\n",
      "adding newline here ['2)', 'Zu', '§', '9—', 'Umgang', 'mit', 'personenbezogenen', 'Daten\\n']\n",
      "lines should be seperated\n",
      "['bereits', 'aus', 'den', '88', '28', 'ff.', 'BDSG', 'in', 'Verbindung', 'mit', 'dem', 'WADA-Code.', 'Insofern', 'hat', 'der'] ['bereichsspezifische', 'Ansatz', '($', '1', 'Abs.', '3', 'BDSG)', 'eher', 'deklaratorische', 'Bedeutung.', 'Im', 'Übrigen', 'bleibt', 'der']\n",
      "adding newline here ['bereits', 'aus', 'den', '88', '28', 'ff.', 'BDSG', 'in', 'Verbindung', 'mit', 'dem', 'WADA-Code.', 'Insofern', 'hat', 'der\\n']\n",
      "No next line, but adding space ['Vorschlag', 'in', 'wichtigen', 'Teilbereichen', 'hinter', 'dem', 'geltenden', 'BDSG', 'und', 'dem', 'WADA-Code', 'zurück,', 'die']\n",
      "No next line, but adding \\n ['Betroffenen,', 'insbesondere', 'das', 'Recht', 'auf', 'Auskunft,', 'zumal', 'ADAMS', 'in', 'Kanada', 'gehostet', 'wird.']\n",
      "adding newline here ['Betroffenen,', 'insbesondere', 'das', 'Recht', 'auf', 'Auskunft,', 'zumal', 'ADAMS', 'in', 'Kanada', 'gehostet', 'wird.\\n']\n",
      "adding newline here ['3)', 'Zu', '8', '10', '-Umgang', 'mit', 'personenbezogenen', 'Gesundheitsdaten\\n']\n",
      "No next line, but adding \\n ['geschützter', 'Daten', 'Rechnung', 'getragen,', 'vgl.', 'Art.', '8', 'der', 'EG-Richtlinie', '95/46.']\n",
      "adding newline here ['geschützter', 'Daten', 'Rechnung', 'getragen,', 'vgl.', 'Art.', '8', 'der', 'EG-Richtlinie', '95/46.\\n']\n",
      "No next line, but adding \\n ['Datensicherheit', 'getroffen', 'werden,', '§', '9', 'BDSG.']\n",
      "adding newline here ['Datensicherheit', 'getroffen', 'werden,', '§', '9', 'BDSG.\\n']\n",
      "No next line, but adding \\n ['zu', 'den', 'Rechten', 'des', 'Betroffenen', 'auf', 'Auskunft).']\n",
      "adding newline here ['zu', 'den', 'Rechten', 'des', 'Betroffenen', 'auf', 'Auskunft).\\n']\n",
      "adding newline here ['4)', 'Schlussbewertung\\n']\n",
      "No next line, but adding \\n ['Rechtsgrundlage', 'der', 'Informationsverarbeitung.']\n",
      "adding newline here ['Rechtsgrundlage', 'der', 'Informationsverarbeitung.\\n']\n",
      "adding newline here ['Herrn', 'Dr.', 'Mortsiefer', 'mit', 'der', 'Bitte', 'um', 'Kenntnisnahme.\\n']\n",
      "adding newline here ['gez.', 'v.', 'Pommer', 'Esche\\n']\n",
      "the last element has 1 newlines. Do not try to join with the next one.\n"
     ]
    },
    {
     "name": "stderr",
     "output_type": "stream",
     "text": [
      "\n"
     ]
    }
   ],
   "source": [
    "e = ddd.Export(output, debug=True)"
   ]
  },
  {
   "cell_type": "code",
   "execution_count": 49,
   "metadata": {},
   "outputs": [
    {
     "name": "stdout",
     "output_type": "stream",
     "text": [
      "Betr.: Ref.-Entwurf eines Gesetzes zur Bekämpfung von Doping im Sport (Stand: 10.11.2014)\n",
      "Hier: Datenschutzrechtliche Stellungnahme\n",
      "\n",
      "Der Entwurf enthält neben erweiterten strafrechtlichen Sanktionsmöglichkeiten bei DopingVerstößen in den 88 8 ff. auch datenschutzrechtliche Regelungen, mit denen die Verarbeitung personenbezogener Daten zur Dopingbekämpfung auf gesetzlicher Grundlage geregelt werden soll. Die Autoren kommen damit auch einer Forderung der Datenschutz-Beauftragten nach. Im Prinzip handelt es sich um weit gefasste Befugnisregelungen, wobei sich die Frage stellt, ob damit das informationelle Selbstbestimmungsrecht der betroffenen Athleten/innen und anderer Personen gestärkt wird. Mit Anti-Doping—Maßnahmen wird erheblich in das Persönlichkeitsrecht Betroffener eingegriffen, was auch im nicht öffentlichen Bereich grundrechtsrelevant sein kann; nach der Rechtsprechung des BVerfG bedarf es hierfür einer verfassungsgemäßen gesetzlichen Grundlage, die dem rechtsstaatlichen Gebot der Normenklarheit entspricht. Außerdem hat der Gesetzgeber den Grundsatz der Verhältnismäßigkeit zu beachten. Es bestehen Zweifel, ob mit den vorgelegten abstrakten Regelungen das informationelle Selbstbestimmungsr des Einzelnen im Vergleich zu der bisher erteilten Einwilligung besser geschützt wird. Außerdem war die Einwilligung der Betroffenen eine adäquate Lösung für den Datentransfer in Drittstaaten und für die Verarbeitung von Gesundheitsdaten.\n",
      "\n",
      "Zu den einzelnen Regelungen:\n",
      "1) Zu $ 8- Informationsaustausch \n",
      "\n",
      "Geregelt werden soll die Informationsweitergabe durch Stellen der Justiz {hoheitlicher Bereich) an die NADA, damit letztere ihrer disziplinarischen Funktion besser nachkommen kann. Der Entwurf enthält keine Schwelle für solche Datenübermittlungen, abgesehen von Regelungen der StPO, die hierfür nicht einschlägig sind. Zum Schutz der Athleten und sonstiger Personen sollte die NADA frühestens dann unterrichtet werden, wenn die Staatsanwaltschaft eine Anklageerhebung beabsichtigt. Zudem müssen den Justizbehörden verwertbare Erkenntnisse über mögliche dopingrelevante Verstöße nach Art. 2 NADC vorliegen.\n",
      "\n",
      "Es fehlt im Übrigen eine Regelung zur Unterrichtung der Justizbehörden durch die NADA.\n",
      "2) Zu § 9— Umgang mit personenbezogenen Daten\n",
      "\n",
      "Mit der Neuregelung erhält die NADA die Befugnis, personenbezogene Daten „zur Durchführung ihres Dopingkontrollsystems zu erheben, ...“. Die Frage ist, ob der Aufgabenbereich der NADA damit hinreichend umschrieben ist. Jedenfalls bekommt die NADA eine gesetzliche Legitimation für die Informationsverarbeitung im Rahmen Ihres Mandats. Diese Befugnis ergibt sich dem Grunde nach bereits aus den 88 28 ff. BDSG in Verbindung mit dem WADA-Code. Insofern hat der\n",
      "bereichsspezifische Ansatz ($ 1 Abs. 3 BDSG) eher deklaratorische Bedeutung. Im Übrigen bleibt der Vorschlag in wichtigen Teilbereichen hinter dem geltenden BDSG und dem WADA-Code zurück, die \n",
      "\n",
      "bereits Regelungen zur Datenlöschung vorsehen, vgl. u.a. Art. 14.6 2. UA NADC. Zwar ist die Datenlöschung eine Phase der Datenverarbeitung ($ 3 Abs. 4 Satz 1 BDSG); sie sollte gleichwohl in einer bereichsspezifischen Regelung nochmals normiert werden. Dasselbe gilt für die Rechte der Betroffenen, insbesondere das Recht auf Auskunft, zumal ADAMS in Kanada gehostet wird.\n",
      "\n",
      "3) Zu 8 10 -Umgang mit personenbezogenen Gesundheitsdaten\n",
      "\n",
      "Es ist zu begrüßen, dass eine eigenständige gesetzliche Legitimation zum Umgang mit personenbezogenen Gesundheitsdaten geschaffen wird, im Hinblick auf deren erhöhten Schutzbedarf, vgl, $ 3 Abs. 9 BDSG. Dies gilt ungeachtet der Tatsache, dass ärztliche Diagnosedaten bei der NADA streng vertraulich aufbewahrt werden. Der Schutzbedarf wird durch eine bereichsspezifische Rechtsgrundlage realisiert, die an die Stelle der bisher praktizierten Einwilligungslösung tritt. Damit wird auch dem grundsätzlichen Verbot der Verarbeitung solcher geschützter Daten Rechnung getragen, vgl. Art. 8 der EG-Richtlinie 95/46.\n",
      "\n",
      "Es müssen jedoch zusätzlich die erforderlichen technischen und organisatorischen Maßnahmen zur Datensicherheit getroffen werden, § 9 BDSG.\n",
      "\n",
      "Bedenken bestehen weiter gegen die Ubermittlungsbefugnis nach Absatz 2, die auch Empfanger in Drittstaaten mit umfasst. Dies ist mit den stringenten Regelungen in § 4b, c BDSG/Art. 25/26 der Richtlinie 95/46 kaum vereinbar. Eine generelle, abstrakte Regelung wie in Absatz 2 stellt noch keine Garantie dar, wie in $ 4c Abs. 2 BDSG vorgeschrieben. Das heißt, auch nach der Neuregelung muss die übermittelnde Stelle (NADA) den Datenempfänger in Drittstaaten (ohne angemessenen Datenschutzstandard) durch vertragliche Abmachungen zur Einhaltung datenschutzrechtlicher Prinzipien verpflichten (insbes, zur Zweckbindung, zur Löschung, Verbot der Weiterübermittlung und zu den Rechten des Betroffenen auf Auskunft).\n",
      "\n",
      "4) Schlussbewertung\n",
      "\n",
      "Insgesamt ist der Gesetzesvorschlag ($8 8 bis 11) aus datenschutzrechtlicher Sicht zu begrüßen. Er führt zu mehr Rechtssicherheit, sollte aber wegen vorhandener Defizite noch nachgebessert werden. Die Alternative wäre eine allgemeine Datenschutzklausel von rein deklaratorischer Bedeutung, in Anlehnung an 8 9 des Vorschlags. Im letzteren Falie bliebe es bei der Einwilligung nach $ 4a BDSG als Rechtsgrundlage der Informationsverarbeitung.\n",
      "\n",
      "Herrn Dr. Mortsiefer mit der Bitte um Kenntnisnahme.\n",
      "\n",
      "gez. v. Pommer Esche\n",
      "\n",
      "\n"
     ]
    }
   ],
   "source": [
    "print(e.markdown())"
   ]
  },
  {
   "cell_type": "code",
   "execution_count": 50,
   "metadata": {},
   "outputs": [],
   "source": [
    "e.save_markdown(\"clean10.md\")"
   ]
  },
  {
   "cell_type": "code",
   "execution_count": null,
   "metadata": {},
   "outputs": [],
   "source": []
  },
  {
   "cell_type": "code",
   "execution_count": null,
   "metadata": {},
   "outputs": [],
   "source": []
  },
  {
   "cell_type": "code",
   "execution_count": null,
   "metadata": {},
   "outputs": [],
   "source": []
  },
  {
   "cell_type": "code",
   "execution_count": null,
   "metadata": {},
   "outputs": [],
   "source": []
  }
 ],
 "metadata": {
  "kernelspec": {
   "display_name": "Python 3",
   "language": "python",
   "name": "python3"
  },
  "language_info": {
   "codemirror_mode": {
    "name": "ipython",
    "version": 3
   },
   "file_extension": ".py",
   "mimetype": "text/x-python",
   "name": "python",
   "nbconvert_exporter": "python",
   "pygments_lexer": "ipython3",
   "version": "3.8.4"
  }
 },
 "nbformat": 4,
 "nbformat_minor": 4
}
