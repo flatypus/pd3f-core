{
 "cells": [
  {
   "cell_type": "code",
   "execution_count": 1,
   "metadata": {},
   "outputs": [],
   "source": [
    "from pathlib import Path\n",
    "\n",
    "import ddd"
   ]
  },
  {
   "cell_type": "code",
   "execution_count": 2,
   "metadata": {},
   "outputs": [
    {
     "name": "stdout",
     "output_type": "stream",
     "text": [
      "sending PDF to parsr\n",
      "> Polling server for the job 188834d7cc9f3f9804ffce2fcde88c...\n",
      ">> Progress percentage: 0\n",
      ">> Progress percentage: 0\n",
      ">> Progress percentage: 0\n",
      ">> Progress percentage: 0\n",
      ">> Progress percentage: 0\n",
      ">> Progress percentage: 0\n",
      ">> Job done!\n"
     ]
    }
   ],
   "source": [
    "output= ddd.run_parsr(\n",
    "            '/Users/user/code/ddd/data/proc_pdf/analog_de/00059_03292017_Stellungnahme_NRV_RefE_NetzDG.pdf',\n",
    "            cleaner_config=[[\"reading-order-detection\", {\"minVerticalGapWidth\": 15}], [\"header-footer-detection\", {\"maxMarginPercentage\": 15}], [\"lines-to-paragraph\",\n",
    "      {\n",
    "        \"tolerance\": 0.15\n",
    "      }]],\n",
    "            hostname_port=\"localhost:3001\"\n",
    "        )"
   ]
  },
  {
   "cell_type": "code",
   "execution_count": 3,
   "metadata": {},
   "outputs": [
    {
     "name": "stderr",
     "output_type": "stream",
     "text": [
      "exporting pages:   0%|          | 0/4 [00:00<?, ?it/s]"
     ]
    },
    {
     "name": "stdout",
     "output_type": "stream",
     "text": [
      "removing ['/'] because not alpha num\n",
      "adding linebreak between ['Neue', 'Richtervereinigung', 'e.V.', '|', 'Greifswalder', 'Str.', '4', '|', '10405', 'Berlin']None\n",
      "adding newline here ['Neue', 'Richtervereinigung', 'e.V.', '|', 'Greifswalder', 'Str.', '4', '|', '10405', 'Berlin\\n']\n",
      "adding linebreak between ['te']['Bundesbüro:']\n",
      "adding newline here ['te\\n']\n",
      "adding linebreak between ['Bundesbüro:']['a', '.', '.']\n",
      "adding newline here ['Bundesbüro:\\n']\n",
      "adding linebreak between ['a', '.', '.']['Martina', 'Reeßing,']\n",
      "adding newline here ['a', '.', '.\\n']\n",
      "adding linebreak between ['Bundesministerium', 'der', 'Justiz', 'und', 'für']['Leiterin', 'des', 'Bundesbüros']\n",
      "adding newline here ['Bundesministerium', 'der', 'Justiz', 'und', 'für\\n']\n",
      "testing the lines: \n",
      "['Leiterin', 'des', 'Bundesbüros'] ['Verbraucherschutz', 'Greifswalder', 'Str.', '4']\n",
      "adding newline here ['Leiterin', 'des', 'Bundesbüros\\n']\n",
      "testing the lines: \n",
      "['Verbraucherschutz', 'Greifswalder', 'Str.', '4'] ['10405', 'Berlin']\n",
      "adding newline here ['Verbraucherschutz', 'Greifswalder', 'Str.', '4\\n']\n",
      "testing the lines: \n",
      "['10405', 'Berlin'] ['Mohrenstraße', '37']\n",
      "adding newline here ['10405', 'Berlin\\n']\n",
      "adding linebreak between ['Mohrenstraße', '37']['Tel:', '030', '420223-49']\n",
      "adding newline here ['Mohrenstraße', '37\\n']\n",
      "adding linebreak between ['Tel:', '030', '420223-49']['Fax:', '-50']\n",
      "adding newline here ['Tel:', '030', '420223-49\\n']\n",
      "adding linebreak between ['Fax:', '-50']['11117', 'Berlin']\n",
      "adding newline here ['Fax:', '-50\\n']\n",
      "adding linebreak between ['11117', 'Berlin']['Mobil', '0176', '567', '996', '48']\n",
      "adding newline here ['11117', 'Berlin\\n']\n",
      "testing the lines: \n",
      "['Mobil', '0176', '567', '996', '48'] ['bb@neuerichter.de']\n",
      "adding newline here ['Mobil', '0176', '567', '996', '48\\n']\n",
      "testing the lines: \n",
      "['bb@neuerichter.de'] ['www.neuerichter.de']\n"
     ]
    },
    {
     "name": "stderr",
     "output_type": "stream",
     "text": [
      "exporting pages: 100%|██████████| 4/4 [00:12<00:00,  3.18s/it]\n",
      "trying to reverse page breaks: 3it [00:00, 306.77it/s]"
     ]
    },
    {
     "name": "stdout",
     "output_type": "stream",
     "text": [
      "adding newline here ['bb@neuerichter.de\\n']\n",
      "adding linebreak between ['Sehr', 'geehrter', 'Herr', 'Dr.', 'Meyer-Seitz,']['vielen', 'Dank', 'für', 'die', 'Gelegenheit', 'zur', 'Stellungnahme.']\n",
      "adding newline here ['Sehr', 'geehrter', 'Herr', 'Dr.', 'Meyer-Seitz,\\n']\n",
      "Id of cur para: 12170\n",
      "not a footnote para because of : in Bundesvorstandes:\n",
      "adding linebreak between ['Ruben', 'Franzen,', 'AG', 'Eilenburg,', 'Walther-Rathenau-Str.', '9,', '04838', 'Eilenburg,', 'Tel.:', '03423/654-330', '(d.)']['Wilfried', 'Hamm,', 'Wilfried.', 'Hamm@neuerichter.de,', 'Kontakt', 'über', 'Bundesbiiro,', 'Tel.', '01575/8418000']\n",
      "adding newline here ['Ruben', 'Franzen,', 'AG', 'Eilenburg,', 'Walther-Rathenau-Str.', '9,', '04838', 'Eilenburg,', 'Tel.:', '03423/654-330', '(d.)\\n']\n",
      "adding linebreak between ['Wilfried', 'Hamm,', 'Wilfried.', 'Hamm@neuerichter.de,', 'Kontakt', 'über', 'Bundesbiiro,', 'Tel.', '01575/8418000']['Werner', 'Kannenberg,', 'Special', 'Chamber', 'of', 'the', 'Supreme', 'Court,', 'Palace', 'of', 'Justice,', 'Objekt', 'A,', 'Nekibe', 'Keimendi', 'Street,', '10510', 'Hajvali/Kosovo,', 'Tel.:', '00377']\n",
      "adding newline here ['Wilfried', 'Hamm,', 'Wilfried.', 'Hamm@neuerichter.de,', 'Kontakt', 'über', 'Bundesbiiro,', 'Tel.', '01575/8418000\\n']\n",
      "adding linebreak between ['4518', '1246', '(d.)']['Marianne', 'Krause,', 'AG', 'Tempelhof-Kreuzberg,', 'Möckernstr.', '130,', '10963', 'Berlin,', 'Tel.:', '030/90175256', '(d.)']\n",
      "adding newline here ['4518', '1246', '(d.)\\n']\n",
      "adding linebreak between ['Marianne', 'Krause,', 'AG', 'Tempelhof-Kreuzberg,', 'Möckernstr.', '130,', '10963', 'Berlin,', 'Tel.:', '030/90175256', '(d.)']['Albert', 'Lohmann,', 'VG', 'Gelsenkirchen,', 'Bahnhofsvorplatz', '3,', '45879', 'Gelsenkirchen,', 'Tel.:', '0209/1701308', '(d.)']\n",
      "adding newline here ['Marianne', 'Krause,', 'AG', 'Tempelhof-Kreuzberg,', 'Möckernstr.', '130,', '10963', 'Berlin,', 'Tel.:', '030/90175256', '(d.)\\n']\n",
      "adding linebreak between ['den', 'Netzwerken', 'entfernt', 'zu', 'bekommen.', 'Insoweit', 'stellt', 'die', 'verpflichtende', 'Einführung', 'des', 'in']['§', '3', 'Abs.', '2', 'NetzDG', 'konzipierten', 'Verfahrens', 'grundsätzlich', 'einen', 'Fortschritt', 'dar.', 'Es', 'ist']\n",
      "adding newline here ['den', 'Netzwerken', 'entfernt', 'zu', 'bekommen.', 'Insoweit', 'stellt', 'die', 'verpflichtende', 'Einführung', 'des', 'in\\n']\n",
      "adding linebreak between ['mittelbare', 'Drittwirkung.']['Soweit', 'der', 'Gesetzentwurf', 'schweigt,', 'werden', 'die', 'allgemeinen', 'Regelungen', 'zur', 'Anwendung']\n",
      "adding newline here ['mittelbare', 'Drittwirkung.\\n']\n",
      "removing ['-'] because not alpha num\n",
      "removing ['-'] because not alpha num\n",
      "removing ['-'] because not alpha num\n",
      "adding linebreak between ['Art.', '5', 'GG', 'geschützten', 'Grundrechte', 'gerecht.']['Zu', 'all', 'dem', 'verhält', 'sich', 'das', 'NetzDG', 'nicht.', 'Es', 'ist', 'nicht', 'einmal', 'klar,', 'ob', '$', '3', 'NetzDG', 'als']\n",
      "adding newline here ['Art.', '5', 'GG', 'geschützten', 'Grundrechte', 'gerecht.\\n']\n",
      "adding linebreak between ['an', 'beweisbaren', 'Sachverhalten', 'bzw.', 'gründlichen', 'Ermittlungen', 'oft', 'fehlt.']['1.', 'Durch', 'das', 'Gesetz', 'in', 'der', 'vorliegenden', 'Fassung', 'werden', 'insoweit', 'Doppelstrukturen']\n",
      "adding newline here ['an', 'beweisbaren', 'Sachverhalten', 'bzw.', 'gründlichen', 'Ermittlungen', 'oft', 'fehlt.\\n']\n",
      "adding linebreak between ['kommt', 'notwendigerweise', 'nach', 'dem', 'vermeintlichen', 'Verstoß.']['Wenn', '$', '4', 'Abs.', '5', 'NetzDG', 'so', 'verstanden', 'werden', 'soll,', 'dass', 'vor', 'jedem', 'Bußgeldverfahren']\n",
      "adding newline here ['kommt', 'notwendigerweise', 'nach', 'dem', 'vermeintlichen', 'Verstoß.\\n']\n",
      "the last element has 4 newlines. Do not try to join with the next one.\n",
      "joining the following paragraphs\n",
      "welche rechtliche Bedeutung „teilen“ und „liken“ haben\n",
      "\n",
      " müssen dringend geregelt werden. Dafür sollte der Gesetzgeber eine klare (gesetzliche) Anspruchsgrundlage für Betroffene gegen soziale Netzwerke schaffen auf Löschung, die die obigen Fragen regelt. Vertragliche Regelungen sind nicht ausreichend, da Betroffene nicht notwendiger Weise Verträge mit den Netzwerken haben müssen.\n",
      "\n",
      "\n",
      "the last element has 1 newlines. Do not try to join with the next one.\n"
     ]
    },
    {
     "name": "stderr",
     "output_type": "stream",
     "text": [
      "\n"
     ]
    }
   ],
   "source": [
    "e = ddd.Export(output, debug=True)"
   ]
  },
  {
   "cell_type": "code",
   "execution_count": 4,
   "metadata": {},
   "outputs": [],
   "source": [
    "e.save_markdown(\"clean8.md\")"
   ]
  },
  {
   "cell_type": "code",
   "execution_count": null,
   "metadata": {},
   "outputs": [],
   "source": []
  },
  {
   "cell_type": "code",
   "execution_count": null,
   "metadata": {},
   "outputs": [],
   "source": []
  },
  {
   "cell_type": "code",
   "execution_count": null,
   "metadata": {},
   "outputs": [],
   "source": []
  },
  {
   "cell_type": "code",
   "execution_count": null,
   "metadata": {},
   "outputs": [],
   "source": []
  }
 ],
 "metadata": {
  "kernelspec": {
   "display_name": "Python 3",
   "language": "python",
   "name": "python3"
  },
  "language_info": {
   "codemirror_mode": {
    "name": "ipython",
    "version": 3
   },
   "file_extension": ".py",
   "mimetype": "text/x-python",
   "name": "python",
   "nbconvert_exporter": "python",
   "pygments_lexer": "ipython3",
   "version": "3.8.4"
  }
 },
 "nbformat": 4,
 "nbformat_minor": 4
}
