{
 "cells": [
  {
   "cell_type": "code",
   "execution_count": 1,
   "metadata": {},
   "outputs": [],
   "source": [
    "%reload_ext autoreload\n",
    "%autoreload 2"
   ]
  },
  {
   "cell_type": "code",
   "execution_count": 2,
   "metadata": {},
   "outputs": [],
   "source": [
    "import logging\n",
    "import sys"
   ]
  },
  {
   "cell_type": "code",
   "execution_count": 3,
   "metadata": {},
   "outputs": [],
   "source": [
    "logging.basicConfig(stream=sys.stdout, level=logging.DEBUG)"
   ]
  },
  {
   "cell_type": "code",
   "execution_count": 4,
   "metadata": {},
   "outputs": [
    {
     "name": "stdout",
     "output_type": "stream",
     "text": [
      "INFO:transformers.file_utils:PyTorch version 1.6.0 available.\n",
      "DEBUG:shapely.geos:Found GEOS DLL: <CDLL '/Users/user/Library/Caches/pypoetry/virtualenvs/pd3f-6oPk1I-T-py3.8/lib/python3.8/site-packages/shapely/.dylibs/libgeos_c.1.dylib', handle 7fc49d874830 at 0x1297b4d90>, using it.\n",
      "DEBUG:shapely.geos:Trying `CDLL(/usr/lib/libc.dylib)`\n",
      "DEBUG:shapely.geos:Library path: '/usr/lib/libc.dylib'\n",
      "DEBUG:shapely.geos:DLL: <CDLL '/usr/lib/libc.dylib', handle 105fcf830 at 0x1297b4e80>\n"
     ]
    }
   ],
   "source": [
    "import pd3f"
   ]
  },
  {
   "cell_type": "code",
   "execution_count": 6,
   "metadata": {},
   "outputs": [
    {
     "name": "stdout",
     "output_type": "stream",
     "text": [
      "INFO:pd3f.parsr_wrapper:sending PDF to Parsr\n",
      "DEBUG:pd3f.parsr_wrapper:{'version': 0.9, 'extractor': {'pdf': 'pdfminer', 'ocr': 'tesseract', 'language': ['deu']}, 'cleaner': ['drawing-detection', 'out-of-page-removal', ['whitespace-removal', {'minWidth': 0}], ['redundancy-detection', {'minOverlap': 0.5}], ['header-footer-detection', {'ignorePages': [], 'maxMarginPercentage': 15}], 'words-to-line-new', ['reading-order-detection', {'minVerticalGapWidth': 5, 'minColumnWidthInPagePercent': 15}], ['lines-to-paragraph', {'tolerance': 0.25}], 'page-number-detection', 'hierarchy-detection'], 'output': {'granularity': 'word', 'includeMarginals': True, 'includeDrawings': True, 'formats': {'json': True, 'text': False, 'csv': True, 'markdown': False, 'pdf': False, 'simpleJson': False}}}\n",
      "DEBUG:urllib3.connectionpool:Starting new HTTP connection (1): localhost:3001\n",
      "DEBUG:urllib3.connectionpool:http://localhost:3001 \"POST /api/v1/document HTTP/1.1\" 202 30\n",
      "> Polling server for the job c4c4747e55e46deee68dfd799c4680...\n",
      "DEBUG:urllib3.connectionpool:Starting new HTTP connection (1): localhost:3001\n",
      "DEBUG:urllib3.connectionpool:http://localhost:3001 \"GET /api/v1/queue/c4c4747e55e46deee68dfd799c4680 HTTP/1.1\" 200 109\n",
      ">> Progress percentage: 0\n",
      "DEBUG:urllib3.connectionpool:Starting new HTTP connection (1): localhost:3001\n",
      "DEBUG:urllib3.connectionpool:http://localhost:3001 \"GET /api/v1/queue/c4c4747e55e46deee68dfd799c4680 HTTP/1.1\" 200 109\n",
      ">> Progress percentage: 0\n",
      "DEBUG:urllib3.connectionpool:Starting new HTTP connection (1): localhost:3001\n",
      "DEBUG:urllib3.connectionpool:http://localhost:3001 \"GET /api/v1/queue/c4c4747e55e46deee68dfd799c4680 HTTP/1.1\" 200 109\n",
      ">> Progress percentage: 0\n",
      "DEBUG:urllib3.connectionpool:Starting new HTTP connection (1): localhost:3001\n",
      "DEBUG:urllib3.connectionpool:http://localhost:3001 \"GET /api/v1/queue/c4c4747e55e46deee68dfd799c4680 HTTP/1.1\" 200 308\n",
      ">> Progress percentage: 0\n",
      "DEBUG:urllib3.connectionpool:Starting new HTTP connection (1): localhost:3001\n",
      "DEBUG:urllib3.connectionpool:http://localhost:3001 \"GET /api/v1/queue/c4c4747e55e46deee68dfd799c4680 HTTP/1.1\" 201 257\n",
      ">> Job done!\n",
      "INFO:pd3f.parsr_wrapper:got response from Parsr\n",
      "DEBUG:urllib3.connectionpool:Starting new HTTP connection (1): localhost:3001\n",
      "DEBUG:urllib3.connectionpool:http://localhost:3001 \"GET /api/v1/json/c4c4747e55e46deee68dfd799c4680 HTTP/1.1\" 200 6066\n"
     ]
    },
    {
     "ename": "ValueError",
     "evalue": "Something is wrong with the document. Is the text broken?",
     "output_type": "error",
     "traceback": [
      "\u001b[0;31m---------------------------------------------------------------------------\u001b[0m",
      "\u001b[0;31mValueError\u001b[0m                                Traceback (most recent call last)",
      "\u001b[0;32m<ipython-input-6-52a68943e7cd>\u001b[0m in \u001b[0;36m<module>\u001b[0;34m\u001b[0m\n\u001b[0;32m----> 1\u001b[0;31m output= pd3f.extract(\n\u001b[0m\u001b[1;32m      2\u001b[0m             \u001b[0;34m'/Users/user/code/pd3f-core/data/proc_pdf/todo Copy/01793_08202015_Stellungnahme_BDZV_RefE_VG_Richtlinie_Umsetzungsgesetz.pdf'\u001b[0m\u001b[0;34m,\u001b[0m\u001b[0;34m\u001b[0m\u001b[0;34m\u001b[0m\u001b[0m\n\u001b[1;32m      3\u001b[0m             \u001b[0mexperimental\u001b[0m\u001b[0;34m=\u001b[0m\u001b[0;32mTrue\u001b[0m\u001b[0;34m,\u001b[0m\u001b[0;34m\u001b[0m\u001b[0;34m\u001b[0m\u001b[0m\n\u001b[1;32m      4\u001b[0m             \u001b[0mfast\u001b[0m\u001b[0;34m=\u001b[0m\u001b[0;32mTrue\u001b[0m\u001b[0;34m\u001b[0m\u001b[0;34m\u001b[0m\u001b[0m\n\u001b[1;32m      5\u001b[0m         )\n",
      "\u001b[0;32m~/code/pd3f-core/pd3f/export.py\u001b[0m in \u001b[0;36mextract\u001b[0;34m(file_path, tables, experimental, force_gpu, lang, parsr_location, fast, **kwargs)\u001b[0m\n\u001b[1;32m     51\u001b[0m         \u001b[0mfile_path\u001b[0m\u001b[0;34m,\u001b[0m \u001b[0mcheck_tables\u001b[0m\u001b[0;34m=\u001b[0m\u001b[0mtables\u001b[0m\u001b[0;34m,\u001b[0m \u001b[0mparsr_location\u001b[0m\u001b[0;34m=\u001b[0m\u001b[0mparsr_location\u001b[0m\u001b[0;34m,\u001b[0m \u001b[0mfast\u001b[0m\u001b[0;34m=\u001b[0m\u001b[0mfast\u001b[0m\u001b[0;34m\u001b[0m\u001b[0;34m\u001b[0m\u001b[0m\n\u001b[1;32m     52\u001b[0m     )\n\u001b[0;32m---> 53\u001b[0;31m     e = Export(\n\u001b[0m\u001b[1;32m     54\u001b[0m         \u001b[0minput_json\u001b[0m\u001b[0;34m,\u001b[0m\u001b[0;34m\u001b[0m\u001b[0;34m\u001b[0m\u001b[0m\n\u001b[1;32m     55\u001b[0m         \u001b[0mseperate_header_footer\u001b[0m\u001b[0;34m=\u001b[0m\u001b[0mexperimental\u001b[0m\u001b[0;34m,\u001b[0m\u001b[0;34m\u001b[0m\u001b[0;34m\u001b[0m\u001b[0m\n",
      "\u001b[0;32m~/code/pd3f-core/pd3f/export.py\u001b[0m in \u001b[0;36m__init__\u001b[0;34m(self, input_json, remove_punct_paragraph, seperate_header_footer, remove_duplicate_header_footer, remove_page_number, remove_header, remove_footer, remove_hyphens, footnotes_last, ocrd, lang, fast)\u001b[0m\n\u001b[1;32m    167\u001b[0m             \u001b[0mself\u001b[0m\u001b[0;34m.\u001b[0m\u001b[0mdelete_none_elements\u001b[0m\u001b[0;34m(\u001b[0m\u001b[0;34m)\u001b[0m\u001b[0;34m\u001b[0m\u001b[0;34m\u001b[0m\u001b[0m\n\u001b[1;32m    168\u001b[0m \u001b[0;34m\u001b[0m\u001b[0m\n\u001b[0;32m--> 169\u001b[0;31m         \u001b[0mself\u001b[0m\u001b[0;34m.\u001b[0m\u001b[0minfo\u001b[0m \u001b[0;34m=\u001b[0m \u001b[0mDocumentInfo\u001b[0m\u001b[0;34m(\u001b[0m\u001b[0mself\u001b[0m\u001b[0;34m.\u001b[0m\u001b[0minput_data\u001b[0m\u001b[0;34m)\u001b[0m\u001b[0;34m\u001b[0m\u001b[0;34m\u001b[0m\u001b[0m\n\u001b[0m\u001b[1;32m    170\u001b[0m         \u001b[0mself\u001b[0m\u001b[0;34m.\u001b[0m\u001b[0mfix_headers_footers\u001b[0m\u001b[0;34m(\u001b[0m\u001b[0;34m)\u001b[0m\u001b[0;34m\u001b[0m\u001b[0;34m\u001b[0m\u001b[0m\n\u001b[1;32m    171\u001b[0m         \u001b[0mself\u001b[0m\u001b[0;34m.\u001b[0m\u001b[0mexport\u001b[0m\u001b[0;34m(\u001b[0m\u001b[0;34m)\u001b[0m\u001b[0;34m\u001b[0m\u001b[0;34m\u001b[0m\u001b[0m\n",
      "\u001b[0;32m~/code/pd3f-core/pd3f/doc_info.py\u001b[0m in \u001b[0;36m__init__\u001b[0;34m(self, input_data)\u001b[0m\n\u001b[1;32m    188\u001b[0m         \u001b[0;31m# needs to be done first\u001b[0m\u001b[0;34m\u001b[0m\u001b[0;34m\u001b[0m\u001b[0;34m\u001b[0m\u001b[0m\n\u001b[1;32m    189\u001b[0m         \u001b[0mself\u001b[0m\u001b[0;34m.\u001b[0m\u001b[0melement_order_page\u001b[0m\u001b[0;34m(\u001b[0m\u001b[0;34m)\u001b[0m\u001b[0;34m\u001b[0m\u001b[0;34m\u001b[0m\u001b[0m\n\u001b[0;32m--> 190\u001b[0;31m         \u001b[0mself\u001b[0m\u001b[0;34m.\u001b[0m\u001b[0mdocument_font_stats\u001b[0m\u001b[0;34m(\u001b[0m\u001b[0;34m)\u001b[0m\u001b[0;34m\u001b[0m\u001b[0;34m\u001b[0m\u001b[0m\n\u001b[0m\u001b[1;32m    191\u001b[0m         \u001b[0mself\u001b[0m\u001b[0;34m.\u001b[0m\u001b[0mdocument_paragraph_stats\u001b[0m\u001b[0;34m(\u001b[0m\u001b[0;34m)\u001b[0m\u001b[0;34m\u001b[0m\u001b[0;34m\u001b[0m\u001b[0m\n\u001b[1;32m    192\u001b[0m \u001b[0;34m\u001b[0m\u001b[0m\n",
      "\u001b[0;32m~/code/pd3f-core/pd3f/doc_info.py\u001b[0m in \u001b[0;36mdocument_font_stats\u001b[0;34m(self)\u001b[0m\n\u001b[1;32m    237\u001b[0m \u001b[0;34m\u001b[0m\u001b[0m\n\u001b[1;32m    238\u001b[0m         \u001b[0;32mif\u001b[0m \u001b[0mlen\u001b[0m\u001b[0;34m(\u001b[0m\u001b[0mc\u001b[0m\u001b[0;34m)\u001b[0m \u001b[0;34m==\u001b[0m \u001b[0;36m0\u001b[0m\u001b[0;34m:\u001b[0m\u001b[0;34m\u001b[0m\u001b[0;34m\u001b[0m\u001b[0m\n\u001b[0;32m--> 239\u001b[0;31m             raise ValueError(\n\u001b[0m\u001b[1;32m    240\u001b[0m                 \u001b[0;34m\"Something is wrong with the document. Is the text broken?\"\u001b[0m\u001b[0;34m\u001b[0m\u001b[0;34m\u001b[0m\u001b[0m\n\u001b[1;32m    241\u001b[0m             )\n",
      "\u001b[0;31mValueError\u001b[0m: Something is wrong with the document. Is the text broken?"
     ]
    }
   ],
   "source": [
    "output= pd3f.extract(\n",
    "            '/Users/user/code/pd3f-core/data/proc_pdf/todo Copy/01793_08202015_Stellungnahme_BDZV_RefE_VG_Richtlinie_Umsetzungsgesetz.pdf',\n",
    "            experimental=True,\n",
    "            fast=True\n",
    "        )"
   ]
  },
  {
   "cell_type": "code",
   "execution_count": null,
   "metadata": {},
   "outputs": [],
   "source": [
    "print(output[0])"
   ]
  },
  {
   "cell_type": "code",
   "execution_count": null,
   "metadata": {},
   "outputs": [],
   "source": []
  },
  {
   "cell_type": "code",
   "execution_count": null,
   "metadata": {},
   "outputs": [],
   "source": []
  }
 ],
 "metadata": {
  "kernelspec": {
   "display_name": "Python 3",
   "language": "python",
   "name": "python3"
  },
  "language_info": {
   "codemirror_mode": {
    "name": "ipython",
    "version": 3
   },
   "file_extension": ".py",
   "mimetype": "text/x-python",
   "name": "python",
   "nbconvert_exporter": "python",
   "pygments_lexer": "ipython3",
   "version": "3.8.4"
  }
 },
 "nbformat": 4,
 "nbformat_minor": 4
}
