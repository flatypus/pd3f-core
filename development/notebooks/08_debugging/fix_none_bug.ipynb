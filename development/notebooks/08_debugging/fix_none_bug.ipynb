{
 "cells": [
  {
   "cell_type": "code",
   "execution_count": 1,
   "metadata": {},
   "outputs": [],
   "source": [
    "%reload_ext autoreload\n",
    "%autoreload 2"
   ]
  },
  {
   "cell_type": "code",
   "execution_count": 2,
   "metadata": {},
   "outputs": [],
   "source": [
    "import logging\n",
    "import sys"
   ]
  },
  {
   "cell_type": "code",
   "execution_count": 3,
   "metadata": {},
   "outputs": [],
   "source": [
    "logging.basicConfig(stream=sys.stdout, level=logging.DEBUG)"
   ]
  },
  {
   "cell_type": "code",
   "execution_count": 4,
   "metadata": {},
   "outputs": [
    {
     "name": "stdout",
     "output_type": "stream",
     "text": [
      "INFO:transformers.file_utils:PyTorch version 1.6.0 available.\n",
      "DEBUG:shapely.geos:Found GEOS DLL: <CDLL '/Users/user/Library/Caches/pypoetry/virtualenvs/pd3f-6oPk1I-T-py3.8/lib/python3.8/site-packages/shapely/.dylibs/libgeos_c.1.dylib', handle 7ff9d392ba40 at 0x12bf2ad30>, using it.\n",
      "DEBUG:shapely.geos:Trying `CDLL(/usr/lib/libc.dylib)`\n",
      "DEBUG:shapely.geos:Library path: '/usr/lib/libc.dylib'\n",
      "DEBUG:shapely.geos:DLL: <CDLL '/usr/lib/libc.dylib', handle 111811830 at 0x12bf2ae50>\n"
     ]
    }
   ],
   "source": [
    "import pd3f"
   ]
  },
  {
   "cell_type": "code",
   "execution_count": 6,
   "metadata": {},
   "outputs": [
    {
     "name": "stdout",
     "output_type": "stream",
     "text": [
      "INFO:pd3f.parsr_wrapper:sending PDF to Parsr\n",
      "DEBUG:pd3f.parsr_wrapper:{'version': 0.9, 'extractor': {'pdf': 'pdfminer', 'ocr': 'tesseract', 'language': ['deu']}, 'cleaner': ['drawing-detection', 'out-of-page-removal', ['whitespace-removal', {'minWidth': 0}], ['redundancy-detection', {'minOverlap': 0.5}], ['header-footer-detection', {'ignorePages': [], 'maxMarginPercentage': 15}], 'words-to-line-new', ['reading-order-detection', {'minVerticalGapWidth': 5, 'minColumnWidthInPagePercent': 15}], ['lines-to-paragraph', {'tolerance': 0.25}], 'page-number-detection', 'hierarchy-detection'], 'output': {'granularity': 'word', 'includeMarginals': True, 'includeDrawings': True, 'formats': {'json': True, 'text': False, 'csv': True, 'markdown': False, 'pdf': False, 'simpleJson': False}}}\n",
      "DEBUG:urllib3.connectionpool:Starting new HTTP connection (1): localhost:3001\n",
      "DEBUG:urllib3.connectionpool:http://localhost:3001 \"POST /api/v1/document HTTP/1.1\" 202 30\n",
      "> Polling server for the job e4b7e11dd967e79145acf47acc08fc...\n",
      "DEBUG:urllib3.connectionpool:Starting new HTTP connection (1): localhost:3001\n",
      "DEBUG:urllib3.connectionpool:http://localhost:3001 \"GET /api/v1/queue/e4b7e11dd967e79145acf47acc08fc HTTP/1.1\" 200 109\n",
      ">> Progress percentage: 0\n",
      "DEBUG:urllib3.connectionpool:Starting new HTTP connection (1): localhost:3001\n",
      "DEBUG:urllib3.connectionpool:http://localhost:3001 \"GET /api/v1/queue/e4b7e11dd967e79145acf47acc08fc HTTP/1.1\" 200 109\n",
      ">> Progress percentage: 0\n",
      "DEBUG:urllib3.connectionpool:Starting new HTTP connection (1): localhost:3001\n",
      "DEBUG:urllib3.connectionpool:http://localhost:3001 \"GET /api/v1/queue/e4b7e11dd967e79145acf47acc08fc HTTP/1.1\" 200 263\n",
      ">> Progress percentage: 0\n",
      "DEBUG:urllib3.connectionpool:Starting new HTTP connection (1): localhost:3001\n",
      "DEBUG:urllib3.connectionpool:http://localhost:3001 \"GET /api/v1/queue/e4b7e11dd967e79145acf47acc08fc HTTP/1.1\" 200 126\n",
      ">> Progress percentage: 0\n",
      "DEBUG:urllib3.connectionpool:Starting new HTTP connection (1): localhost:3001\n",
      "DEBUG:urllib3.connectionpool:http://localhost:3001 \"GET /api/v1/queue/e4b7e11dd967e79145acf47acc08fc HTTP/1.1\" 201 257\n",
      ">> Job done!\n",
      "INFO:pd3f.parsr_wrapper:got response from Parsr\n",
      "DEBUG:urllib3.connectionpool:Starting new HTTP connection (1): localhost:3001\n",
      "DEBUG:urllib3.connectionpool:http://localhost:3001 \"GET /api/v1/json/e4b7e11dd967e79145acf47acc08fc HTTP/1.1\" 200 103549\n",
      "INFO:pd3f.doc_info:media line width: 301.34\n",
      "INFO:pd3f.doc_info:median line height: 7.91\n",
      "INFO:pd3f.doc_info:median line space: 12.220000000000052\n",
      "INFO:pd3f.doc_info:counter width: [(301.89, 3), (301.97, 2), (301.34, 2), (302.1, 2), (72.16, 1)]\n",
      "INFO:pd3f.doc_info:counter height: [(7.91, 42), (7.55, 20), (7.19, 6), (6.83, 3), (8.27, 3)]\n",
      "INFO:pd3f.doc_info:counter lineheight: [(12.229999999999986, 11), (12.219999999999995, 5), (12.579999999999995, 3), (12.150000000000059, 2), (12.589999999999986, 2)]\n",
      "INFO:pd3f.export:export page #0\n",
      "DEBUG:pd3f.export:There is enough space on the lext for the next word. So adding a linebreak between ['Verband', 'Deutscher', 'Bühnen', 'Medienverlage', '«-', '+']['VDB', 'Pariser', 'Straße', '47', '10719', 'Berlin']\n",
      "DEBUG:pd3f.export:adding newline here ['Verband', 'Deutscher', 'Bühnen', 'Medienverlage', '«-', '+\\n']\n",
      "DEBUG:pd3f.export:No next line, but adding space ['VDB', 'Pariser', 'Straße', '47', '10719', 'Berlin']\n",
      "DEBUG:pd3f.export:last line, not adding space\n",
      "DEBUG:pd3f.export:testing the lines: \n",
      "DEBUG:pd3f.export:['Bundesministerium', 'der', 'Justiz'] ['und', 'für', 'Verbraucherschutz']\n",
      "DEBUG:pd3f.export:testing the lines: \n",
      "DEBUG:pd3f.export:['und', 'für', 'Verbraucherschutz'] ['Referat', 'III', 'B3']\n",
      "DEBUG:pd3f.export:adding newline here ['und', 'für', 'Verbraucherschutz\\n']\n",
      "DEBUG:pd3f.export:There is enough space on the lext for the next word. So adding a linebreak between ['Referat', 'III', 'B3']['Mohrenstraße', '37']\n",
      "DEBUG:pd3f.export:adding newline here ['Referat', 'III', 'B3\\n']\n",
      "DEBUG:pd3f.export:No next line, but adding \\n, avail space: 49.89499999999998 avg space: 1.9050000000000153 ['Mohrenstraße', '37']\n",
      "DEBUG:pd3f.export:adding newline here ['Mohrenstraße', '37\\n']\n",
      "DEBUG:pd3f.export:There is enough space on the lext for the next word. So adding a linebreak between ['10117', 'Berlin']['Nur', 'Mail', 'Referat-IIIB3@bmijv.bund.de']\n",
      "DEBUG:pd3f.export:adding newline here ['10117', 'Berlin\\n']\n",
      "DEBUG:pd3f.export:No next line, but adding space ['Nur', 'Mail', 'Referat-IIIB3@bmijv.bund.de']\n",
      "DEBUG:pd3f.export:last line, not adding space\n",
      "DEBUG:pd3f.export:testing the lines: \n",
      "DEBUG:pd3f.export:['24.02.2017/BMJV'] ['UrhWissG']\n",
      "DEBUG:pd3f.export:No next line, but adding \\n, avail space: 0.9100000000000392 avg space: 0.0 ['UrhWissG']\n",
      "DEBUG:pd3f.export:adding newline here ['UrhWissG\\n']\n",
      "DEBUG:pd3f.export:removing ['|'] because not alpha num\n",
      "DEBUG:pd3f.export:There is enough space on the lext for the next word. So adding a linebreak between ['„Bildungs-', 'und', 'Wissenschaftsschranke“']['1.', 'Referentenentwurf', 'eines', 'Gesetzes', 'zur', 'Angleichung', 'des', 'Urheberrechts', 'an']\n",
      "DEBUG:pd3f.export:adding newline here ['„Bildungs-', 'und', 'Wissenschaftsschranke“\\n']\n",
      "DEBUG:pd3f.export:No next line, but adding \\n, avail space: 67.02999999999999 avg space: 3.6499999999999964 ['1.', 'Referentenentwurf', 'eines', 'Gesetzes', 'zur', 'Angleichung', 'des', 'Urheberrechts', 'an']\n",
      "DEBUG:pd3f.export:adding newline here ['1.', 'Referentenentwurf', 'eines', 'Gesetzes', 'zur', 'Angleichung', 'des', 'Urheberrechts', 'an\\n']\n",
      "DEBUG:pd3f.export:There is enough space on the lext for the next word. So adding a linebreak between ['Wissensgesellschaft-Gesetz', '-', 'UrhWissG)']['2.', 'L.]']\n",
      "DEBUG:pd3f.export:adding newline here ['Wissensgesellschaft-Gesetz', '-', 'UrhWissG)\\n']\n",
      "DEBUG:pd3f.export:There is enough space on the lext for the next word. So adding a linebreak between ['2.', 'L.]']['Ihr', 'Schreiben', 'vom', '01.02.2017', '[1lIB3', '3600/24-34', '272/2016]']\n",
      "DEBUG:pd3f.export:adding newline here ['2.', 'L.]\\n']\n",
      "DEBUG:pd3f.export:No next line, but adding \\n, avail space: 147.4385714285714 avg space: 2.5114285714285773 ['Ihr', 'Schreiben', 'vom', '01.02.2017', '[1lIB3', '3600/24-34', '272/2016]']\n",
      "DEBUG:pd3f.export:adding newline here ['Ihr', 'Schreiben', 'vom', '01.02.2017', '[1lIB3', '3600/24-34', '272/2016]\\n']\n",
      "DEBUG:pd3f.export:adding newline here ['Sehr', 'geehrter', 'Herr', 'Dr.', 'Entelmann,\\n']\n",
      "DEBUG:pd3f.export:No next line, but adding \\n, avail space: 173.54666666666665 avg space: 1.6333333333333446 ['gesellschaft-Gesetz', '—', 'UrhWissG).']\n",
      "DEBUG:pd3f.export:adding newline here ['gesellschaft-Gesetz', '—', 'UrhWissG).\\n']\n",
      "DEBUG:pd3f.export:No next line, but adding space ['uns', 'zur', 'Frage', 'des', 'Verleihs', 'von', 'E-Books', 'durch', 'Bibliotheken', 'nicht', 'äußern.']\n",
      "DEBUG:pd3f.export:last line, not adding space\n",
      "DEBUG:pd3f.export:There is enough space on the lext for the next word. So adding a linebreak between ['USt.-IdNr.', 'DE136623113']['Pariser', 'Straße', '47', '10719', 'Berlin', 'Tel+49(0)30-862', '081-61', 'Fax-57', 'www.theatertexte.de', 'info@buehnenverleger.de']\n",
      "DEBUG:pd3f.export:adding newline here ['USt.-IdNr.', 'DE136623113\\n']\n",
      "DEBUG:pd3f.export:No next line, but adding space ['Pariser', 'Straße', '47', '10719', 'Berlin', 'Tel+49(0)30-862', '081-61', 'Fax-57', 'www.theatertexte.de', 'info@buehnenverleger.de']\n",
      "DEBUG:pd3f.export:last line, not adding space\n",
      "INFO:pd3f.export:export page #1\n",
      "DEBUG:pd3f.export:adding newline here ['Konzeption\\n']\n",
      "DEBUG:pd3f.export:No next line, but adding \\n, avail space: 114.38999999999997 avg space: 2.9100000000000046 ['ausnahmen', 'halten', 'wir', 'für', 'richtig', 'und', 'sinnvoll.']\n",
      "DEBUG:pd3f.export:adding newline here ['ausnahmen', 'halten', 'wir', 'für', 'richtig', 'und', 'sinnvoll.\\n']\n",
      "DEBUG:pd3f.export:adding newline here ['Schrankenregelungen\\n']\n",
      "DEBUG:pd3f.export:No next line, but adding \\n, avail space: 239.515 avg space: 2.1950000000000074 ['genannten', 'Fällen.']\n",
      "DEBUG:pd3f.export:adding newline here ['genannten', 'Fällen.\\n']\n",
      "DEBUG:pd3f.export:No next line, but adding \\n, avail space: 107.76599999999999 avg space: 2.6440000000000055 ['Ansatz', 'nochmals', 'überprüft', 'werden', 'könnte.']\n",
      "DEBUG:pd3f.export:adding newline here ['Ansatz', 'nochmals', 'überprüft', 'werden', 'könnte.\\n']\n",
      "DEBUG:pd3f.export:No next line, but adding space ['als', 'sachlich', 'geboten', 'angesehen', 'wird.', 'Wir', 'bitten', 'deshalb', 'zu', 'prüfen,']\n",
      "DEBUG:pd3f.export:last line, not adding space\n",
      "INFO:pd3f.export:export page #2\n",
      "DEBUG:pd3f.export:No next line, but adding \\n, avail space: 232.86 avg space: 2.1200000000000045 ['erforderlich', 'ist.']\n",
      "DEBUG:pd3f.export:adding newline here ['erforderlich', 'ist.\\n']\n",
      "DEBUG:pd3f.export:No next line, but adding \\n, avail space: 70.158 avg space: 2.8519999999999923 ['dieser', 'Allgemeinheit', 'nicht', 'überzeugend', 'begründen.']\n",
      "DEBUG:pd3f.export:adding newline here ['dieser', 'Allgemeinheit', 'nicht', 'überzeugend', 'begründen.\\n']\n",
      "DEBUG:pd3f.export:No next line, but adding space ['88', '46,', '52', 'und', '52a', 'UrhG', 'schließen', 'die', 'vergütungsfreie', 'Nutzung']\n",
      "DEBUG:pd3f.export:last line, not adding space\n",
      "INFO:pd3f.export:export page #3\n",
      "DEBUG:pd3f.export:No next line, but adding \\n, avail space: 47.79428571428575 avg space: 2.705714285714277 ['vielfach', 'sogar', 'erst', 'im', 'Nachhinein', 'abgeschlossen', 'werden.']\n",
      "DEBUG:pd3f.export:adding newline here ['vielfach', 'sogar', 'erst', 'im', 'Nachhinein', 'abgeschlossen', 'werden.\\n']\n",
      "DEBUG:pd3f.export:There is enough space on the lext for the next word. So adding a linebreak between ['Mit', 'freundlichen', 'Grüßen']['Verband', 'Deutscher', 'Bühnen-', 'und', 'Medienverlage']\n",
      "DEBUG:pd3f.export:adding newline here ['Mit', 'freundlichen', 'Grüßen\\n']\n",
      "DEBUG:pd3f.export:No next line, but adding space ['Verband', 'Deutscher', 'Bühnen-', 'und', 'Medienverlage']\n",
      "DEBUG:pd3f.export:last line, not adding space\n",
      "DEBUG:pd3f.export:testing the lines: \n",
      "DEBUG:pd3f.export:['Dr.', 'Jan', 'Ehrhardt'] ['Geschäftsführender', 'Justiziar']\n",
      "DEBUG:pd3f.export:adding newline here ['Dr.', 'Jan', 'Ehrhardt\\n']\n",
      "DEBUG:pd3f.export:No next line, but adding space ['Geschäftsführender', 'Justiziar']\n",
      "DEBUG:pd3f.export:last line, not adding space\n",
      "INFO:pd3f.doc_output:reversing page break page #0\n",
      "DEBUG:pd3f.doc_output:looks like a split paragraph\n",
      "INFO:pd3f.doc_output:reversing page break page #1\n",
      "DEBUG:pd3f.doc_output:joining the following paragraphs\n",
      "DEBUG:pd3f.doc_output:b) Die ausschließliche Zuständigkeit der Verwertungsgesellschaften, den Anspruch auf angemessene Vergütung geltend machen zu können, ist unserer Meinung nach ebenfalls zu hinterfragen. Den bestehenden Lizenzmodellen liegt unserer Kenntnis nach eine Einzelabrechnung zugrunde, die in der Praxis keine Schwierigkeiten aufwirft und zudem von der Rechtsprechung zum geltenden Recht als sachlich geboten angesehen wird. Wir bitten deshalb zu prüfen, ob die Regelung in $ 60h Absatz 5 Satz 1 RefE in dieser Weite erforderlich ist.\n",
      "\n",
      "\n",
      "\n",
      "ob die Regelung in $ 60h Absatz 5 Satz 1 RefE in dieser Weite erforderlich ist.\n",
      "\n",
      "\n",
      "\n",
      "b) Die ausschließliche Zuständigkeit der Verwertungsgesellschaften, den Anspruch auf angemessene Vergütung geltend machen zu können, ist unserer Meinung nach ebenfalls zu hinterfragen. Den bestehenden Lizenzmodellen liegt unserer Kenntnis nach eine Einzelabrechnung zugrunde, die in der Praxis keine Schwierigkeiten aufwirft und zudem von der Rechtsprechung zum geltenden Recht als sachlich geboten angesehen wird. Wir bitten deshalb zu prüfen, ob die Regelung in $ 60h Absatz 5 Satz 1 RefE in dieser Weite erforderlich ist.\n",
      "\n",
      "\n",
      "\n",
      "INFO:pd3f.doc_output:reversing page break page #2\n",
      "DEBUG:pd3f.doc_output:joining the following paragraphs\n",
      "DEBUG:pd3f.doc_output:Unabhängig hiervon können wir nicht ausschließen, dass die Schranken für die gesetzlich erlaubten Nutzungen nach $ 60a Absatz 1 RefE aufgrund der Rechtsprechung des Europäischen Gerichtshofes zur öffentlichen Wiedergabe i.S.d. Artikel 3 InfoSocRL 2001/29/EG faktisch längst weiter abgesenkt sind. Der Hinweis der Begründung auf die Bestimmung des 8 15 Absatz 3 UrhG allein erscheint uns in diesem Zusammenhang zu kurz gegriffen. Die Begründung spricht mit ihren Beispielen das Problem selbst an, allerdings nur mittelbar: Bestimmte Nutzungen in Unterricht und Lehre steilen mangels Öffentlichkeit tatbestandsmäßig keinen Eingriff in geschützte Rechtspositionen des Rechteinhabers (mehr) dar. Auf die Schrankenregelung des Referentenentwurfs und die Konformität mit den Anforderungen des Artikel 5 Absatz 3 InfoSocRL 2001/29/EG käme es danach nicht an. Eine Vielzahl von Theaterverlagen haben ihre Tätigkeit (teils ausschließlich) auf Bühnenwerke für Laienensembles, insbesondere an Schulen in den hierfür in Frage kommenden Unterrichtsfächern wie Darstellendes Spiel und Deutsch ausgerichtet. Die bestehenden Vorschriften der 88 46, 52 und 52a UrhG schließen die vergütungsfreie Nutzung dieser dramatischen Werken außerhalb des Unterrichts aus. Die Übergangsvorschrift ($ 137k RefE) hilft hier nicht weiter, da Lizenzverträge („Aufführungsgenehmigungen“) nur kurzfristig, vielfach sogar erst im Nachhinein abgeschlossen werden.\n",
      "\n",
      "\n",
      "\n",
      "dieser dramatischen Werken außerhalb des Unterrichts aus. Die Übergangsvorschrift ($ 137k RefE) hilft hier nicht weiter, da Lizenzverträge („Aufführungsgenehmigungen“) nur kurzfristig, vielfach sogar erst im Nachhinein abgeschlossen werden.\n",
      "\n",
      "\n",
      "\n",
      "Unabhängig hiervon können wir nicht ausschließen, dass die Schranken für die gesetzlich erlaubten Nutzungen nach $ 60a Absatz 1 RefE aufgrund der Rechtsprechung des Europäischen Gerichtshofes zur öffentlichen Wiedergabe i.S.d. Artikel 3 InfoSocRL 2001/29/EG faktisch längst weiter abgesenkt sind. Der Hinweis der Begründung auf die Bestimmung des 8 15 Absatz 3 UrhG allein erscheint uns in diesem Zusammenhang zu kurz gegriffen. Die Begründung spricht mit ihren Beispielen das Problem selbst an, allerdings nur mittelbar: Bestimmte Nutzungen in Unterricht und Lehre steilen mangels Öffentlichkeit tatbestandsmäßig keinen Eingriff in geschützte Rechtspositionen des Rechteinhabers (mehr) dar. Auf die Schrankenregelung des Referentenentwurfs und die Konformität mit den Anforderungen des Artikel 5 Absatz 3 InfoSocRL 2001/29/EG käme es danach nicht an. Eine Vielzahl von Theaterverlagen haben ihre Tätigkeit (teils ausschließlich) auf Bühnenwerke für Laienensembles, insbesondere an Schulen in den hierfür in Frage kommenden Unterrichtsfächern wie Darstellendes Spiel und Deutsch ausgerichtet. Die bestehenden Vorschriften der 88 46, 52 und 52a UrhG schließen die vergütungsfreie Nutzung dieser dramatischen Werken außerhalb des Unterrichts aus. Die Übergangsvorschrift ($ 137k RefE) hilft hier nicht weiter, da Lizenzverträge („Aufführungsgenehmigungen“) nur kurzfristig, vielfach sogar erst im Nachhinein abgeschlossen werden.\n",
      "\n",
      "\n",
      "\n"
     ]
    }
   ],
   "source": [
    "output= pd3f.extract(\n",
    "            '/Users/user/code/pd3f-core/data/proc_pdf/analog_de/02131_02222017_Stellungnahme_vdb_RefE_UrhWissG.pdf',\n",
    "            experimental=True,\n",
    "            fast=True\n",
    "        )"
   ]
  },
  {
   "cell_type": "code",
   "execution_count": null,
   "metadata": {},
   "outputs": [],
   "source": [
    "print(output[0])"
   ]
  },
  {
   "cell_type": "code",
   "execution_count": null,
   "metadata": {},
   "outputs": [],
   "source": []
  },
  {
   "cell_type": "code",
   "execution_count": null,
   "metadata": {},
   "outputs": [],
   "source": []
  }
 ],
 "metadata": {
  "kernelspec": {
   "display_name": "Python 3",
   "language": "python",
   "name": "python3"
  },
  "language_info": {
   "codemirror_mode": {
    "name": "ipython",
    "version": 3
   },
   "file_extension": ".py",
   "mimetype": "text/x-python",
   "name": "python",
   "nbconvert_exporter": "python",
   "pygments_lexer": "ipython3",
   "version": "3.8.4"
  }
 },
 "nbformat": 4,
 "nbformat_minor": 4
}
