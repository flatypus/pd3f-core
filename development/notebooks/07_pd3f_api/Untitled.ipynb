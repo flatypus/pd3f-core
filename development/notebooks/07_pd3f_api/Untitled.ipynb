{
 "cells": [
  {
   "cell_type": "code",
   "execution_count": 8,
   "metadata": {},
   "outputs": [],
   "source": [
    "import time\n",
    "\n",
    "import requests"
   ]
  },
  {
   "cell_type": "code",
   "execution_count": 14,
   "metadata": {},
   "outputs": [],
   "source": [
    "files = {'pdf': ('test.pdf', open('/Users/user/Downloads/3kg5LtLygF4qdurCZPdt5b02628_04292015_Stellungnahme_Gravenbrucher_Kreis_RefE_Anfechtungsgesetz_dragged.pdf'))}"
   ]
  },
  {
   "cell_type": "code",
   "execution_count": 15,
   "metadata": {},
   "outputs": [
    {
     "ename": "UnicodeDecodeError",
     "evalue": "'utf-8' codec can't decode byte 0xbf in position 10: invalid start byte",
     "output_type": "error",
     "traceback": [
      "\u001b[0;31m---------------------------------------------------------------------------\u001b[0m",
      "\u001b[0;31mUnicodeDecodeError\u001b[0m                        Traceback (most recent call last)",
      "\u001b[0;32m<ipython-input-15-5f1e4ff5e33c>\u001b[0m in \u001b[0;36m<module>\u001b[0;34m\u001b[0m\n\u001b[0;32m----> 1\u001b[0;31m \u001b[0mresponse\u001b[0m \u001b[0;34m=\u001b[0m \u001b[0mrequests\u001b[0m\u001b[0;34m.\u001b[0m\u001b[0mpost\u001b[0m\u001b[0;34m(\u001b[0m\u001b[0;34m'http://localhost:1616'\u001b[0m\u001b[0;34m,\u001b[0m \u001b[0mfiles\u001b[0m\u001b[0;34m=\u001b[0m\u001b[0mfiles\u001b[0m\u001b[0;34m,\u001b[0m \u001b[0mdata\u001b[0m\u001b[0;34m=\u001b[0m\u001b[0;34m{\u001b[0m\u001b[0;34m'lang'\u001b[0m\u001b[0;34m:\u001b[0m \u001b[0;34m'de'\u001b[0m\u001b[0;34m}\u001b[0m\u001b[0;34m)\u001b[0m\u001b[0;34m\u001b[0m\u001b[0;34m\u001b[0m\u001b[0m\n\u001b[0m",
      "\u001b[0;32m~/Library/Caches/pypoetry/virtualenvs/pdddf-rsXREmUU-py3.8/lib/python3.8/site-packages/requests/api.py\u001b[0m in \u001b[0;36mpost\u001b[0;34m(url, data, json, **kwargs)\u001b[0m\n\u001b[1;32m    117\u001b[0m     \"\"\"\n\u001b[1;32m    118\u001b[0m \u001b[0;34m\u001b[0m\u001b[0m\n\u001b[0;32m--> 119\u001b[0;31m     \u001b[0;32mreturn\u001b[0m \u001b[0mrequest\u001b[0m\u001b[0;34m(\u001b[0m\u001b[0;34m'post'\u001b[0m\u001b[0;34m,\u001b[0m \u001b[0murl\u001b[0m\u001b[0;34m,\u001b[0m \u001b[0mdata\u001b[0m\u001b[0;34m=\u001b[0m\u001b[0mdata\u001b[0m\u001b[0;34m,\u001b[0m \u001b[0mjson\u001b[0m\u001b[0;34m=\u001b[0m\u001b[0mjson\u001b[0m\u001b[0;34m,\u001b[0m \u001b[0;34m**\u001b[0m\u001b[0mkwargs\u001b[0m\u001b[0;34m)\u001b[0m\u001b[0;34m\u001b[0m\u001b[0;34m\u001b[0m\u001b[0m\n\u001b[0m\u001b[1;32m    120\u001b[0m \u001b[0;34m\u001b[0m\u001b[0m\n\u001b[1;32m    121\u001b[0m \u001b[0;34m\u001b[0m\u001b[0m\n",
      "\u001b[0;32m~/Library/Caches/pypoetry/virtualenvs/pdddf-rsXREmUU-py3.8/lib/python3.8/site-packages/requests/api.py\u001b[0m in \u001b[0;36mrequest\u001b[0;34m(method, url, **kwargs)\u001b[0m\n\u001b[1;32m     59\u001b[0m     \u001b[0;31m# cases, and look like a memory leak in others.\u001b[0m\u001b[0;34m\u001b[0m\u001b[0;34m\u001b[0m\u001b[0;34m\u001b[0m\u001b[0m\n\u001b[1;32m     60\u001b[0m     \u001b[0;32mwith\u001b[0m \u001b[0msessions\u001b[0m\u001b[0;34m.\u001b[0m\u001b[0mSession\u001b[0m\u001b[0;34m(\u001b[0m\u001b[0;34m)\u001b[0m \u001b[0;32mas\u001b[0m \u001b[0msession\u001b[0m\u001b[0;34m:\u001b[0m\u001b[0;34m\u001b[0m\u001b[0;34m\u001b[0m\u001b[0m\n\u001b[0;32m---> 61\u001b[0;31m         \u001b[0;32mreturn\u001b[0m \u001b[0msession\u001b[0m\u001b[0;34m.\u001b[0m\u001b[0mrequest\u001b[0m\u001b[0;34m(\u001b[0m\u001b[0mmethod\u001b[0m\u001b[0;34m=\u001b[0m\u001b[0mmethod\u001b[0m\u001b[0;34m,\u001b[0m \u001b[0murl\u001b[0m\u001b[0;34m=\u001b[0m\u001b[0murl\u001b[0m\u001b[0;34m,\u001b[0m \u001b[0;34m**\u001b[0m\u001b[0mkwargs\u001b[0m\u001b[0;34m)\u001b[0m\u001b[0;34m\u001b[0m\u001b[0;34m\u001b[0m\u001b[0m\n\u001b[0m\u001b[1;32m     62\u001b[0m \u001b[0;34m\u001b[0m\u001b[0m\n\u001b[1;32m     63\u001b[0m \u001b[0;34m\u001b[0m\u001b[0m\n",
      "\u001b[0;32m~/Library/Caches/pypoetry/virtualenvs/pdddf-rsXREmUU-py3.8/lib/python3.8/site-packages/requests/sessions.py\u001b[0m in \u001b[0;36mrequest\u001b[0;34m(self, method, url, params, data, headers, cookies, files, auth, timeout, allow_redirects, proxies, hooks, stream, verify, cert, json)\u001b[0m\n\u001b[1;32m    514\u001b[0m             \u001b[0mhooks\u001b[0m\u001b[0;34m=\u001b[0m\u001b[0mhooks\u001b[0m\u001b[0;34m,\u001b[0m\u001b[0;34m\u001b[0m\u001b[0;34m\u001b[0m\u001b[0m\n\u001b[1;32m    515\u001b[0m         )\n\u001b[0;32m--> 516\u001b[0;31m         \u001b[0mprep\u001b[0m \u001b[0;34m=\u001b[0m \u001b[0mself\u001b[0m\u001b[0;34m.\u001b[0m\u001b[0mprepare_request\u001b[0m\u001b[0;34m(\u001b[0m\u001b[0mreq\u001b[0m\u001b[0;34m)\u001b[0m\u001b[0;34m\u001b[0m\u001b[0;34m\u001b[0m\u001b[0m\n\u001b[0m\u001b[1;32m    517\u001b[0m \u001b[0;34m\u001b[0m\u001b[0m\n\u001b[1;32m    518\u001b[0m         \u001b[0mproxies\u001b[0m \u001b[0;34m=\u001b[0m \u001b[0mproxies\u001b[0m \u001b[0;32mor\u001b[0m \u001b[0;34m{\u001b[0m\u001b[0;34m}\u001b[0m\u001b[0;34m\u001b[0m\u001b[0;34m\u001b[0m\u001b[0m\n",
      "\u001b[0;32m~/Library/Caches/pypoetry/virtualenvs/pdddf-rsXREmUU-py3.8/lib/python3.8/site-packages/requests/sessions.py\u001b[0m in \u001b[0;36mprepare_request\u001b[0;34m(self, request)\u001b[0m\n\u001b[1;32m    447\u001b[0m \u001b[0;34m\u001b[0m\u001b[0m\n\u001b[1;32m    448\u001b[0m         \u001b[0mp\u001b[0m \u001b[0;34m=\u001b[0m \u001b[0mPreparedRequest\u001b[0m\u001b[0;34m(\u001b[0m\u001b[0;34m)\u001b[0m\u001b[0;34m\u001b[0m\u001b[0;34m\u001b[0m\u001b[0m\n\u001b[0;32m--> 449\u001b[0;31m         p.prepare(\n\u001b[0m\u001b[1;32m    450\u001b[0m             \u001b[0mmethod\u001b[0m\u001b[0;34m=\u001b[0m\u001b[0mrequest\u001b[0m\u001b[0;34m.\u001b[0m\u001b[0mmethod\u001b[0m\u001b[0;34m.\u001b[0m\u001b[0mupper\u001b[0m\u001b[0;34m(\u001b[0m\u001b[0;34m)\u001b[0m\u001b[0;34m,\u001b[0m\u001b[0;34m\u001b[0m\u001b[0;34m\u001b[0m\u001b[0m\n\u001b[1;32m    451\u001b[0m             \u001b[0murl\u001b[0m\u001b[0;34m=\u001b[0m\u001b[0mrequest\u001b[0m\u001b[0;34m.\u001b[0m\u001b[0murl\u001b[0m\u001b[0;34m,\u001b[0m\u001b[0;34m\u001b[0m\u001b[0;34m\u001b[0m\u001b[0m\n",
      "\u001b[0;32m~/Library/Caches/pypoetry/virtualenvs/pdddf-rsXREmUU-py3.8/lib/python3.8/site-packages/requests/models.py\u001b[0m in \u001b[0;36mprepare\u001b[0;34m(self, method, url, headers, files, data, params, auth, cookies, hooks, json)\u001b[0m\n\u001b[1;32m    315\u001b[0m         \u001b[0mself\u001b[0m\u001b[0;34m.\u001b[0m\u001b[0mprepare_headers\u001b[0m\u001b[0;34m(\u001b[0m\u001b[0mheaders\u001b[0m\u001b[0;34m)\u001b[0m\u001b[0;34m\u001b[0m\u001b[0;34m\u001b[0m\u001b[0m\n\u001b[1;32m    316\u001b[0m         \u001b[0mself\u001b[0m\u001b[0;34m.\u001b[0m\u001b[0mprepare_cookies\u001b[0m\u001b[0;34m(\u001b[0m\u001b[0mcookies\u001b[0m\u001b[0;34m)\u001b[0m\u001b[0;34m\u001b[0m\u001b[0;34m\u001b[0m\u001b[0m\n\u001b[0;32m--> 317\u001b[0;31m         \u001b[0mself\u001b[0m\u001b[0;34m.\u001b[0m\u001b[0mprepare_body\u001b[0m\u001b[0;34m(\u001b[0m\u001b[0mdata\u001b[0m\u001b[0;34m,\u001b[0m \u001b[0mfiles\u001b[0m\u001b[0;34m,\u001b[0m \u001b[0mjson\u001b[0m\u001b[0;34m)\u001b[0m\u001b[0;34m\u001b[0m\u001b[0;34m\u001b[0m\u001b[0m\n\u001b[0m\u001b[1;32m    318\u001b[0m         \u001b[0mself\u001b[0m\u001b[0;34m.\u001b[0m\u001b[0mprepare_auth\u001b[0m\u001b[0;34m(\u001b[0m\u001b[0mauth\u001b[0m\u001b[0;34m,\u001b[0m \u001b[0murl\u001b[0m\u001b[0;34m)\u001b[0m\u001b[0;34m\u001b[0m\u001b[0;34m\u001b[0m\u001b[0m\n\u001b[1;32m    319\u001b[0m \u001b[0;34m\u001b[0m\u001b[0m\n",
      "\u001b[0;32m~/Library/Caches/pypoetry/virtualenvs/pdddf-rsXREmUU-py3.8/lib/python3.8/site-packages/requests/models.py\u001b[0m in \u001b[0;36mprepare_body\u001b[0;34m(self, data, files, json)\u001b[0m\n\u001b[1;32m    503\u001b[0m             \u001b[0;31m# Multi-part file uploads.\u001b[0m\u001b[0;34m\u001b[0m\u001b[0;34m\u001b[0m\u001b[0;34m\u001b[0m\u001b[0m\n\u001b[1;32m    504\u001b[0m             \u001b[0;32mif\u001b[0m \u001b[0mfiles\u001b[0m\u001b[0;34m:\u001b[0m\u001b[0;34m\u001b[0m\u001b[0;34m\u001b[0m\u001b[0m\n\u001b[0;32m--> 505\u001b[0;31m                 \u001b[0;34m(\u001b[0m\u001b[0mbody\u001b[0m\u001b[0;34m,\u001b[0m \u001b[0mcontent_type\u001b[0m\u001b[0;34m)\u001b[0m \u001b[0;34m=\u001b[0m \u001b[0mself\u001b[0m\u001b[0;34m.\u001b[0m\u001b[0m_encode_files\u001b[0m\u001b[0;34m(\u001b[0m\u001b[0mfiles\u001b[0m\u001b[0;34m,\u001b[0m \u001b[0mdata\u001b[0m\u001b[0;34m)\u001b[0m\u001b[0;34m\u001b[0m\u001b[0;34m\u001b[0m\u001b[0m\n\u001b[0m\u001b[1;32m    506\u001b[0m             \u001b[0;32melse\u001b[0m\u001b[0;34m:\u001b[0m\u001b[0;34m\u001b[0m\u001b[0;34m\u001b[0m\u001b[0m\n\u001b[1;32m    507\u001b[0m                 \u001b[0;32mif\u001b[0m \u001b[0mdata\u001b[0m\u001b[0;34m:\u001b[0m\u001b[0;34m\u001b[0m\u001b[0;34m\u001b[0m\u001b[0m\n",
      "\u001b[0;32m~/Library/Caches/pypoetry/virtualenvs/pdddf-rsXREmUU-py3.8/lib/python3.8/site-packages/requests/models.py\u001b[0m in \u001b[0;36m_encode_files\u001b[0;34m(files, data)\u001b[0m\n\u001b[1;32m    157\u001b[0m                 \u001b[0mfdata\u001b[0m \u001b[0;34m=\u001b[0m \u001b[0mfp\u001b[0m\u001b[0;34m\u001b[0m\u001b[0;34m\u001b[0m\u001b[0m\n\u001b[1;32m    158\u001b[0m             \u001b[0;32melif\u001b[0m \u001b[0mhasattr\u001b[0m\u001b[0;34m(\u001b[0m\u001b[0mfp\u001b[0m\u001b[0;34m,\u001b[0m \u001b[0;34m'read'\u001b[0m\u001b[0;34m)\u001b[0m\u001b[0;34m:\u001b[0m\u001b[0;34m\u001b[0m\u001b[0;34m\u001b[0m\u001b[0m\n\u001b[0;32m--> 159\u001b[0;31m                 \u001b[0mfdata\u001b[0m \u001b[0;34m=\u001b[0m \u001b[0mfp\u001b[0m\u001b[0;34m.\u001b[0m\u001b[0mread\u001b[0m\u001b[0;34m(\u001b[0m\u001b[0;34m)\u001b[0m\u001b[0;34m\u001b[0m\u001b[0;34m\u001b[0m\u001b[0m\n\u001b[0m\u001b[1;32m    160\u001b[0m             \u001b[0;32melif\u001b[0m \u001b[0mfp\u001b[0m \u001b[0;32mis\u001b[0m \u001b[0;32mNone\u001b[0m\u001b[0;34m:\u001b[0m\u001b[0;34m\u001b[0m\u001b[0;34m\u001b[0m\u001b[0m\n\u001b[1;32m    161\u001b[0m                 \u001b[0;32mcontinue\u001b[0m\u001b[0;34m\u001b[0m\u001b[0;34m\u001b[0m\u001b[0m\n",
      "\u001b[0;32m/usr/local/Cellar/python@3.8/3.8.4/Frameworks/Python.framework/Versions/3.8/lib/python3.8/codecs.py\u001b[0m in \u001b[0;36mdecode\u001b[0;34m(self, input, final)\u001b[0m\n\u001b[1;32m    320\u001b[0m         \u001b[0;31m# decode input (taking the buffer into account)\u001b[0m\u001b[0;34m\u001b[0m\u001b[0;34m\u001b[0m\u001b[0;34m\u001b[0m\u001b[0m\n\u001b[1;32m    321\u001b[0m         \u001b[0mdata\u001b[0m \u001b[0;34m=\u001b[0m \u001b[0mself\u001b[0m\u001b[0;34m.\u001b[0m\u001b[0mbuffer\u001b[0m \u001b[0;34m+\u001b[0m \u001b[0minput\u001b[0m\u001b[0;34m\u001b[0m\u001b[0;34m\u001b[0m\u001b[0m\n\u001b[0;32m--> 322\u001b[0;31m         \u001b[0;34m(\u001b[0m\u001b[0mresult\u001b[0m\u001b[0;34m,\u001b[0m \u001b[0mconsumed\u001b[0m\u001b[0;34m)\u001b[0m \u001b[0;34m=\u001b[0m \u001b[0mself\u001b[0m\u001b[0;34m.\u001b[0m\u001b[0m_buffer_decode\u001b[0m\u001b[0;34m(\u001b[0m\u001b[0mdata\u001b[0m\u001b[0;34m,\u001b[0m \u001b[0mself\u001b[0m\u001b[0;34m.\u001b[0m\u001b[0merrors\u001b[0m\u001b[0;34m,\u001b[0m \u001b[0mfinal\u001b[0m\u001b[0;34m)\u001b[0m\u001b[0;34m\u001b[0m\u001b[0;34m\u001b[0m\u001b[0m\n\u001b[0m\u001b[1;32m    323\u001b[0m         \u001b[0;31m# keep undecoded input until the next call\u001b[0m\u001b[0;34m\u001b[0m\u001b[0;34m\u001b[0m\u001b[0;34m\u001b[0m\u001b[0m\n\u001b[1;32m    324\u001b[0m         \u001b[0mself\u001b[0m\u001b[0;34m.\u001b[0m\u001b[0mbuffer\u001b[0m \u001b[0;34m=\u001b[0m \u001b[0mdata\u001b[0m\u001b[0;34m[\u001b[0m\u001b[0mconsumed\u001b[0m\u001b[0;34m:\u001b[0m\u001b[0;34m]\u001b[0m\u001b[0;34m\u001b[0m\u001b[0;34m\u001b[0m\u001b[0m\n",
      "\u001b[0;31mUnicodeDecodeError\u001b[0m: 'utf-8' codec can't decode byte 0xbf in position 10: invalid start byte"
     ]
    }
   ],
   "source": [
    "response = requests.post('http://localhost:1616', files=files, data={'lang': 'de'})"
   ]
  },
  {
   "cell_type": "code",
   "execution_count": 16,
   "metadata": {},
   "outputs": [],
   "source": [
    "id = response.json()['id']"
   ]
  },
  {
   "cell_type": "code",
   "execution_count": 12,
   "metadata": {},
   "outputs": [
    {
     "data": {
      "text/plain": [
       "'LsWd4fxRWueYH4wwUZwmhg'"
      ]
     },
     "execution_count": 12,
     "metadata": {},
     "output_type": "execute_result"
    }
   ],
   "source": [
    "id"
   ]
  },
  {
   "cell_type": "code",
   "execution_count": 13,
   "metadata": {},
   "outputs": [
    {
     "name": "stdout",
     "output_type": "stream",
     "text": [
      "waiting...\n",
      "waiting...\n",
      "waiting...\n",
      "waiting...\n",
      "waiting...\n",
      "waiting...\n",
      "waiting...\n",
      "waiting...\n",
      "waiting...\n",
      "waiting...\n",
      "waiting...\n",
      "waiting...\n",
      "waiting...\n",
      "waiting...\n",
      "waiting...\n",
      "waiting...\n",
      "waiting...\n",
      "waiting...\n",
      "waiting...\n",
      "Gravenbrucher Kreis\n",
      "\n",
      "Stellungnahme des Gravenbrucher Kreis zum Referentenentwurf eines Gesetzes zur Verbesserung der Rechtssicherheit bei Anfechtungen nach der Insolvenzordnung und nach dem Anfechtungsgesetz vom 16.03.2015\n",
      "\n",
      "I. Vorbemerkung\n",
      "\n",
      "Der Gravenbrucher Kreis hatte sich bereits unter dem 5. August 2014 umfangreich zu einer möglichen Reform des Insolvenzanfechtungsrechts positioniert. Bevor auf die Einzelheiten des nunmehr zur Stellungnahme vorgelegten Referentenentwurfs eingegangen wird, sollen die wichtigsten Punkte unseres Papiers vom 5. August 2014 vorab nochmals aufgegriffen werden:\n",
      "\n",
      "1. Bedeutung des Anfechtungsrechts im System der Insolvenzordnung\n",
      "\n",
      "Das Recht der Insolvenzanfechtung stellt ein wesentliches Fundament für die Funktionsfähigkeit der Insolvenzordnung dar und erfüllt zentrale ordnungspolitische Funktionen. Es liegt auf der Hand, dass insbesondere bestimmte sozial inadäquate Verhaltensweisen des Schuldners in einer späteren Insolvenz rückgängig gemacht werden müssen, um dem Prinzip der Gläubigergleichbehandlung zu seiner Durchsetzung zu verhelfen.\n",
      "\n",
      "Darüber hinaus können die Anfechtungsvorschriften eine frühzeitige Insolvenzantragstellung sicherstellen. Gerät ein Unternehmen in die Krise, müssen sich seine Vertragspartner darauf einstellen, möglicherweise zu einem späteren Zeitpunkt Insolvenzanfechtungsansprüchen ausgesetzt zu sein. Ist dieses Risiko hoch, werden sie möglicherweise keine Geschäfte mehr mit dem Krisenunternehmen machen oder selbst einen Insolvenzantrag stellen. Die Anfechtungsvorschriften müssen insoweit angemessen sein, als sie eine Fortführung von Unternehmen, die auch außerhalb eines Insolvenzverfahrens eine Sanierungsaussicht haben, nicht behindern. Umgekehrt darf gut informierten oder durchsetzungsstarken\n",
      "\n",
      "Gläubigern kein übermäßiger Anreiz gesetzt werden, mit einem Unter-\n",
      "\n",
      "SPRECHER\n",
      "\n",
      "RA Prof. Dr. Lucas F. Fiéther Franzosenweg 20\n",
      "06112 Halle\n",
      "Tel +49 (0)345 21222-0\n",
      "Fax +49 (0)345 21222-395\n",
      "\n",
      "www.gravenbrucher-kreis.de\n",
      "gk@ floether-wissing.de\n",
      "\n",
      "AKTIVE MITGLTEDER:\n",
      "\n",
      "RA Prof. Dr. Siegfried Beck\n",
      "RA > Axel W. Bierbach\n",
      "RA Joachim Exner\n",
      "RA Udo Feser\n",
      "RA Prof, Dr. Lucas F. Flöther RA Dr. Michael Ü, Frege\n",
      "WP StB Arndt Geiwitz\n",
      "RA WR StB OLtmar Hermann\n",
      "RA Tobias tloefer\n",
      "RA Dr. Michael Jaffé\n",
      "RA Dr. Frank Kebekus\n",
      "RA Dr. Bruno M, Kübler\n",
      "RA Prof. Dr. Rolf Dieter Minning KA Dr, Jörg Nerlich\n",
      "RA Horst Piepenburg\n",
      "RA Michael Pluta\n",
      "RA Dr. Andreas Ringstmeier\n",
      "RA Christopher Seagon\n",
      "RA Dr. Sven-Holger Undritz\n",
      "RA Rüdiger Wienberg\n",
      "\n",
      "PRSSIVE MITGLIEDER:\n",
      "\n",
      "RAin Barbara Beutler\n",
      "RA Joachim G. Brandenburg\n",
      "RA Dr. Volker Grub\n",
      "RA Horst M. Johike\n",
      "RA Heinrich Müller-Feyen\n",
      "RA Dr. Wolfgang Petereit\n",
      "RA flans-F. Runkel\n",
      "WP StB Werner Schneider\n",
      "RA Dr. Gerd Gustav Weiland\n",
      "RA Dr. Jobst Wellensiek\n",
      "\n",
      "N\n",
      "Gravenbrucher Kr\n",
      "\n",
      "nehmen, das sich in der schweren Krise befindet, weiter in einer Weise Geschäfte zu machen, die die anderen Gläubiger, die schlechter informiert oder weniger durchsetzungsstark sind, benachteiligen (vgl. Kirchhof, MüKo-InsO, Vorb. 88 129 ff., Rn. 2). Die Anfechtungsvorschriften dienen insoweit auch dem Schutz der „schwachen“ Gläubiger, wie etwa der Arbeitnehmer des Insolvenzschuldners.\n",
      "\n",
      "Schließlich darf man nicht übersehen, dass sämtliche ungesicherten Gläubiger des Unternehmens von den Anfechtungsvorschriften profitieren. Jede Schwächung der Anfechtungsvorschriften führt dazu, dass die ungesicherten Gläubiger, zu denen beispielsweise auch die Arbeitnehmer oder die Finanzverwaltung und andere öffentliche Stellen gehören, eine schlechtere Quote erhalten.\n",
      "\n",
      "2. Regelungsbedarf\n",
      "\n",
      "Ungeachtet der hieraus folgenden positiven Implikationen des geltenden Anfechtungsrechts für die Ziele der Insolvenzordnung, allem voran dem Grundsatz der Gläubigergleichbehandlung, kann der Gravenbrucher Kreis nachvollziehen, dass die derzeitige gesetzliche Regelung in Einzelfällen zu Ergebnissen führen kann, die die Beteiligten unangemessen belasten. Dies gilt vor allem für solche Rechtsbeziehungen, die auch in Kenntnis der Krise fortgesetzt werden, um das Überleben des in Schieflage befindlichen Geschäftspartners zu sichern.\n",
      "\n",
      "Il. Einschätzung des Gesetzesentwurfs\n",
      "\n",
      "Dies vorausgeschickt, begrüßt der Gravenbrucher Kreis den vorgelegten Gesetzesentwurf und unterstützt das Anliegen, die aktuell bestehenden Regelungsdefizite durch maßvolle Korrekturen des geltenden Rechts zu beseitigen.\n",
      "\n",
      "Der Gravenbrucher Kreis nimmt dabei zur Kenntnis, dass ein Großteil der auch in seinem Positionspapier vom 5. August 2014 genannten Aspekte zur Reform des Insolvenzanfechtungsrechts aufgegriffen wurde. Das Insolvenzanfechtungsrecht als tragende Säule des geltenden Insolvenzrechts bleibt damit erhalten.\n",
      "\n",
      "Gravenbrucher Kr\n",
      "\n",
      "Nachfolgend beschränkt sich der Gravenbrucher Kreis auf die wenigen aus unserer Sicht kritischen Punkte. Im Übrigen sollten die neuen Regelungen nach einer gewissen Zeit, beispielsweise fünf Jahre nach Inkrafttreten der avisierten Reform, anhand der bis dahin aufgetretenen praktischen Erfahrungen nochmals auf den Prüfstand gestellt werden, um ggf. erforderliche Anpassungen zu diskutieren.\n",
      "\n",
      "Im Einzelnen:\n",
      "\n",
      "Änderung von § 133 InsO:\n",
      "\n",
      "„(1) Anfechtbar ist eine Rechtshandlung, die der Schuldner in den letzten zehn Jahren vor dem Antrag auf Eröffnung des Insolvenzverfahrens oder nach diesem Antrag mit dem Vorsatz, seine Gläubiger unangemessen zu benachteiligen, vorgenommen hat, wenn der andere Teil zur Zeit der Handlung den Vorsatz des Schuldners kannte. Diese-Kenntnis-wird-vermu-ann Sar oe\n",
      "\n",
      "1. für eine Leistung des Schuldners unmittelbar eine gleichwertige Gegenleistung in sein Vermögen gelangt, die zur Fortführung seines Unternehmens oder zur Sicherung seines Lebensbedarfs erforderlich ist, oder\n",
      "\n",
      "2. die Rechtshandlung Bestandteil eines ernsthaften Sanierungsversuchs ist.\n",
      "\n",
      "\n"
     ]
    }
   ],
   "source": [
    "while True:\n",
    "    r = requests.get(f\"http://localhost:1616/update/{id}\")\n",
    "    j = r.json()\n",
    "    if 'text' in j:\n",
    "        break\n",
    "    print('waiting...')\n",
    "    # print(j['log'])\n",
    "    time.sleep(1)\n",
    "print(j['text'])"
   ]
  },
  {
   "cell_type": "code",
   "execution_count": null,
   "metadata": {},
   "outputs": [],
   "source": []
  },
  {
   "cell_type": "code",
   "execution_count": null,
   "metadata": {},
   "outputs": [],
   "source": []
  }
 ],
 "metadata": {
  "kernelspec": {
   "display_name": "Python 3",
   "language": "python",
   "name": "python3"
  },
  "language_info": {
   "codemirror_mode": {
    "name": "ipython",
    "version": 3
   },
   "file_extension": ".py",
   "mimetype": "text/x-python",
   "name": "python",
   "nbconvert_exporter": "python",
   "pygments_lexer": "ipython3",
   "version": "3.8.4"
  }
 },
 "nbformat": 4,
 "nbformat_minor": 4
}
