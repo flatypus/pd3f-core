{
 "cells": [
  {
   "cell_type": "code",
   "execution_count": 1,
   "metadata": {},
   "outputs": [],
   "source": [
    "from dehyphen import *"
   ]
  },
  {
   "cell_type": "code",
   "execution_count": 3,
   "metadata": {},
   "outputs": [],
   "source": [
    "some_german_text = \"\"\"K I StGB §§ 331 ff.\n",
    "Entwurf eines Gesetzes zur Bekampfung der Korruption - Referentenentwurf des BMJV\n",
    "\"\"\"\n",
    "\n",
    "special_format = text_to_format(some_german_text)\n",
    "fixed = dehyphen(special_format, lang=\"de\") # you may pass a `lang` argument"
   ]
  },
  {
   "cell_type": "code",
   "execution_count": 4,
   "metadata": {},
   "outputs": [
    {
     "data": {
      "text/plain": [
       "[[['K', 'I', 'StGB', '§§', '331', 'ff. '],\n",
       "  ['Entwurf',\n",
       "   'eines',\n",
       "   'Gesetzes',\n",
       "   'zur',\n",
       "   'Bekampfung',\n",
       "   'der',\n",
       "   'Korruption',\n",
       "   '-',\n",
       "   'Referentenentwurf',\n",
       "   'des',\n",
       "   'BMJV']]]"
      ]
     },
     "execution_count": 4,
     "metadata": {},
     "output_type": "execute_result"
    }
   ],
   "source": [
    "fixed"
   ]
  },
  {
   "cell_type": "code",
   "execution_count": null,
   "metadata": {},
   "outputs": [],
   "source": []
  }
 ],
 "metadata": {
  "kernelspec": {
   "display_name": "Python 3",
   "language": "python",
   "name": "python3"
  },
  "language_info": {
   "codemirror_mode": {
    "name": "ipython",
    "version": 3
   },
   "file_extension": ".py",
   "mimetype": "text/x-python",
   "name": "python",
   "nbconvert_exporter": "python",
   "pygments_lexer": "ipython3",
   "version": "3.8.4"
  }
 },
 "nbformat": 4,
 "nbformat_minor": 4
}
